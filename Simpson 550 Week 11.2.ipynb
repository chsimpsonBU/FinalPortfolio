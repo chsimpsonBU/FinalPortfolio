{
 "cells": [
  {
   "cell_type": "markdown",
   "id": "897311a2",
   "metadata": {},
   "source": [
    "### Simpson 11.2 Exercise: Building a CNN Image Classifier"
   ]
  },
  {
   "cell_type": "markdown",
   "id": "022e0e14",
   "metadata": {},
   "source": [
    "Step 1: Load the MNIST dataset\n",
    "First, we need to load the MNIST dataset. "
   ]
  },
  {
   "cell_type": "code",
   "execution_count": 3,
   "id": "6127c9c1",
   "metadata": {},
   "outputs": [
    {
     "name": "stdout",
     "output_type": "stream",
     "text": [
      "Downloading data from https://storage.googleapis.com/tensorflow/tf-keras-datasets/mnist.npz\n",
      "11490434/11490434 [==============================] - 0s 0us/step\n"
     ]
    }
   ],
   "source": [
    "from tensorflow.keras.datasets import mnist\n",
    "\n",
    "# Load the MNIST dataset\n",
    "(x_train, y_train), (x_test, y_test) = mnist.load_data()\n"
   ]
  },
  {
   "cell_type": "markdown",
   "id": "55ab5a4d",
   "metadata": {},
   "source": [
    "Step 2: Display the first five images and labels"
   ]
  },
  {
   "cell_type": "code",
   "execution_count": 4,
   "id": "04d52d14",
   "metadata": {
    "scrolled": true
   },
   "outputs": [
    {
     "data": {
      "image/png": "[encoded data removed]",
      "text/plain": [
       "<Figure size 640x480 with 5 Axes>"
      ]
     },
     "metadata": {},
     "output_type": "display_data"
    }
   ],
   "source": [
    "import matplotlib.pyplot as plt\n",
    "\n",
    "# Displaying the first five images and labels\n",
    "for i in range(5):\n",
    "    plt.subplot(1, 5, i+1)\n",
    "    plt.imshow(x_train[i], cmap='gray')\n",
    "    plt.title(str(y_train[i]))\n",
    "    plt.axis('off')\n",
    "\n",
    "plt.show()\n"
   ]
  },
  {
   "cell_type": "markdown",
   "id": "a0e2f3f3",
   "metadata": {},
   "source": [
    "Step 3: Build and train a CNN classifier\n",
    "Next, we'll build a CNN classifier using Keras. "
   ]
  },
  {
   "cell_type": "code",
   "execution_count": 6,
   "id": "d7aaeba8",
   "metadata": {},
   "outputs": [
    {
     "name": "stdout",
     "output_type": "stream",
     "text": [
      "Epoch 1/10\n",
      "469/469 [==============================] - 11s 22ms/step - loss: 0.2213 - accuracy: 0.9369\n",
      "Epoch 2/10\n",
      "469/469 [==============================] - 10s 22ms/step - loss: 0.0632 - accuracy: 0.9804\n",
      "Epoch 3/10\n",
      "469/469 [==============================] - 11s 22ms/step - loss: 0.0448 - accuracy: 0.9864\n",
      "Epoch 4/10\n",
      "469/469 [==============================] - 11s 24ms/step - loss: 0.0347 - accuracy: 0.9893\n",
      "Epoch 5/10\n",
      "469/469 [==============================] - 11s 23ms/step - loss: 0.0276 - accuracy: 0.9916\n",
      "Epoch 6/10\n",
      "469/469 [==============================] - 11s 23ms/step - loss: 0.0225 - accuracy: 0.9929\n",
      "Epoch 7/10\n",
      "469/469 [==============================] - 11s 23ms/step - loss: 0.0185 - accuracy: 0.9942\n",
      "Epoch 8/10\n",
      "469/469 [==============================] - 11s 23ms/step - loss: 0.0159 - accuracy: 0.9950\n",
      "Epoch 9/10\n",
      "469/469 [==============================] - 11s 23ms/step - loss: 0.0129 - accuracy: 0.9958\n",
      "Epoch 10/10\n",
      "469/469 [==============================] - 11s 23ms/step - loss: 0.0098 - accuracy: 0.9968\n"
     ]
    },
    {
     "data": {
      "text/plain": [
       "<keras.callbacks.History at 0x192094431c0>"
      ]
     },
     "execution_count": 6,
     "metadata": {},
     "output_type": "execute_result"
    }
   ],
   "source": [
    "from tensorflow.keras.models import Sequential\n",
    "from tensorflow.keras.layers import Conv2D, MaxPooling2D, Flatten, Dense\n",
    "\n",
    "# Reshape the data for CNN input\n",
    "x_train = x_train.reshape(-1, 28, 28, 1)\n",
    "x_test = x_test.reshape(-1, 28, 28, 1)\n",
    "\n",
    "# Normalize pixel values between 0 and 1 (my preferance)\n",
    "x_train = x_train / 255.0\n",
    "x_test = x_test / 255.0\n",
    "\n",
    "# Define the CNN model\n",
    "model = Sequential()\n",
    "model.add(Conv2D(32, (3, 3), activation='relu', input_shape=(28, 28, 1)))\n",
    "model.add(MaxPooling2D((2, 2)))\n",
    "model.add(Conv2D(64, (3, 3), activation='relu'))\n",
    "model.add(MaxPooling2D((2, 2)))\n",
    "model.add(Flatten())\n",
    "model.add(Dense(64, activation='relu'))\n",
    "model.add(Dense(10, activation='softmax'))\n",
    "\n",
    "# Compile the model\n",
    "model.compile(optimizer='adam', loss='sparse_categorical_crossentropy', metrics=['accuracy'])\n",
    "\n",
    "# Train the model\n",
    "model.fit(x_train, y_train, epochs=10, batch_size=128)\n"
   ]
  },
  {
   "cell_type": "markdown",
   "id": "3af75299",
   "metadata": {},
   "source": [
    "Step 4: We need to report the test accuracy\n",
    "To report the test accuracy of your model, you can use the evaluate function in Keras."
   ]
  },
  {
   "cell_type": "code",
   "execution_count": 7,
   "id": "72d13531",
   "metadata": {
    "scrolled": true
   },
   "outputs": [
    {
     "name": "stdout",
     "output_type": "stream",
     "text": [
      "313/313 [==============================] - 1s 3ms/step - loss: 0.0397 - accuracy: 0.9889\n",
      "Test Accuracy: 0.9889000058174133\n"
     ]
    }
   ],
   "source": [
    "# Evaluate the model on the test set\n",
    "test_loss, test_accuracy = model.evaluate(x_test, y_test)\n",
    "print(\"Test Accuracy:\", test_accuracy)\n"
   ]
  },
  {
   "cell_type": "markdown",
   "id": "f861fcc7",
   "metadata": {},
   "source": [
    "Step 5: Display a confusion matrix"
   ]
  },
  {
   "cell_type": "code",
   "execution_count": 8,
   "id": "655f6c2b",
   "metadata": {
    "scrolled": true
   },
   "outputs": [
    {
     "name": "stdout",
     "output_type": "stream",
     "text": [
      "313/313 [==============================] - 1s 3ms/step\n"
     ]
    },
    {
     "data": {
      "image/png": "[encoded data removed]",
      "text/plain": [
       "<Figure size 640x480 with 2 Axes>"
      ]
     },
     "metadata": {},
     "output_type": "display_data"
    }
   ],
   "source": [
    "from sklearn.metrics import confusion_matrix\n",
    "import numpy as np\n",
    "\n",
    "# Perform predictions on the test set\n",
    "y_pred = np.argmax(model.predict(x_test), axis=-1)\n",
    "\n",
    "# Create the confusion matrix\n",
    "cm = confusion_matrix(y_test, y_pred)\n",
    "\n",
    "# Display the confusion matrix\n",
    "plt.imshow(cm, interpolation='nearest', cmap=plt.cm.Blues)\n",
    "plt.title(\"Confusion Matrix\")\n",
    "plt.colorbar()\n",
    "plt.xlabel(\"Predicted Label\")\n",
    "plt.ylabel(\"True Label\")\n",
    "plt.show()\n"
   ]
  },
  {
   "cell_type": "markdown",
   "id": "0d9dad3a",
   "metadata": {},
   "source": [
    "### Summary"
   ]
  },
  {
   "cell_type": "markdown",
   "id": "08040975",
   "metadata": {},
   "source": [
    "After being trained for 10 epochs utilizing the MNIST training dataset, considerable progress was demonstrated in minimizing errors throughout the training process.\n",
    "\n",
    "The model exhibited a remarkable decrease in the training loss - a metric used to measure disparities between predicted and actual labels. Starting with an original value of 0.2213, the value progressively decreased to an impressively low value of 0.0098. This decrease indicates that over time, the model better learned how to make more accurate predictions – ultimately approaching high precision.\n",
    "\n",
    "As the number of epochs progressed, there was a noticeable improvement in the model's accuracy rate in recognizing and distinguishing between various handwritten digits from the MNIST dataset. The increase, which was substantial, signaled that the model had become increasingly proficient at identifying numerical symbols with precision. Its accuracy rate well over 99%, serves as a testament to its reliability in accurately classifying each digit.\n"
   ]
  }
 ],
 "metadata": {
  "kernelspec": {
   "display_name": "Python 3 (ipykernel)",
   "language": "python",
   "name": "python3"
  },
  "language_info": {
   "codemirror_mode": {
    "name": "ipython",
    "version": 3
   },
   "file_extension": ".py",
   "mimetype": "text/x-python",
   "name": "python",
   "nbconvert_exporter": "python",
   "pygments_lexer": "ipython3",
   "version": "3.9.13"
  }
 },
 "nbformat": 4,
 "nbformat_minor": 5
}
