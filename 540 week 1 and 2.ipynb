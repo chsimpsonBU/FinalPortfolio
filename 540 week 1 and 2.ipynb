{
 "cells": [
  {
   "cell_type": "markdown",
   "id": "b36a874a",
   "metadata": {},
   "source": [
    "<h1 style=\"font-size:3rem;color:black;\"> Simpson 540 Weeks 1 & 2</h1>"
   ]
  },
  {
   "cell_type": "markdown",
   "id": "4fe1595d",
   "metadata": {},
   "source": [
    "### 1.) Create a Jupyter notebook where you create a list, iterate over the list and sort your results, generate random numbers, add to the list, and then print your results."
   ]
  },
  {
   "cell_type": "code",
   "execution_count": 25,
   "id": "f87596d0",
   "metadata": {},
   "outputs": [
    {
     "name": "stdout",
     "output_type": "stream",
     "text": [
      "Here it is: \n",
      "99 117 72 41 149 "
     ]
    }
   ],
   "source": [
    "\n",
    "import random \n",
    "\n",
    "#Start with a function?\n",
    "def generateRandomList(num, start, end): \n",
    "\n",
    "    empty = [] \n",
    "    dumpnum = random.randint(start, end) \n",
    "#Need to remove duplicate numbers    \n",
    "    for x in range(num): \n",
    "          \n",
    "        while dumpnum in empty: \n",
    "            dumpnum = random.randint(start, end) \n",
    "              \n",
    "        empty.append(dumpnum) \n",
    "      \n",
    "    return empty \n",
    "#Let's call it\n",
    "randomnums = generateRandomList(5, 25, 200)\n",
    "\n",
    "print(\"Here it is: \")\n",
    "for num in randomnums:\n",
    "    print(num, end =\" \")"
   ]
  },
  {
   "cell_type": "markdown",
   "id": "d547dca4",
   "metadata": {},
   "source": [
    "### 2.) Create a line chart with Matplotlib and the following data file."
   ]
  },
  {
   "cell_type": "code",
   "execution_count": 2,
   "id": "18cf3fce",
   "metadata": {},
   "outputs": [],
   "source": [
    "#installed matplotlib, remove install lines later\n",
    "#import the pandas\n",
    "import pandas"
   ]
  },
  {
   "cell_type": "code",
   "execution_count": 15,
   "id": "8c6999bc",
   "metadata": {},
   "outputs": [
    {
     "data": {
      "text/html": [
       "<div>\n",
       "<style scoped>\n",
       "    .dataframe tbody tr th:only-of-type {\n",
       "        vertical-align: middle;\n",
       "    }\n",
       "\n",
       "    .dataframe tbody tr th {\n",
       "        vertical-align: top;\n",
       "    }\n",
       "\n",
       "    .dataframe thead th {\n",
       "        text-align: right;\n",
       "    }\n",
       "</style>\n",
       "<table border=\"1\" class=\"dataframe\">\n",
       "  <thead>\n",
       "    <tr style=\"text-align: right;\">\n",
       "      <th></th>\n",
       "      <th>Year</th>\n",
       "    </tr>\n",
       "  </thead>\n",
       "  <tbody>\n",
       "    <tr>\n",
       "      <th>0</th>\n",
       "      <td>1960</td>\n",
       "    </tr>\n",
       "    <tr>\n",
       "      <th>1</th>\n",
       "      <td>1961</td>\n",
       "    </tr>\n",
       "    <tr>\n",
       "      <th>2</th>\n",
       "      <td>1962</td>\n",
       "    </tr>\n",
       "    <tr>\n",
       "      <th>3</th>\n",
       "      <td>1963</td>\n",
       "    </tr>\n",
       "    <tr>\n",
       "      <th>4</th>\n",
       "      <td>1964</td>\n",
       "    </tr>\n",
       "  </tbody>\n",
       "</table>\n",
       "</div>"
      ],
      "text/plain": [
       "   Year\n",
       "0  1960\n",
       "1  1961\n",
       "2  1962\n",
       "3  1963\n",
       "4  1964"
      ]
     },
     "execution_count": 15,
     "metadata": {},
     "output_type": "execute_result"
    }
   ],
   "source": [
    "#Splitting data set into variables for plotting\n",
    "year = pandas.read_excel(\"world-population.xlsx\", usecols = ['Year'])\n",
    "population = pandas.read_excel(\"world-population.xlsx\", usecols = ['Population'])\n",
    "population.head(5)\n",
    "year.head(5)\n",
    "#My word it worked!"
   ]
  },
  {
   "cell_type": "code",
   "execution_count": 17,
   "id": "c84f4dd9",
   "metadata": {},
   "outputs": [
    {
     "data": {
      "image/png": "[encoded data removed]",
      "text/plain": [
       "<Figure size 640x480 with 1 Axes>"
      ]
     },
     "metadata": {},
     "output_type": "display_data"
    }
   ],
   "source": [
    "import matplotlib.pyplot as plt\n",
    "\n",
    "x_axis = year\n",
    "y_axis = population\n",
    "\n",
    "plt.plot(x_axis, y_axis)\n",
    "plt.title('Population Growth')\n",
    "plt.xlabel('Billions')\n",
    "plt.ylabel('Decades')\n",
    "plt.show()"
   ]
  },
  {
   "cell_type": "markdown",
   "id": "b10b535f",
   "metadata": {},
   "source": [
    "### Activity 1: Handling Lists"
   ]
  },
  {
   "cell_type": "code",
   "execution_count": 22,
   "id": "8d753b14",
   "metadata": {},
   "outputs": [],
   "source": [
    "# We're working with random nums again- start import\n",
    "import random\n",
    "STOP=125\n",
    "ranNums = [random.randint(0, STOP) for x in range(0, STOP)]\n",
    "#check what's in the variable, don't output for homework too long\n",
    "#print(ranNums)"
   ]
  },
  {
   "cell_type": "code",
   "execution_count": 23,
   "id": "1fb0f3b4",
   "metadata": {},
   "outputs": [
    {
     "data": {
      "text/plain": [
       "[54,\n",
       " 108,\n",
       " 90,\n",
       " 117,\n",
       " 75,\n",
       " 51,\n",
       " 0,\n",
       " 9,\n",
       " 57,\n",
       " 90,\n",
       " 9,\n",
       " 78,\n",
       " 12,\n",
       " 6,\n",
       " 0,\n",
       " 36,\n",
       " 72,\n",
       " 36,\n",
       " 66,\n",
       " 96,\n",
       " 75,\n",
       " 48,\n",
       " 105,\n",
       " 96,\n",
       " 90,\n",
       " 78,\n",
       " 99,\n",
       " 114,\n",
       " 105,\n",
       " 48,\n",
       " 117,\n",
       " 33,\n",
       " 123,\n",
       " 30,\n",
       " 75,\n",
       " 99]"
      ]
     },
     "execution_count": 23,
     "metadata": {},
     "output_type": "execute_result"
    }
   ],
   "source": [
    "# create a list of numbers that 3 can go into from the original list. \n",
    "divisbythree = [a for a in ranNums if a % 3 == 0]\n",
    "#did this work? add % sign\n",
    "divisbythree\n"
   ]
  },
  {
   "cell_type": "code",
   "execution_count": 28,
   "id": "4b0b117e",
   "metadata": {},
   "outputs": [
    {
     "data": {
      "text/plain": [
       "89"
      ]
     },
     "execution_count": 28,
     "metadata": {},
     "output_type": "execute_result"
    }
   ],
   "source": [
    "#Check the length with len now. \n",
    "ranNums = len(ranNums) = len(divisbythree)\n",
    "#Check that the variables are not empty\n",
    "#now what's the difference?\n",
    "difference = length_of_ranNums - length_of_ranNums_3\n",
    "difference"
   ]
  },
  {
   "cell_type": "code",
   "execution_count": 39,
   "id": "6c11220c",
   "metadata": {},
   "outputs": [
    {
     "data": {
      "text/plain": [
       "[7, 6, 5, 7, 5, 5, 4, 8, 5, 8, 4, 8, 8, 5, 4]"
      ]
     },
     "execution_count": 39,
     "metadata": {},
     "output_type": "execute_result"
    }
   ],
   "source": [
    "#run the loop\n",
    "import random\n",
    "\n",
    "maxExperiments = 15\n",
    "diflist = []\n",
    "for i in range(0, maxExperiments):\n",
    "    ranNums2 = [random.randint(0,LIMIT) for x in range(0,LIMIT)]\n",
    "    divisbythree2 = [a for a in ranNums2 if a % 3 == 0]\n",
    "    \n",
    "    length_of_ranNums2 = len(ranNums2)\n",
    "    length_of_divisbythree2 = len(divisbythree2)\n",
    "    difference2 = length_of_ranNums2 - length_of_divisbythree2\n",
    "    \n",
    "    diflist.append(difference2)\n",
    "diflist    "
   ]
  },
  {
   "cell_type": "code",
   "execution_count": 40,
   "id": "2c802a5b",
   "metadata": {},
   "outputs": [
    {
     "data": {
      "text/plain": [
       "5.933333333333334"
      ]
     },
     "execution_count": 40,
     "metadata": {},
     "output_type": "execute_result"
    }
   ],
   "source": [
    "# What's the common average? #didn't work - what's float? try again.\n",
    "commonAverage = sum(diflist) / float(len(diflist))\n",
    "commonAverage"
   ]
  },
  {
   "cell_type": "markdown",
   "id": "37293d0f",
   "metadata": {},
   "source": [
    "### Activity 2: Analyze String Lines"
   ]
  },
  {
   "cell_type": "code",
   "execution_count": 44,
   "id": "5fe99b79",
   "metadata": {},
   "outputs": [
    {
     "data": {
      "text/plain": [
       "str"
      ]
     },
     "execution_count": 44,
     "metadata": {},
     "output_type": "execute_result"
    }
   ],
   "source": [
    "# Can't copy text with kindle app, google pride prejudice text\n",
    "# Had to format in word before spacing, this reduced count LEN. \n",
    "multiline_text =\"It is a truth universally acknowledged, that a single man in possession of a good fortune, must be in want of a wife. However little known the feelings or views of such a man may be on his first entering a neighbourhood, this truth is so well fixed in the minds of the surrounding families, that he is considered the rightful property of some one or other of their daughters. My dear Mr. Bennet, said his lady to him one day, have you heard that Netherfield Park is let at last? Mr. Bennet replied that he had not.But it is, returned she; for Mrs. Long has just been here, and she told me all about it.Mr. Bennet made no answer.Do you not want to know who has taken it? cried his wife impatiently.YOU want to tell me, and I have no objection to hearing it.This was invitation enough.Why, my dear, you must know, Mrs. Long says that Netherfield is taken by a young man of large fortune from the north of England; that he came down on Monday in a chaise and four to see the place, and was so much delighted with it, that he agreed with Mr. Morris immediately; that he is to take possession before Michaelmas, and some of his servants are to be in the house by the end of next week.What is his name? Bingley. Is he married or single? Oh! Single, my dear, to be sure! A single man of large fortune; four or five thousand a year. What a fine thing for our girls!\"\n",
    "type(multiline_text)"
   ]
  },
  {
   "cell_type": "code",
   "execution_count": 45,
   "id": "48eb4ace",
   "metadata": {},
   "outputs": [
    {
     "data": {
      "text/plain": [
       "1357"
      ]
     },
     "execution_count": 45,
     "metadata": {},
     "output_type": "execute_result"
    }
   ],
   "source": [
    "len(multiline_text)"
   ]
  },
  {
   "cell_type": "code",
   "execution_count": 46,
   "id": "e2c11c8b",
   "metadata": {},
   "outputs": [
    {
     "data": {
      "text/plain": [
       "'It is a truth universally acknowledged, that a single man in possession of a good fortune, must be in want of a wife. However little known the feelings or views of such a man may be on his first entering a neighbourhood, this truth is so well fixed in the minds of the surrounding families, that he is considered the rightful property of some one or other of their daughters. My dear Mr. Bennet, said his lady to him one day, have you heard that Netherfield Park is let at last? Mr. Bennet replied that he had not.But it is, returned she; for Mrs. Long has just been here, and she told me all about it.Mr. Bennet made no answer.Do you not want to know who has taken it? cried his wife impatiently.YOU want to tell me, and I have no objection to hearing it.This was invitation enough.Why, my dear, you must know, Mrs. Long says that Netherfield is taken by a young man of large fortune from the north of England; that he came down on Monday in a chaise and four to see the place, and was so much delighted with it, that he agreed with Mr. Morris immediately; that he is to take possession before Michaelmas, and some of his servants are to be in the house by the end of next week.What is his name? Bingley. Is he married or single? Oh! Single, my dear, to be sure! A single man of large fortune; four or five thousand a year. What a fine thing for our girls!'"
      ]
     },
     "execution_count": 46,
     "metadata": {},
     "output_type": "execute_result"
    }
   ],
   "source": [
    "#had to edit it word\n",
    "multiline_text"
   ]
  },
  {
   "cell_type": "code",
   "execution_count": 49,
   "id": "7d8f3aea",
   "metadata": {},
   "outputs": [
    {
     "data": {
      "text/plain": [
       "['It',\n",
       " 'is',\n",
       " 'a',\n",
       " 'truth',\n",
       " 'universally',\n",
       " 'acknowledged,',\n",
       " 'that',\n",
       " 'a',\n",
       " 'single',\n",
       " 'man',\n",
       " 'in',\n",
       " 'possession',\n",
       " 'of',\n",
       " 'a',\n",
       " 'good',\n",
       " 'fortune,',\n",
       " 'must',\n",
       " 'be',\n",
       " 'in',\n",
       " 'want',\n",
       " 'of',\n",
       " 'a',\n",
       " 'wife.',\n",
       " 'However',\n",
       " 'little',\n",
       " 'known',\n",
       " 'the',\n",
       " 'feelings',\n",
       " 'or',\n",
       " 'views',\n",
       " 'of',\n",
       " 'such',\n",
       " 'a',\n",
       " 'man',\n",
       " 'may',\n",
       " 'be',\n",
       " 'on',\n",
       " 'his',\n",
       " 'first',\n",
       " 'entering',\n",
       " 'a',\n",
       " 'neighbourhood,',\n",
       " 'this',\n",
       " 'truth',\n",
       " 'is',\n",
       " 'so',\n",
       " 'well',\n",
       " 'fixed',\n",
       " 'in',\n",
       " 'the',\n",
       " 'minds',\n",
       " 'of',\n",
       " 'the',\n",
       " 'surrounding',\n",
       " 'families,',\n",
       " 'that',\n",
       " 'he',\n",
       " 'is',\n",
       " 'considered',\n",
       " 'the',\n",
       " 'rightful',\n",
       " 'property',\n",
       " 'of',\n",
       " 'some',\n",
       " 'one',\n",
       " 'or',\n",
       " 'other',\n",
       " 'of',\n",
       " 'their',\n",
       " 'daughters.',\n",
       " 'My',\n",
       " 'dear',\n",
       " 'Mr.',\n",
       " 'Bennet,',\n",
       " 'said',\n",
       " 'his',\n",
       " 'lady',\n",
       " 'to',\n",
       " 'him',\n",
       " 'one',\n",
       " 'day,',\n",
       " 'have',\n",
       " 'you',\n",
       " 'heard',\n",
       " 'that',\n",
       " 'Netherfield',\n",
       " 'Park',\n",
       " 'is',\n",
       " 'let',\n",
       " 'at',\n",
       " 'last?',\n",
       " 'Mr.',\n",
       " 'Bennet',\n",
       " 'replied',\n",
       " 'that',\n",
       " 'he',\n",
       " 'had',\n",
       " 'not.But',\n",
       " 'it',\n",
       " 'is,',\n",
       " 'returned',\n",
       " 'she;',\n",
       " 'for',\n",
       " 'Mrs.',\n",
       " 'Long',\n",
       " 'has',\n",
       " 'just',\n",
       " 'been',\n",
       " 'here,',\n",
       " 'and',\n",
       " 'she',\n",
       " 'told',\n",
       " 'me',\n",
       " 'all',\n",
       " 'about',\n",
       " 'it.Mr.',\n",
       " 'Bennet',\n",
       " 'made',\n",
       " 'no',\n",
       " 'answer.Do',\n",
       " 'you',\n",
       " 'not',\n",
       " 'want',\n",
       " 'to',\n",
       " 'know',\n",
       " 'who',\n",
       " 'has',\n",
       " 'taken',\n",
       " 'it?',\n",
       " 'cried',\n",
       " 'his',\n",
       " 'wife',\n",
       " 'impatiently.YOU',\n",
       " 'want',\n",
       " 'to',\n",
       " 'tell',\n",
       " 'me,',\n",
       " 'and',\n",
       " 'I',\n",
       " 'have',\n",
       " 'no',\n",
       " 'objection',\n",
       " 'to',\n",
       " 'hearing',\n",
       " 'it.This',\n",
       " 'was',\n",
       " 'invitation',\n",
       " 'enough.Why,',\n",
       " 'my',\n",
       " 'dear,',\n",
       " 'you',\n",
       " 'must',\n",
       " 'know,',\n",
       " 'Mrs.',\n",
       " 'Long',\n",
       " 'says',\n",
       " 'that',\n",
       " 'Netherfield',\n",
       " 'is',\n",
       " 'taken',\n",
       " 'by',\n",
       " 'a',\n",
       " 'young',\n",
       " 'man',\n",
       " 'of',\n",
       " 'large',\n",
       " 'fortune',\n",
       " 'from',\n",
       " 'the',\n",
       " 'north',\n",
       " 'of',\n",
       " 'England;',\n",
       " 'that',\n",
       " 'he',\n",
       " 'came',\n",
       " 'down',\n",
       " 'on',\n",
       " 'Monday',\n",
       " 'in',\n",
       " 'a',\n",
       " 'chaise',\n",
       " 'and',\n",
       " 'four',\n",
       " 'to',\n",
       " 'see',\n",
       " 'the',\n",
       " 'place,',\n",
       " 'and',\n",
       " 'was',\n",
       " 'so',\n",
       " 'much',\n",
       " 'delighted',\n",
       " 'with',\n",
       " 'it,',\n",
       " 'that',\n",
       " 'he',\n",
       " 'agreed',\n",
       " 'with',\n",
       " 'Mr.',\n",
       " 'Morris',\n",
       " 'immediately;',\n",
       " 'that',\n",
       " 'he',\n",
       " 'is',\n",
       " 'to',\n",
       " 'take',\n",
       " 'possession',\n",
       " 'before',\n",
       " 'Michaelmas,',\n",
       " 'and',\n",
       " 'some',\n",
       " 'of',\n",
       " 'his',\n",
       " 'servants',\n",
       " 'are',\n",
       " 'to',\n",
       " 'be',\n",
       " 'in',\n",
       " 'the',\n",
       " 'house',\n",
       " 'by',\n",
       " 'the',\n",
       " 'end',\n",
       " 'of',\n",
       " 'next',\n",
       " 'week.What',\n",
       " 'is',\n",
       " 'his',\n",
       " 'name?',\n",
       " 'Bingley.',\n",
       " 'Is',\n",
       " 'he',\n",
       " 'married',\n",
       " 'or',\n",
       " 'single?',\n",
       " 'Oh!',\n",
       " 'Single,',\n",
       " 'my',\n",
       " 'dear,',\n",
       " 'to',\n",
       " 'be',\n",
       " 'sure!',\n",
       " 'A',\n",
       " 'single',\n",
       " 'man',\n",
       " 'of',\n",
       " 'large',\n",
       " 'fortune;',\n",
       " 'four',\n",
       " 'or',\n",
       " 'five',\n",
       " 'thousand',\n",
       " 'a',\n",
       " 'year.',\n",
       " 'What',\n",
       " 'a',\n",
       " 'fine',\n",
       " 'thing',\n",
       " 'for',\n",
       " 'our',\n",
       " 'girls!']"
      ]
     },
     "execution_count": 49,
     "metadata": {},
     "output_type": "execute_result"
    }
   ],
   "source": [
    "list_of_words = multiline_text.split()\n",
    "list_of_words"
   ]
  },
  {
   "cell_type": "code",
   "execution_count": 51,
   "id": "d9da83db",
   "metadata": {},
   "outputs": [
    {
     "data": {
      "text/plain": [
       "261"
      ]
     },
     "execution_count": 51,
     "metadata": {},
     "output_type": "execute_result"
    }
   ],
   "source": [
    "#What's the word count?\n",
    "len(list_of_words)"
   ]
  },
  {
   "cell_type": "code",
   "execution_count": 52,
   "id": "47d2a7fe",
   "metadata": {},
   "outputs": [
    {
     "data": {
      "text/plain": [
       "159"
      ]
     },
     "execution_count": 52,
     "metadata": {},
     "output_type": "execute_result"
    }
   ],
   "source": [
    "#unique word count. \n",
    "unique_words = dict.fromkeys(list_of_words)\n",
    "len(list(unique_words.keys()))"
   ]
  },
  {
   "cell_type": "code",
   "execution_count": 54,
   "id": "710eb1f9",
   "metadata": {},
   "outputs": [
    {
     "data": {
      "text/plain": [
       "{'It': 1,\n",
       " 'is': 7,\n",
       " 'a': 10,\n",
       " 'truth': 2,\n",
       " 'universally': 1,\n",
       " 'acknowledged,': 1,\n",
       " 'that': 8,\n",
       " 'single': 2,\n",
       " 'man': 4,\n",
       " 'in': 5,\n",
       " 'possession': 2,\n",
       " 'of': 11,\n",
       " 'good': 1,\n",
       " 'fortune,': 1,\n",
       " 'must': 2,\n",
       " 'be': 4,\n",
       " 'want': 3,\n",
       " 'wife.': 1,\n",
       " 'However': 1,\n",
       " 'little': 1,\n",
       " 'known': 1,\n",
       " 'the': 8,\n",
       " 'feelings': 1,\n",
       " 'or': 4,\n",
       " 'views': 1,\n",
       " 'such': 1,\n",
       " 'may': 1,\n",
       " 'on': 2,\n",
       " 'his': 5,\n",
       " 'first': 1,\n",
       " 'entering': 1,\n",
       " 'neighbourhood,': 1,\n",
       " 'this': 1,\n",
       " 'so': 2,\n",
       " 'well': 1,\n",
       " 'fixed': 1,\n",
       " 'minds': 1,\n",
       " 'surrounding': 1,\n",
       " 'families,': 1,\n",
       " 'he': 6,\n",
       " 'considered': 1,\n",
       " 'rightful': 1,\n",
       " 'property': 1,\n",
       " 'some': 2,\n",
       " 'one': 2,\n",
       " 'other': 1,\n",
       " 'their': 1,\n",
       " 'daughters.': 1,\n",
       " 'My': 1,\n",
       " 'dear': 1,\n",
       " 'Mr.': 3,\n",
       " 'Bennet,': 1,\n",
       " 'said': 1,\n",
       " 'lady': 1,\n",
       " 'to': 8,\n",
       " 'him': 1,\n",
       " 'day,': 1,\n",
       " 'have': 2,\n",
       " 'you': 3,\n",
       " 'heard': 1,\n",
       " 'Netherfield': 2,\n",
       " 'Park': 1,\n",
       " 'let': 1,\n",
       " 'at': 1,\n",
       " 'last?': 1,\n",
       " 'Bennet': 2,\n",
       " 'replied': 1,\n",
       " 'had': 1,\n",
       " 'not.But': 1,\n",
       " 'it': 1,\n",
       " 'is,': 1,\n",
       " 'returned': 1,\n",
       " 'she;': 1,\n",
       " 'for': 2,\n",
       " 'Mrs.': 2,\n",
       " 'Long': 2,\n",
       " 'has': 2,\n",
       " 'just': 1,\n",
       " 'been': 1,\n",
       " 'here,': 1,\n",
       " 'and': 5,\n",
       " 'she': 1,\n",
       " 'told': 1,\n",
       " 'me': 1,\n",
       " 'all': 1,\n",
       " 'about': 1,\n",
       " 'it.Mr.': 1,\n",
       " 'made': 1,\n",
       " 'no': 2,\n",
       " 'answer.Do': 1,\n",
       " 'not': 1,\n",
       " 'know': 1,\n",
       " 'who': 1,\n",
       " 'taken': 2,\n",
       " 'it?': 1,\n",
       " 'cried': 1,\n",
       " 'wife': 1,\n",
       " 'impatiently.YOU': 1,\n",
       " 'tell': 1,\n",
       " 'me,': 1,\n",
       " 'I': 1,\n",
       " 'objection': 1,\n",
       " 'hearing': 1,\n",
       " 'it.This': 1,\n",
       " 'was': 2,\n",
       " 'invitation': 1,\n",
       " 'enough.Why,': 1,\n",
       " 'my': 2,\n",
       " 'dear,': 2,\n",
       " 'know,': 1,\n",
       " 'says': 1,\n",
       " 'by': 2,\n",
       " 'young': 1,\n",
       " 'large': 2,\n",
       " 'fortune': 1,\n",
       " 'from': 1,\n",
       " 'north': 1,\n",
       " 'England;': 1,\n",
       " 'came': 1,\n",
       " 'down': 1,\n",
       " 'Monday': 1,\n",
       " 'chaise': 1,\n",
       " 'four': 2,\n",
       " 'see': 1,\n",
       " 'place,': 1,\n",
       " 'much': 1,\n",
       " 'delighted': 1,\n",
       " 'with': 2,\n",
       " 'it,': 1,\n",
       " 'agreed': 1,\n",
       " 'Morris': 1,\n",
       " 'immediately;': 1,\n",
       " 'take': 1,\n",
       " 'before': 1,\n",
       " 'Michaelmas,': 1,\n",
       " 'servants': 1,\n",
       " 'are': 1,\n",
       " 'house': 1,\n",
       " 'end': 1,\n",
       " 'next': 1,\n",
       " 'week.What': 1,\n",
       " 'name?': 1,\n",
       " 'Bingley.': 1,\n",
       " 'Is': 1,\n",
       " 'married': 1,\n",
       " 'single?': 1,\n",
       " 'Oh!': 1,\n",
       " 'Single,': 1,\n",
       " 'sure!': 1,\n",
       " 'A': 1,\n",
       " 'fortune;': 1,\n",
       " 'five': 1,\n",
       " 'thousand': 1,\n",
       " 'year.': 1,\n",
       " 'What': 1,\n",
       " 'fine': 1,\n",
       " 'thing': 1,\n",
       " 'our': 1,\n",
       " 'girls!': 1}"
      ]
     },
     "execution_count": 54,
     "metadata": {},
     "output_type": "execute_result"
    }
   ],
   "source": [
    "#unique word count\n",
    "for word in list_of_words:\n",
    "    if unique_words[word] is None:\n",
    "        unique_words[word] = 1\n",
    "    else:\n",
    "        unique_words[word] += 1\n",
    "unique_words"
   ]
  },
  {
   "cell_type": "code",
   "execution_count": 56,
   "id": "a627f46c",
   "metadata": {},
   "outputs": [
    {
     "data": {
      "text/plain": [
       "[('of', 11),\n",
       " ('a', 10),\n",
       " ('that', 8),\n",
       " ('the', 8),\n",
       " ('to', 8),\n",
       " ('is', 7),\n",
       " ('he', 6),\n",
       " ('in', 5),\n",
       " ('his', 5),\n",
       " ('and', 5),\n",
       " ('man', 4),\n",
       " ('be', 4),\n",
       " ('or', 4),\n",
       " ('want', 3),\n",
       " ('Mr.', 3),\n",
       " ('you', 3),\n",
       " ('truth', 2),\n",
       " ('single', 2),\n",
       " ('possession', 2),\n",
       " ('must', 2),\n",
       " ('on', 2),\n",
       " ('so', 2),\n",
       " ('some', 2),\n",
       " ('one', 2),\n",
       " ('have', 2)]"
      ]
     },
     "execution_count": 56,
     "metadata": {},
     "output_type": "execute_result"
    }
   ],
   "source": [
    "#What are the top words from the text?\n",
    "top = sorted(unique_words.items(), key=lambda key_val_tuple: key_val_tuple[1], reverse=True)\n",
    "top[:25]"
   ]
  },
  {
   "cell_type": "markdown",
   "id": "98a51033",
   "metadata": {},
   "source": [
    "### Activity 3: Permutation, Iterator, Lambda, List"
   ]
  },
  {
   "cell_type": "code",
   "execution_count": 59,
   "id": "8c75c5b3",
   "metadata": {},
   "outputs": [
    {
     "data": {
      "text/plain": [
       "<itertools.permutations at 0x1955ba55270>"
      ]
     },
     "execution_count": 59,
     "metadata": {},
     "output_type": "execute_result"
    }
   ],
   "source": [
    "from itertools import permutations\n",
    "\n",
    "permutations(range(3))"
   ]
  },
  {
   "cell_type": "code",
   "execution_count": 61,
   "id": "7580762e",
   "metadata": {},
   "outputs": [
    {
     "name": "stdout",
     "output_type": "stream",
     "text": [
      "(0, 1, 2)\n",
      "(0, 2, 1)\n",
      "(1, 0, 2)\n",
      "(1, 2, 0)\n",
      "(2, 0, 1)\n",
      "(2, 1, 0)\n"
     ]
    }
   ],
   "source": [
    "#use for VAR in\n",
    "for number_t in permutations(range(3)):\n",
    "    print(number_t)\n",
    "    assert isinstance(number_t, tuple)\n"
   ]
  },
  {
   "cell_type": "code",
   "execution_count": 64,
   "id": "13d8f5e3",
   "metadata": {},
   "outputs": [
    {
     "name": "stdout",
     "output_type": "stream",
     "text": [
      "[1, 2]\n",
      "[2, 1]\n",
      "[1, 0, 2]\n",
      "[1, 2, 0]\n",
      "[2, 0, 1]\n",
      "[2, 1, 0]\n"
     ]
    }
   ],
   "source": [
    "#dropwhile not working here... going to try the import string again.note to self\n",
    "from itertools import dropwhile\n",
    "for number_t in permutations(range(3)):\n",
    "    print(list(dropwhile(lambda x: x <= 0, number_t)))"
   ]
  },
  {
   "cell_type": "code",
   "execution_count": 67,
   "id": "56c5b0f5",
   "metadata": {},
   "outputs": [
    {
     "name": "stdout",
     "output_type": "stream",
     "text": [
      "2.0\n",
      "1.0\n",
      "2.0\n",
      "0.0\n",
      "1.0\n",
      "0.0\n"
     ]
    }
   ],
   "source": [
    "#import not working again- exit command prompt, run again\n",
    "import math\n",
    "def convert_to_number(num_stack):\n",
    "    final_num = 0\n",
    "    for i in range(0, len(num_stack)):\n",
    "        final_num += (num_stack.pop() * (math.pow(10, i)))\n",
    "        return final_num\n",
    "#what's  happening here? Note to self.*\n",
    "for num_tup in permutations(range(3)):\n",
    "    num_stack = list(dropwhile(lambda x: x <= 0, num_tup))\n",
    "    #print output?\n",
    "    print(convert_to_number(num_stack))\n",
    "#note to self- go back and find example on lambda."
   ]
  },
  {
   "cell_type": "markdown",
   "id": "f0855906",
   "metadata": {},
   "source": [
    "### Activity 4: Design Your Own CSV Parser"
   ]
  },
  {
   "cell_type": "code",
   "execution_count": 70,
   "id": "893204f0",
   "metadata": {},
   "outputs": [],
   "source": [
    "from itertools import zip_longest\n",
    "#function?\n",
    "#what is this? Did the import work?\n",
    "#zip_longest\n",
    "#def formatting off NOT TO SELF\n",
    "\n",
    "def return_dict(header, line):\n",
    "    zipped_line = zip_longest(header, line, fillvalue=None)\n",
    "    return_dict = {kv[0]: kv[1] for kv in zipped_line}\n",
    "    return return_dict\n",
    "    "
   ]
  },
  {
   "cell_type": "code",
   "execution_count": null,
   "id": "b0be16b2",
   "metadata": {},
   "outputs": [],
   "source": [
    "#stuck here - Parser function not working"
   ]
  }
 ],
 "metadata": {
  "kernelspec": {
   "display_name": "Python 3 (ipykernel)",
   "language": "python",
   "name": "python3"
  },
  "language_info": {
   "codemirror_mode": {
    "name": "ipython",
    "version": 3
   },
   "file_extension": ".py",
   "mimetype": "text/x-python",
   "name": "python",
   "nbconvert_exporter": "python",
   "pygments_lexer": "ipython3",
   "version": "3.9.13"
  }
 },
 "nbformat": 4,
 "nbformat_minor": 5
}
