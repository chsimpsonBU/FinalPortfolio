{
 "cells": [
  {
   "cell_type": "markdown",
   "id": "958e5ea0",
   "metadata": {},
   "source": [
    "### Recommender System"
   ]
  },
  {
   "cell_type": "markdown",
   "id": "34f6dc20",
   "metadata": {},
   "source": [
    "By carefully analyzing the process of feature selection, it becomes possible to identify the most informative features and eliminate those that are less relevant. Ultimately, this leads to improved model performance. It is worth noting, however, that this assessment is based on the particular models and data sets used in this specific testing cycle.\n",
    "\n",
    "To achieve even better outcomes, additional experimentation may be necessary. Trying out different models or feature engineering techniques could lead to more accurate predictions. Similarly, experimenting with different data preprocessing methods might yield valuable insights|"
   ]
  },
  {
   "cell_type": "markdown",
   "id": "e1d223ee",
   "metadata": {},
   "source": [
    "I am going to call the sklearn and scipy libraries for this project. I referenced a course text from a previous class by Dietmar Jannach called 'Recommender Systems: An Introduction'"
   ]
  },
  {
   "cell_type": "code",
   "execution_count": 2,
   "id": "9a97ef22",
   "metadata": {},
   "outputs": [],
   "source": [
    "import pandas as pd\n",
    "from sklearn.metrics.pairwise import cosine_similarity\n",
    "from scipy import sparse\n",
    "\n",
    "# Load movies data\n",
    "movies = pd.read_csv('movies.csv')\n",
    "# Load ratings data\n",
    "ratings = pd.read_csv('ratings.csv')\n"
   ]
  },
  {
   "cell_type": "markdown",
   "id": "197e1393",
   "metadata": {},
   "source": [
    "I think we need to pivot the ratings to a matrix of viewers and movies rated to make the data better formated for the function I will write below. I could be wrong about this; if so, I will call the data again and use new variables. Any missing values will be filled with 0."
   ]
  },
  {
   "cell_type": "code",
   "execution_count": 3,
   "id": "a62e909c",
   "metadata": {},
   "outputs": [],
   "source": [
    "ratings_matrix = ratings.pivot_table(index='movieId', columns='userId', values='rating').fillna(0)"
   ]
  },
  {
   "cell_type": "markdown",
   "id": "e3c8be04",
   "metadata": {},
   "source": [
    "Now I need the cosine similarity matrix to give me some idea of the similarities between movies based on ratings. "
   ]
  },
  {
   "cell_type": "code",
   "execution_count": 4,
   "id": "ee80a268",
   "metadata": {},
   "outputs": [],
   "source": [
    "# Computing the cosine similarity matrix\n",
    "cosine_sim = cosine_similarity(ratings_matrix)\n",
    "cosine_sim_df = pd.DataFrame(cosine_sim, index=ratings_matrix.index, columns=ratings_matrix.index)"
   ]
  },
  {
   "cell_type": "markdown",
   "id": "67ff1017",
   "metadata": {},
   "source": [
    "Using one of the movies from the dataset, the function will reference the similarity matrix to make a top 10 recommendation. Toy Story is my favorite!"
   ]
  },
  {
   "cell_type": "code",
   "execution_count": 10,
   "id": "9db9aa67",
   "metadata": {
    "scrolled": false
   },
   "outputs": [
    {
     "data": {
      "text/html": [
       "<div>\n",
       "<style scoped>\n",
       "    .dataframe tbody tr th:only-of-type {\n",
       "        vertical-align: middle;\n",
       "    }\n",
       "\n",
       "    .dataframe tbody tr th {\n",
       "        vertical-align: top;\n",
       "    }\n",
       "\n",
       "    .dataframe thead th {\n",
       "        text-align: right;\n",
       "    }\n",
       "</style>\n",
       "<table border=\"1\" class=\"dataframe\">\n",
       "  <thead>\n",
       "    <tr style=\"text-align: right;\">\n",
       "      <th></th>\n",
       "      <th>movieId</th>\n",
       "      <th>title</th>\n",
       "      <th>genres</th>\n",
       "    </tr>\n",
       "  </thead>\n",
       "  <tbody>\n",
       "    <tr>\n",
       "      <th>224</th>\n",
       "      <td>260</td>\n",
       "      <td>Star Wars: Episode IV - A New Hope (1977)</td>\n",
       "      <td>Action|Adventure|Sci-Fi</td>\n",
       "    </tr>\n",
       "    <tr>\n",
       "      <th>314</th>\n",
       "      <td>356</td>\n",
       "      <td>Forrest Gump (1994)</td>\n",
       "      <td>Comedy|Drama|Romance|War</td>\n",
       "    </tr>\n",
       "    <tr>\n",
       "      <th>322</th>\n",
       "      <td>364</td>\n",
       "      <td>Lion King, The (1994)</td>\n",
       "      <td>Adventure|Animation|Children|Drama|Musical|IMAX</td>\n",
       "    </tr>\n",
       "    <tr>\n",
       "      <th>418</th>\n",
       "      <td>480</td>\n",
       "      <td>Jurassic Park (1993)</td>\n",
       "      <td>Action|Adventure|Sci-Fi|Thriller</td>\n",
       "    </tr>\n",
       "    <tr>\n",
       "      <th>546</th>\n",
       "      <td>648</td>\n",
       "      <td>Mission: Impossible (1996)</td>\n",
       "      <td>Action|Adventure|Mystery|Thriller</td>\n",
       "    </tr>\n",
       "    <tr>\n",
       "      <th>615</th>\n",
       "      <td>780</td>\n",
       "      <td>Independence Day (a.k.a. ID4) (1996)</td>\n",
       "      <td>Action|Adventure|Sci-Fi|Thriller</td>\n",
       "    </tr>\n",
       "    <tr>\n",
       "      <th>911</th>\n",
       "      <td>1210</td>\n",
       "      <td>Star Wars: Episode VI - Return of the Jedi (1983)</td>\n",
       "      <td>Action|Adventure|Sci-Fi</td>\n",
       "    </tr>\n",
       "    <tr>\n",
       "      <th>964</th>\n",
       "      <td>1265</td>\n",
       "      <td>Groundhog Day (1993)</td>\n",
       "      <td>Comedy|Fantasy|Romance</td>\n",
       "    </tr>\n",
       "    <tr>\n",
       "      <th>969</th>\n",
       "      <td>1270</td>\n",
       "      <td>Back to the Future (1985)</td>\n",
       "      <td>Adventure|Comedy|Sci-Fi</td>\n",
       "    </tr>\n",
       "    <tr>\n",
       "      <th>2355</th>\n",
       "      <td>3114</td>\n",
       "      <td>Toy Story 2 (1999)</td>\n",
       "      <td>Adventure|Animation|Children|Comedy|Fantasy</td>\n",
       "    </tr>\n",
       "  </tbody>\n",
       "</table>\n",
       "</div>"
      ],
      "text/plain": [
       "      movieId                                              title  \\\n",
       "224       260          Star Wars: Episode IV - A New Hope (1977)   \n",
       "314       356                                Forrest Gump (1994)   \n",
       "322       364                              Lion King, The (1994)   \n",
       "418       480                               Jurassic Park (1993)   \n",
       "546       648                         Mission: Impossible (1996)   \n",
       "615       780               Independence Day (a.k.a. ID4) (1996)   \n",
       "911      1210  Star Wars: Episode VI - Return of the Jedi (1983)   \n",
       "964      1265                               Groundhog Day (1993)   \n",
       "969      1270                          Back to the Future (1985)   \n",
       "2355     3114                                 Toy Story 2 (1999)   \n",
       "\n",
       "                                               genres  \n",
       "224                           Action|Adventure|Sci-Fi  \n",
       "314                          Comedy|Drama|Romance|War  \n",
       "322   Adventure|Animation|Children|Drama|Musical|IMAX  \n",
       "418                  Action|Adventure|Sci-Fi|Thriller  \n",
       "546                 Action|Adventure|Mystery|Thriller  \n",
       "615                  Action|Adventure|Sci-Fi|Thriller  \n",
       "911                           Action|Adventure|Sci-Fi  \n",
       "964                            Comedy|Fantasy|Romance  \n",
       "969                           Adventure|Comedy|Sci-Fi  \n",
       "2355      Adventure|Animation|Children|Comedy|Fantasy  "
      ]
     },
     "execution_count": 10,
     "metadata": {},
     "output_type": "execute_result"
    }
   ],
   "source": [
    "def recommend_movies(movieId, cosine_sim_df=cosine_sim_df):\n",
    "    # Get the pairwise similarity scores of all movies with the given movie\n",
    "    sim_scores = cosine_sim_df[movieId]\n",
    "    \n",
    "    # Sort the movies based on the similarity scores\n",
    "    sim_scores = sim_scores.sort_values(ascending=False)\n",
    "\n",
    "    # Get the scores of the 10 most similar movies\n",
    "    sim_scores = sim_scores[1:11]\n",
    "\n",
    "    # Get the movie indices\n",
    "    movie_indices = sim_scores.index\n",
    "\n",
    "    # Returning the top 10 most similar movies\n",
    "    return movies[movies['movieId'].isin(movie_indices)]\n",
    "\n",
    "# This function requires a movieId to work, 1 for 'Toy Story (1995)\n",
    "recommend_movies(1)\n"
   ]
  },
  {
   "cell_type": "markdown",
   "id": "501dbf4c",
   "metadata": {},
   "source": [
    "Justing checking that it's working- running again using movieId 1270 for 'Back to the Future'"
   ]
  },
  {
   "cell_type": "code",
   "execution_count": 11,
   "id": "07bb5294",
   "metadata": {
    "scrolled": false
   },
   "outputs": [
    {
     "data": {
      "text/html": [
       "<div>\n",
       "<style scoped>\n",
       "    .dataframe tbody tr th:only-of-type {\n",
       "        vertical-align: middle;\n",
       "    }\n",
       "\n",
       "    .dataframe tbody tr th {\n",
       "        vertical-align: top;\n",
       "    }\n",
       "\n",
       "    .dataframe thead th {\n",
       "        text-align: right;\n",
       "    }\n",
       "</style>\n",
       "<table border=\"1\" class=\"dataframe\">\n",
       "  <thead>\n",
       "    <tr style=\"text-align: right;\">\n",
       "      <th></th>\n",
       "      <th>movieId</th>\n",
       "      <th>title</th>\n",
       "      <th>genres</th>\n",
       "    </tr>\n",
       "  </thead>\n",
       "  <tbody>\n",
       "    <tr>\n",
       "      <th>224</th>\n",
       "      <td>260</td>\n",
       "      <td>Star Wars: Episode IV - A New Hope (1977)</td>\n",
       "      <td>Action|Adventure|Sci-Fi</td>\n",
       "    </tr>\n",
       "    <tr>\n",
       "      <th>898</th>\n",
       "      <td>1196</td>\n",
       "      <td>Star Wars: Episode V - The Empire Strikes Back...</td>\n",
       "      <td>Action|Adventure|Sci-Fi</td>\n",
       "    </tr>\n",
       "    <tr>\n",
       "      <th>900</th>\n",
       "      <td>1198</td>\n",
       "      <td>Raiders of the Lost Ark (Indiana Jones and the...</td>\n",
       "      <td>Action|Adventure</td>\n",
       "    </tr>\n",
       "    <tr>\n",
       "      <th>911</th>\n",
       "      <td>1210</td>\n",
       "      <td>Star Wars: Episode VI - Return of the Jedi (1983)</td>\n",
       "      <td>Action|Adventure|Sci-Fi</td>\n",
       "    </tr>\n",
       "    <tr>\n",
       "      <th>964</th>\n",
       "      <td>1265</td>\n",
       "      <td>Groundhog Day (1993)</td>\n",
       "      <td>Comedy|Fantasy|Romance</td>\n",
       "    </tr>\n",
       "    <tr>\n",
       "      <th>990</th>\n",
       "      <td>1291</td>\n",
       "      <td>Indiana Jones and the Last Crusade (1989)</td>\n",
       "      <td>Action|Adventure</td>\n",
       "    </tr>\n",
       "    <tr>\n",
       "      <th>1486</th>\n",
       "      <td>2011</td>\n",
       "      <td>Back to the Future Part II (1989)</td>\n",
       "      <td>Adventure|Comedy|Sci-Fi</td>\n",
       "    </tr>\n",
       "    <tr>\n",
       "      <th>1487</th>\n",
       "      <td>2012</td>\n",
       "      <td>Back to the Future Part III (1990)</td>\n",
       "      <td>Adventure|Comedy|Sci-Fi|Western</td>\n",
       "    </tr>\n",
       "    <tr>\n",
       "      <th>1576</th>\n",
       "      <td>2115</td>\n",
       "      <td>Indiana Jones and the Temple of Doom (1984)</td>\n",
       "      <td>Action|Adventure|Fantasy</td>\n",
       "    </tr>\n",
       "    <tr>\n",
       "      <th>2038</th>\n",
       "      <td>2716</td>\n",
       "      <td>Ghostbusters (a.k.a. Ghost Busters) (1984)</td>\n",
       "      <td>Action|Comedy|Sci-Fi</td>\n",
       "    </tr>\n",
       "  </tbody>\n",
       "</table>\n",
       "</div>"
      ],
      "text/plain": [
       "      movieId                                              title  \\\n",
       "224       260          Star Wars: Episode IV - A New Hope (1977)   \n",
       "898      1196  Star Wars: Episode V - The Empire Strikes Back...   \n",
       "900      1198  Raiders of the Lost Ark (Indiana Jones and the...   \n",
       "911      1210  Star Wars: Episode VI - Return of the Jedi (1983)   \n",
       "964      1265                               Groundhog Day (1993)   \n",
       "990      1291          Indiana Jones and the Last Crusade (1989)   \n",
       "1486     2011                  Back to the Future Part II (1989)   \n",
       "1487     2012                 Back to the Future Part III (1990)   \n",
       "1576     2115        Indiana Jones and the Temple of Doom (1984)   \n",
       "2038     2716         Ghostbusters (a.k.a. Ghost Busters) (1984)   \n",
       "\n",
       "                               genres  \n",
       "224           Action|Adventure|Sci-Fi  \n",
       "898           Action|Adventure|Sci-Fi  \n",
       "900                  Action|Adventure  \n",
       "911           Action|Adventure|Sci-Fi  \n",
       "964            Comedy|Fantasy|Romance  \n",
       "990                  Action|Adventure  \n",
       "1486          Adventure|Comedy|Sci-Fi  \n",
       "1487  Adventure|Comedy|Sci-Fi|Western  \n",
       "1576         Action|Adventure|Fantasy  \n",
       "2038             Action|Comedy|Sci-Fi  "
      ]
     },
     "execution_count": 11,
     "metadata": {},
     "output_type": "execute_result"
    }
   ],
   "source": [
    "recommend_movies(1270)"
   ]
  },
  {
   "cell_type": "markdown",
   "id": "eea7e429",
   "metadata": {},
   "source": [
    "I wasn't sure if the assignment called for actually user input code, so I decided to modify the function to accept user input. "
   ]
  },
  {
   "cell_type": "code",
   "execution_count": 12,
   "id": "f9924608",
   "metadata": {},
   "outputs": [
    {
     "name": "stdout",
     "output_type": "stream",
     "text": [
      "Enter a movie title or part of a title to search: toy story\n",
      "Searching for movies that match your query...\n",
      "\n",
      "Here are the matches in the movie library:\n",
      "\n",
      "      movieId               title  \\\n",
      "0           1    Toy Story (1995)   \n",
      "2355     3114  Toy Story 2 (1999)   \n",
      "7355    78499  Toy Story 3 (2010)   \n",
      "\n",
      "                                                genres  \n",
      "0          Adventure|Animation|Children|Comedy|Fantasy  \n",
      "2355       Adventure|Animation|Children|Comedy|Fantasy  \n",
      "7355  Adventure|Animation|Children|Comedy|Fantasy|IMAX   \n",
      "\n",
      "Enter the movieId of the movie you are interested in: 2355\n",
      "Getting recommendations...\n",
      "\n",
      "Here are some movies you might like:\n",
      "\n",
      "      movieId                                         title  \\\n",
      "1183     1580              Men in Black (a.k.a. MIB) (1997)   \n",
      "1545     2081                    Little Mermaid, The (1989)   \n",
      "1576     2115   Indiana Jones and the Temple of Doom (1984)   \n",
      "2014     2683  Austin Powers: The Spy Who Shagged Me (1999)   \n",
      "2038     2716    Ghostbusters (a.k.a. Ghost Busters) (1984)   \n",
      "2103     2797                                    Big (1988)   \n",
      "2250     2987               Who Framed Roger Rabbit? (1988)   \n",
      "2355     3114                            Toy Story 2 (1999)   \n",
      "3194     4306                                  Shrek (2001)   \n",
      "3409     4638                      Jurassic Park III (2001)   \n",
      "\n",
      "                                                 genres  \n",
      "1183                               Action|Comedy|Sci-Fi  \n",
      "1545          Animation|Children|Comedy|Musical|Romance  \n",
      "1576                           Action|Adventure|Fantasy  \n",
      "2014                            Action|Adventure|Comedy  \n",
      "2038                               Action|Comedy|Sci-Fi  \n",
      "2103                       Comedy|Drama|Fantasy|Romance  \n",
      "2250  Adventure|Animation|Children|Comedy|Crime|Fant...  \n",
      "2355        Adventure|Animation|Children|Comedy|Fantasy  \n",
      "3194  Adventure|Animation|Children|Comedy|Fantasy|Ro...  \n",
      "3409                   Action|Adventure|Sci-Fi|Thriller  \n"
     ]
    }
   ],
   "source": [
    "def search_movie_by_title(search_term, movies_df=movies):\n",
    "    # Filtering movies where the title contains the search term\n",
    "    matches = movies_df[movies_df['title'].str.contains(search_term, case=False)]\n",
    "    \n",
    "    if matches.empty:\n",
    "        return \"No matches found.\"\n",
    "    else:\n",
    "        return matches\n",
    "\n",
    "def get_movie_recommendations():\n",
    "    search_term = input(\"Enter a movie title or part of a title to search: \")\n",
    "    print(\"Searching for movies that match your query...\\n\")\n",
    "    matches = search_movie_by_title(search_term)\n",
    "\n",
    "    if isinstance(matches, str):\n",
    "        print(matches)\n",
    "    else:\n",
    "        print(\"Here are the matches in the movie library:\\n\")\n",
    "        print(matches, \"\\n\")\n",
    "\n",
    "        movie_id = int(input(\"Enter the movieId of the movie you are interested in: \"))\n",
    "        print(\"Getting recommendations...\\n\")\n",
    "        recommendations = recommend_movies(movie_id)\n",
    "\n",
    "        print(\"Here are some movies you might like:\\n\")\n",
    "        print(recommendations)\n",
    "\n",
    "get_movie_recommendations()\n"
   ]
  },
  {
   "cell_type": "markdown",
   "id": "b9749d91",
   "metadata": {},
   "source": [
    "### Reference"
   ]
  },
  {
   "cell_type": "markdown",
   "id": "42794689",
   "metadata": {},
   "source": [
    "The MovieLens dataset: F. Maxwell Harper and Joseph A. Konstan. 2015. The MovieLens Datasets: History and Context. ACM Transactions on Interactive Intelligent Systems (TiiS) 5, 4, Article 19 (December 2015), 19 pages. DOI=http://dx.doi.org/10.1145/2827872"
   ]
  }
 ],
 "metadata": {
  "kernelspec": {
   "display_name": "Python 3 (ipykernel)",
   "language": "python",
   "name": "python3"
  },
  "language_info": {
   "codemirror_mode": {
    "name": "ipython",
    "version": 3
   },
   "file_extension": ".py",
   "mimetype": "text/x-python",
   "name": "python",
   "nbconvert_exporter": "python",
   "pygments_lexer": "ipython3",
   "version": "3.9.13"
  }
 },
 "nbformat": 4,
 "nbformat_minor": 5
}
