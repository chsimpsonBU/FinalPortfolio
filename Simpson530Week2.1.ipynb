{
 "cells": [
  {
   "cell_type": "markdown",
   "id": "354a0250",
   "metadata": {},
   "source": [
    "<h1 style=\"font-size:3rem;color:black;\"> Simpson 530 Week 2.1 Assignment</h1>"
   ]
  },
  {
   "cell_type": "markdown",
   "id": "c1ab4e86",
   "metadata": {},
   "source": [
    "## Display the text “Hello World! My name is ....\""
   ]
  },
  {
   "cell_type": "code",
   "execution_count": 5,
   "id": "6dc36919",
   "metadata": {},
   "outputs": [
    {
     "name": "stdout",
     "output_type": "stream",
     "text": [
      "Hello World!!! My name is Christopher\n"
     ]
    }
   ],
   "source": [
    "print(\"Hello World!!! My name is Christopher\")"
   ]
  },
  {
   "cell_type": "markdown",
   "id": "be3591a2",
   "metadata": {},
   "source": [
    "## Add Two Numbers Together"
   ]
  },
  {
   "cell_type": "code",
   "execution_count": 3,
   "id": "31d845aa",
   "metadata": {},
   "outputs": [
    {
     "data": {
      "text/plain": [
       "6"
      ]
     },
     "execution_count": 3,
     "metadata": {},
     "output_type": "execute_result"
    }
   ],
   "source": [
    "4+2"
   ]
  },
  {
   "cell_type": "markdown",
   "id": "e1ae9f2a",
   "metadata": {},
   "source": [
    "## Subtract a number from another number"
   ]
  },
  {
   "cell_type": "code",
   "execution_count": 4,
   "id": "1ba836a2",
   "metadata": {},
   "outputs": [
    {
     "data": {
      "text/plain": [
       "4"
      ]
     },
     "execution_count": 4,
     "metadata": {},
     "output_type": "execute_result"
    }
   ],
   "source": [
    "10-6"
   ]
  },
  {
   "cell_type": "markdown",
   "id": "9a7450ee",
   "metadata": {},
   "source": [
    "## Multiply two numbers"
   ]
  },
  {
   "cell_type": "code",
   "execution_count": 7,
   "id": "8f4893c5",
   "metadata": {},
   "outputs": [
    {
     "data": {
      "text/plain": [
       "24"
      ]
     },
     "execution_count": 7,
     "metadata": {},
     "output_type": "execute_result"
    }
   ],
   "source": [
    "12*2"
   ]
  },
  {
   "cell_type": "markdown",
   "id": "154f1052",
   "metadata": {},
   "source": [
    "## Divide between two numbers"
   ]
  },
  {
   "cell_type": "code",
   "execution_count": 9,
   "id": "54ac2112",
   "metadata": {},
   "outputs": [
    {
     "data": {
      "text/plain": [
       "5.0"
      ]
     },
     "execution_count": 9,
     "metadata": {},
     "output_type": "execute_result"
    }
   ],
   "source": [
    "10/2"
   ]
  },
  {
   "cell_type": "markdown",
   "id": "c819f3c0",
   "metadata": {},
   "source": [
    "## Concatenate two strings together (any words)"
   ]
  },
  {
   "cell_type": "code",
   "execution_count": 12,
   "id": "f2ad42d4",
   "metadata": {},
   "outputs": [
    {
     "data": {
      "text/plain": [
       "'Hello There!'"
      ]
     },
     "execution_count": 12,
     "metadata": {},
     "output_type": "execute_result"
    }
   ],
   "source": [
    "\"Hello\" + \" There\" +\"!\""
   ]
  },
  {
   "cell_type": "markdown",
   "id": "1b30148e",
   "metadata": {},
   "source": [
    "## Create a list of 4 items (can be strings, numbers, both)"
   ]
  },
  {
   "cell_type": "code",
   "execution_count": 16,
   "id": "755ca703",
   "metadata": {},
   "outputs": [
    {
     "name": "stdout",
     "output_type": "stream",
     "text": [
      "['Pack for Vacation', 'Check Medications', 'Organize Clothes', 'Do homework early!']\n"
     ]
    }
   ],
   "source": [
    "randomList = ['Pack for Vacation', 'Check Medications', 'Organize Clothes', 'Do homework early!']\n",
    "print(randomList)"
   ]
  },
  {
   "cell_type": "markdown",
   "id": "20812383",
   "metadata": {},
   "source": [
    "## Append an item to your list (again, can be a string, number)"
   ]
  },
  {
   "cell_type": "code",
   "execution_count": 20,
   "id": "06be8c25",
   "metadata": {},
   "outputs": [
    {
     "name": "stdout",
     "output_type": "stream",
     "text": [
      "['Pack for Vacation', 'Check Medications', 'Organize Clothes', 'Do homework early!', 'Pay hotel', 'Pay hotel']\n"
     ]
    }
   ],
   "source": [
    "randomList.append('Pay hotel')\n",
    "print(randomList)"
   ]
  },
  {
   "cell_type": "markdown",
   "id": "201ea616",
   "metadata": {},
   "source": [
    "## Create a tuple with 4 items (can be strings, numbers, both)"
   ]
  },
  {
   "cell_type": "code",
   "execution_count": 21,
   "id": "532f8323",
   "metadata": {},
   "outputs": [
    {
     "name": "stdout",
     "output_type": "stream",
     "text": [
      "('Pack', 'Wash Clothers', 'Pay Hotel', 'Rent a Car')\n"
     ]
    }
   ],
   "source": [
    "randomTuple=(\"Pack\",\"Wash Clothers\",\"Pay Hotel\",\"Rent a Car\")\n",
    "print(randomTuple)"
   ]
  },
  {
   "cell_type": "code",
   "execution_count": 1,
   "id": "22f314ad",
   "metadata": {},
   "outputs": [
    {
     "name": "stdout",
     "output_type": "stream",
     "text": [
      "Requirement already satisfied: nbconvert in c:\\users\\chris\\anaconda3\\lib\\site-packages (6.4.4)\n",
      "Requirement already satisfied: nbformat>=4.4 in c:\\users\\chris\\anaconda3\\lib\\site-packages (from nbconvert) (5.5.0)\n",
      "Requirement already satisfied: testpath in c:\\users\\chris\\anaconda3\\lib\\site-packages (from nbconvert) (0.6.0)\n",
      "Requirement already satisfied: mistune<2,>=0.8.1 in c:\\users\\chris\\anaconda3\\lib\\site-packages (from nbconvert) (0.8.4)\n",
      "Requirement already satisfied: nbclient<0.6.0,>=0.5.0 in c:\\users\\chris\\anaconda3\\lib\\site-packages (from nbconvert) (0.5.13)\n",
      "Requirement already satisfied: entrypoints>=0.2.2 in c:\\users\\chris\\anaconda3\\lib\\site-packages (from nbconvert) (0.4)\n",
      "Requirement already satisfied: traitlets>=5.0 in c:\\users\\chris\\anaconda3\\lib\\site-packages (from nbconvert) (5.1.1)\n",
      "Requirement already satisfied: defusedxml in c:\\users\\chris\\anaconda3\\lib\\site-packages (from nbconvert) (0.7.1)\n",
      "Requirement already satisfied: pygments>=2.4.1 in c:\\users\\chris\\anaconda3\\lib\\site-packages (from nbconvert) (2.11.2)\n",
      "Requirement already satisfied: jupyterlab-pygments in c:\\users\\chris\\anaconda3\\lib\\site-packages (from nbconvert) (0.1.2)\n",
      "Requirement already satisfied: pandocfilters>=1.4.1 in c:\\users\\chris\\anaconda3\\lib\\site-packages (from nbconvert) (1.5.0)\n",
      "Requirement already satisfied: beautifulsoup4 in c:\\users\\chris\\anaconda3\\lib\\site-packages (from nbconvert) (4.11.1)\n",
      "Requirement already satisfied: jinja2>=2.4 in c:\\users\\chris\\anaconda3\\lib\\site-packages (from nbconvert) (2.11.3)\n",
      "Requirement already satisfied: bleach in c:\\users\\chris\\anaconda3\\lib\\site-packages (from nbconvert) (4.1.0)\n",
      "Requirement already satisfied: jupyter-core in c:\\users\\chris\\anaconda3\\lib\\site-packages (from nbconvert) (4.11.1)\n",
      "Requirement already satisfied: MarkupSafe>=0.23 in c:\\users\\chris\\anaconda3\\lib\\site-packages (from jinja2>=2.4->nbconvert) (2.0.1)\n",
      "Requirement already satisfied: jupyter-client>=6.1.5 in c:\\users\\chris\\anaconda3\\lib\\site-packages (from nbclient<0.6.0,>=0.5.0->nbconvert) (7.3.4)\n",
      "Requirement already satisfied: nest-asyncio in c:\\users\\chris\\anaconda3\\lib\\site-packages (from nbclient<0.6.0,>=0.5.0->nbconvert) (1.5.5)\n",
      "Requirement already satisfied: fastjsonschema in c:\\users\\chris\\anaconda3\\lib\\site-packages (from nbformat>=4.4->nbconvert) (2.16.2)\n",
      "Requirement already satisfied: jsonschema>=2.6 in c:\\users\\chris\\anaconda3\\lib\\site-packages (from nbformat>=4.4->nbconvert) (4.16.0)\n",
      "Requirement already satisfied: soupsieve>1.2 in c:\\users\\chris\\anaconda3\\lib\\site-packages (from beautifulsoup4->nbconvert) (2.3.1)\n",
      "Requirement already satisfied: webencodings in c:\\users\\chris\\anaconda3\\lib\\site-packages (from bleach->nbconvert) (0.5.1)\n",
      "Requirement already satisfied: six>=1.9.0 in c:\\users\\chris\\anaconda3\\lib\\site-packages (from bleach->nbconvert) (1.16.0)\n",
      "Requirement already satisfied: packaging in c:\\users\\chris\\anaconda3\\lib\\site-packages (from bleach->nbconvert) (21.3)\n",
      "Requirement already satisfied: pywin32>=1.0 in c:\\users\\chris\\anaconda3\\lib\\site-packages (from jupyter-core->nbconvert) (302)\n",
      "Requirement already satisfied: attrs>=17.4.0 in c:\\users\\chris\\anaconda3\\lib\\site-packages (from jsonschema>=2.6->nbformat>=4.4->nbconvert) (21.4.0)\n",
      "Requirement already satisfied: pyrsistent!=0.17.0,!=0.17.1,!=0.17.2,>=0.14.0 in c:\\users\\chris\\anaconda3\\lib\\site-packages (from jsonschema>=2.6->nbformat>=4.4->nbconvert) (0.18.0)\n",
      "Requirement already satisfied: tornado>=6.0 in c:\\users\\chris\\anaconda3\\lib\\site-packages (from jupyter-client>=6.1.5->nbclient<0.6.0,>=0.5.0->nbconvert) (6.1)\n",
      "Requirement already satisfied: pyzmq>=23.0 in c:\\users\\chris\\anaconda3\\lib\\site-packages (from jupyter-client>=6.1.5->nbclient<0.6.0,>=0.5.0->nbconvert) (23.2.0)\n",
      "Requirement already satisfied: python-dateutil>=2.8.2 in c:\\users\\chris\\anaconda3\\lib\\site-packages (from jupyter-client>=6.1.5->nbclient<0.6.0,>=0.5.0->nbconvert) (2.8.2)\n",
      "Requirement already satisfied: pyparsing!=3.0.5,>=2.0.2 in c:\\users\\chris\\anaconda3\\lib\\site-packages (from packaging->bleach->nbconvert) (3.0.9)\n",
      "Note: you may need to restart the kernel to use updated packages.\n"
     ]
    }
   ],
   "source": [
    "pip install nbconvert"
   ]
  },
  {
   "cell_type": "code",
   "execution_count": 2,
   "id": "1e1f1e59",
   "metadata": {},
   "outputs": [
    {
     "name": "stdout",
     "output_type": "stream",
     "text": [
      "Collecting Pandoc\n",
      "  Downloading pandoc-2.3.tar.gz (33 kB)\n",
      "  Preparing metadata (setup.py): started\n",
      "  Preparing metadata (setup.py): finished with status 'done'\n",
      "Collecting plumbum\n",
      "  Downloading plumbum-1.8.0-py3-none-any.whl (117 kB)\n",
      "     -------------------------------------- 117.5/117.5 kB 7.2 MB/s eta 0:00:00\n",
      "Collecting ply\n",
      "  Downloading ply-3.11-py2.py3-none-any.whl (49 kB)\n",
      "     ---------------------------------------- 49.6/49.6 kB 2.6 MB/s eta 0:00:00\n",
      "Requirement already satisfied: pywin32 in c:\\users\\chris\\anaconda3\\lib\\site-packages (from plumbum->Pandoc) (302)\n",
      "Building wheels for collected packages: Pandoc\n",
      "  Building wheel for Pandoc (setup.py): started\n",
      "  Building wheel for Pandoc (setup.py): finished with status 'done'\n",
      "  Created wheel for Pandoc: filename=pandoc-2.3-py3-none-any.whl size=33263 sha256=b6a51bfe0b67a39587e851c0edd6573a1804e6b6baca7aaed4c3640ce08b3b36\n",
      "  Stored in directory: c:\\users\\chris\\appdata\\local\\pip\\cache\\wheels\\69\\e6\\a1\\1daa96d919c9e09a71473649b717b8da286f3f8d7719d1cfc5\n",
      "Successfully built Pandoc\n",
      "Installing collected packages: ply, plumbum, Pandoc\n",
      "Successfully installed Pandoc-2.3 plumbum-1.8.0 ply-3.11\n",
      "Note: you may need to restart the kernel to use updated packages.\n"
     ]
    }
   ],
   "source": [
    "pip install Pandoc"
   ]
  },
  {
   "cell_type": "code",
   "execution_count": 3,
   "id": "925828f2",
   "metadata": {},
   "outputs": [
    {
     "name": "stdout",
     "output_type": "stream",
     "text": [
      "Collecting TeXNote: you may need to restart the kernel to use updated packages.\n",
      "\n",
      "  Downloading tex-1.8.tar.gz (4.2 kB)\n",
      "  Preparing metadata (setup.py): started\n",
      "  Preparing metadata (setup.py): finished with status 'done'\n",
      "Building wheels for collected packages: TeX\n",
      "  Building wheel for TeX (setup.py): started\n",
      "  Building wheel for TeX (setup.py): finished with status 'done'\n",
      "  Created wheel for TeX: filename=tex-1.8-py3-none-any.whl size=5110 sha256=82051ae204b0c78e43cc0c92cae7d65fa70629af56326463fbdf4f579d1880f6\n",
      "  Stored in directory: c:\\users\\chris\\appdata\\local\\pip\\cache\\wheels\\28\\89\\f2\\8455d9d5d4555c9c3f80be3f69a9b5997a9579653064b4182a\n",
      "Successfully built TeX\n",
      "Installing collected packages: TeX\n",
      "Successfully installed TeX-1.8\n"
     ]
    }
   ],
   "source": [
    "pip install TeX"
   ]
  },
  {
   "cell_type": "code",
   "execution_count": null,
   "id": "f1036772",
   "metadata": {},
   "outputs": [],
   "source": []
  }
 ],
 "metadata": {
  "kernelspec": {
   "display_name": "Python 3 (ipykernel)",
   "language": "python",
   "name": "python3"
  },
  "language_info": {
   "codemirror_mode": {
    "name": "ipython",
    "version": 3
   },
   "file_extension": ".py",
   "mimetype": "text/x-python",
   "name": "python",
   "nbconvert_exporter": "python",
   "pygments_lexer": "ipython3",
   "version": "3.9.13"
  }
 },
 "nbformat": 4,
 "nbformat_minor": 5
}
