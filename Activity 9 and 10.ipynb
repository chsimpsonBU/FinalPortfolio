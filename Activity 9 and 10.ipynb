{
 "cells": [
  {
   "cell_type": "markdown",
   "id": "5be0952a",
   "metadata": {},
   "source": [
    "### Data Wrangling Activity 9"
   ]
  },
  {
   "cell_type": "code",
   "execution_count": 3,
   "id": "9fb42d23",
   "metadata": {},
   "outputs": [],
   "source": [
    "# Importing lubraries needed for assignment\n",
    "\n",
    "import urllib.request, urllib.parse, urllib.error\n",
    "import requests\n",
    "from bs4 import BeautifulSoup\n",
    "import ssl\n",
    "import re"
   ]
  },
  {
   "cell_type": "code",
   "execution_count": 5,
   "id": "0efb0756",
   "metadata": {},
   "outputs": [],
   "source": [
    "# The text instructs us to script out ignoring errors\n",
    "ctx = ssl.create_default_context() \n",
    "ctx.check_hostname = False \n",
    "ctx.verify_mode = ssl.CERT_NONE"
   ]
  },
  {
   "cell_type": "code",
   "execution_count": 7,
   "id": "b5fab451",
   "metadata": {},
   "outputs": [],
   "source": [
    "# Importing website data to variables\n",
    "toplOOurl = 'https://www.gutenberg.org/browse/scores/top' \n",
    "response = requests.get(toplOOurl)"
   ]
  },
  {
   "cell_type": "code",
   "execution_count": 9,
   "id": "e0b90738",
   "metadata": {},
   "outputs": [
    {
     "name": "stdout",
     "output_type": "stream",
     "text": [
      "success\n"
     ]
    },
    {
     "data": {
      "text/plain": [
       "1"
      ]
     },
     "execution_count": 9,
     "metadata": {},
     "output_type": "execute_result"
    }
   ],
   "source": [
    "# Using a function to check the status of the web request from above\n",
    "def status_check(r):\n",
    "        if r.status_code==200:\n",
    "            print(\"success\")\n",
    "            return 1\n",
    "        else:\n",
    "            print(\"Failed\")\n",
    "            return -1\n",
    "\n",
    "# Calling function to check the response variable\n",
    "\n",
    "status_check(response)"
   ]
  },
  {
   "cell_type": "code",
   "execution_count": 14,
   "id": "91dbbfbe",
   "metadata": {},
   "outputs": [
    {
     "data": {
      "text/plain": [
       "['/',\n",
       " '/about/',\n",
       " '/about/',\n",
       " '/policy/collection_development.html',\n",
       " '/about/contact_information.html',\n",
       " '/about/background/',\n",
       " '/policy/permission.html',\n",
       " '/policy/privacy_policy.html',\n",
       " '/policy/terms_of_use.html',\n",
       " '/ebooks/',\n",
       " '/ebooks/',\n",
       " '/ebooks/bookshelf/',\n",
       " '/browse/scores/top',\n",
       " '/ebooks/offline_catalogs.html',\n",
       " '/help/',\n",
       " '/help/',\n",
       " '/help/copyright.html',\n",
       " '/help/errata.html',\n",
       " '/help/file_formats.html',\n",
       " '/help/faq.html',\n",
       " '/policy/',\n",
       " '/help/public_domain_ebook_submission.html',\n",
       " '/help/submitting_your_own_work.html',\n",
       " '/help/mobile.html',\n",
       " '/attic/',\n",
       " '/donate/',\n",
       " '/donate/',\n",
       " '#books-last1',\n",
       " '#authors-last1',\n",
       " '#books-last7']"
      ]
     },
     "execution_count": 14,
     "metadata": {},
     "output_type": "execute_result"
    }
   ],
   "source": [
    "# Now let's strip out the website content\n",
    "\n",
    "contents = response.content.decode(response.encoding)\n",
    "soup = BeautifulSoup(contents, 'html.parser')\n",
    "\n",
    "# now let's strip out all of the HTML href tags into a list variable\n",
    "\n",
    "list_links=[]\n",
    "\n",
    "# Here's a loop to pull the href tags\n",
    "\n",
    "for link in soup.find_all('a'):\n",
    "    #print(link.get('href'))\n",
    "    list_links.append(link.get('href'))\n",
    "    \n",
    "# Checking what's inside the list_links lists\n",
    "\n",
    "list_links[:30]"
   ]
  },
  {
   "cell_type": "code",
   "execution_count": 17,
   "id": "e1debb2f",
   "metadata": {},
   "outputs": [
    {
     "name": "stdout",
     "output_type": "stream",
     "text": [
      "\n",
      "The file numbers for the top 100 ebooks on Gutenberk are shown below\n",
      "----------------------------------------------------------------------\n",
      "[1, 1, 7, 7, 30, 30, 1513, 2641, 145, 37106, 16389, 100, 67979, 394, 6761, 2701, 2160, 4085, 6593, 5197, 1259, 1342, 84, 11, 70059, 174, 98, 70060, 70055, 28054, 1661, 64317, 1952, 345, 5200, 1232, 5827, 2554, 4300, 1400, 24637, 1184, 42108, 1080, 1260, 20228, 67098, 408, 2600, 3206, 2542, 17607, 6130, 2591, 76, 74, 58585, 219, 43, 30254, 4363, 844, 205, 768, 1998, 45, 996, 514, 1497, 5740, 8581, 27827, 120, 70052, 25344, 10007, 1399, 2680, 47629, 46, 158, 161, 26184, 2814, 135, 244, 33283, 36, 7370, 10676, 1727, 37134]\n"
     ]
    }
   ],
   "source": [
    "# looping the list_links data to strip out book numbers, and adding them (append) to the booknum list\n",
    "\n",
    "booknum=[]\n",
    "\n",
    "for i in range(19,119):\n",
    "    link=list_links[i]\n",
    "    link=link.strip()\n",
    "    n=re.findall('[0-9]+',link)\n",
    "    if len(n)==1:\n",
    "        booknum.append(int(n[0]))\n",
    "        \n",
    "print(\"\\nThe file numbers for the top 100 ebooks on Gutenberk are shown below\\n\"+\"-\"*70)\n",
    "print(booknum)\n",
    "    "
   ]
  },
  {
   "cell_type": "code",
   "execution_count": 49,
   "id": "606a2e8f",
   "metadata": {},
   "outputs": [
    {
     "name": "stdout",
     "output_type": "stream",
     "text": [
      "\n",
      "\n",
      "\n",
      "\n",
      "Top 100 | Project Gutenberg\n",
      "\n",
      "\n",
      "\n",
      "\n",
      "\n",
      "\n",
      "\n",
      "\n",
      "\n",
      "\n",
      "\n",
      "\n",
      "\n",
      "\n",
      "\n",
      "\n",
      "\n",
      "\n",
      "\n"
     ]
    }
   ],
   "source": [
    "# We have a ton of random spacing from the HTML code\n",
    "\n",
    "print(soup.text[:50])\n"
   ]
  },
  {
   "cell_type": "code",
   "execution_count": 59,
   "id": "3b73db33",
   "metadata": {},
   "outputs": [],
   "source": [
    "# Now let's remove redundent spacing in the booknum list data. \n",
    "# in the activity we are dumping the book titles into a new list\n",
    "\n",
    "list_titles_temp=[]\n",
    "\n",
    "start_idx=soup.text.splitlines().index('Top 100 EBooks yesterday')\n",
    "\n",
    "for i in range(100):\n",
    "    list_titles_temp.append(soup.text.splitlines()[start_idx+2+i])"
   ]
  },
  {
   "cell_type": "code",
   "execution_count": 60,
   "id": "29f01795",
   "metadata": {},
   "outputs": [
    {
     "name": "stdout",
     "output_type": "stream",
     "text": [
      "Top \n",
      "Top \n",
      "Top \n",
      "Top \n",
      "\n",
      "\n",
      "Top \n",
      "\n",
      "Romeo and Juliet by William Shakespeare \n",
      "A Room with a View by E\n",
      "Middlemarch by George Eliot \n",
      "Little Women\n",
      "The Enchanted April by Elizabeth Von Arnim \n",
      "The Complete Works of William Shakespeare by William Shakespeare \n",
      "The Blue Castle\n",
      "Cranford by Elizabeth Cleghorn Gaskell \n",
      "The Adventures of Ferdinand Count Fathom \n",
      "Moby Dick\n",
      "The Expedition of Humphry Clinker by T\n",
      "The Adventures of Roderick Random by T\n",
      "History of Tom Jones\n",
      "My Life \n",
      "Twenty Years After by Alexandre Dumas \n",
      "Pride and Prejudice by Jane Austen \n",
      "Frankenstein\n",
      "Alice\n",
      "Hidden blood by W\n",
      "The Picture of Dorian Gray by Oscar Wilde \n",
      "A Tale of Two Cities by Charles Dickens \n",
      "Paul Bunyan by James Stevens \n",
      "Satan\n",
      "The Brothers Karamazov by Fyodor Dostoyevsky \n",
      "The Adventures of Sherlock Holmes by Arthur Conan Doyle \n",
      "The Great Gatsby by F\n",
      "The Yellow Wallpaper by Charlotte Perkins Gilman \n",
      "Dracula by Bram Stoker \n",
      "Metamorphosis by Franz Kafka \n",
      "The Prince by Niccol\n",
      "The Problems of Philosophy by Bertrand Russell \n",
      "Crime and Punishment by Fyodor Dostoyevsky \n",
      "Ulysses by James Joyce \n",
      "Great Expectations by Charles Dickens \n",
      "Bromide Printing and Enlarging by John A\n",
      "The Count of Monte Cristo\n",
      "The Slang Dictionary\n",
      "A Modest Proposal by Jonathan Swift \n",
      "Jane Eyre\n",
      "Noli Me Tangere by Jos\n",
      "Winnie\n",
      "The Souls of Black Folk by W\n",
      "War and Peace by graf Leo Tolstoy \n",
      "Moby Multiple Language Lists of Common Words by Grady Ward \n",
      "A Doll\n",
      "Superstition In All Ages \n",
      "The Iliad by Homer \n",
      "Grimms\n",
      "Adventures of Huckleberry Finn by Mark Twain \n",
      "The Adventures of Tom Sawyer\n",
      "The Prophet by Kahlil Gibran \n",
      "Heart of Darkness by Joseph Conrad \n",
      "The Strange Case of Dr\n",
      "The Romance of Lust\n",
      "Beyond Good and Evil by Friedrich Wilhelm Nietzsche \n",
      "The Importance of Being Earnest\n",
      "Walden\n",
      "Wuthering Heights by Emily Bront\n",
      "Thus Spake Zarathustra\n",
      "Anne of Green Gables by L\n",
      "Don Quixote by Miguel de Cervantes Saavedra \n",
      "Little Women by Louisa May Alcott \n",
      "The Republic by Plato \n",
      "Tractatus Logico\n",
      "The Art of Money Getting\n",
      "The Kama Sutra of Vatsyayana by Vatsyayana \n",
      "Treasure Island by Robert Louis Stevenson \n",
      "Ancient calendars and constellations by Emmeline M\n",
      "The Scarlet Letter by Nathaniel Hawthorne \n",
      "Carmilla by Joseph Sheridan Le Fanu \n",
      "Anna Karenina by graf Leo Tolstoy \n",
      "Meditations by Emperor of Rome Marcus Aurelius \n",
      "Ang \n",
      "A Christmas Carol in Prose\n",
      "Emma by Jane Austen \n",
      "Sense and Sensibility by Jane Austen \n",
      "Simple Sabotage Field Manual by United States\n",
      "Dubliners by James Joyce \n",
      "Les Mis\n",
      "A Study in Scarlet by Arthur Conan Doyle \n",
      "Calculus Made Easy by Silvanus P\n",
      "The War of the Worlds by H\n",
      "Second Treatise of Government by John Locke \n",
      "The Reign of Greed by Jos\n",
      "The Odyssey by Homer \n",
      "The Elements of Style by William Strunk \n",
      "Peter Pan by J\n",
      "Coloured engravings of heaths\n",
      "The Hound of the Baskervilles by Arthur Conan Doyle \n",
      "The Wonderful Wizard of Oz by L\n",
      "Autobiography of Benjamin Franklin by Benjamin Franklin \n",
      "The King James Version of the Bible \n"
     ]
    }
   ],
   "source": [
    "# second loop\n",
    "list_titles=[]\n",
    "\n",
    "# formatting was off, reconstructing loop\n",
    "\n",
    "for i in range(100):\n",
    "    id1,id2=re.match('^[a-zA-Z ]*',list_titles_temp[i]).span()\n",
    "    list_titles.append(list_titles_temp[i][id1:id2])\n",
    "\n",
    "# printing the titles\n",
    "\n",
    "for l in list_titles:\n",
    "    print(l)\n",
    "\n"
   ]
  },
  {
   "cell_type": "markdown",
   "id": "a9db9bf9",
   "metadata": {},
   "source": [
    "### Data Wrangling Activity 10"
   ]
  },
  {
   "cell_type": "code",
   "execution_count": 61,
   "id": "e1a10e42",
   "metadata": {},
   "outputs": [],
   "source": [
    "import json"
   ]
  },
  {
   "cell_type": "code",
   "execution_count": 67,
   "id": "9b1ceb00",
   "metadata": {},
   "outputs": [],
   "source": [
    "# created the APIkeys.json file hosted on my local machine\n",
    "\n",
    "#loading key into variable\n",
    "\n",
    "with open('APIkeys.json') as f:\n",
    "    keys = json.load(f)\n",
    "    omdbapi = keys['OMDBapi']\n",
    "    \n",
    "# assigning the begining URL to a variable for loop construction later\n",
    "\n",
    "serviceurl = 'http://www.omdbapi.com/?'\n",
    "\n",
    "# variable for the API key portion of the URL\n",
    "\n",
    "apikey = '&apikey='+omdbapi"
   ]
  },
  {
   "cell_type": "code",
   "execution_count": 114,
   "id": "c688447f",
   "metadata": {},
   "outputs": [],
   "source": [
    "# utility function to construct json file with headers\n",
    "\n",
    "def print_json(json_data):\n",
    "    list_keys=['Title','Year','Released','Runtime','Genre','Director', 'Writer', 'Actors','Plot','Language','Country','Awards','Ratings','Metascore','imdbRating','imdbVotes','imdbID']\n",
    "    print(\"-\"*50)\n",
    "    for k in list_keys:\n",
    "        if k in list(json_data.keys()):\n",
    "            print(f\"{k}: {json_data[k]}\")\n",
    "            print(\"-\"*50)"
   ]
  },
  {
   "cell_type": "code",
   "execution_count": 121,
   "id": "7a0951e9",
   "metadata": {},
   "outputs": [],
   "source": [
    "# utitlity function to downlaod poster of the movie\n",
    "\n",
    "def save_poster(json_data): \n",
    "    import os\n",
    "    title = json_data['Title'] \n",
    "    poster_url = json_data['Poster']\n",
    "    poster_file_extension=poster_url.split('.')[-1]\n",
    "    poster_data = urllib.request.urlopen(poster_url).read() \n",
    "    savelocation=os.getcwd()+'\\\\'+'Posters'+'\\\\'\n",
    "    \n",
    "    if not os.path.isdir(savelocation):\n",
    "        os.mkdir(savelocation)\n",
    "    filename=savelocation+str(title)+'.'+poster_file_extension \n",
    "    f=open(filename,'wb') \n",
    "    f.write(poster_data) \n",
    "    f .close"
   ]
  },
  {
   "cell_type": "code",
   "execution_count": 138,
   "id": "c18e422a",
   "metadata": {},
   "outputs": [],
   "source": [
    "def search_movie(title): \n",
    "    try:\n",
    "        url = serviceurl + urllib.parse.urlencode({'t': str(title)})+apikey \n",
    "        print(f'Retrieving the data of \"{title}\" now... ')\n",
    "        print(url)\n",
    "        uh = urllib.request.urlopen(url) \n",
    "        data = uh.read()\n",
    "        json_data=json.loads(data)\n",
    "              \n",
    "        if json_data['Response']=='True': \n",
    "            print_json(json_data)\n",
    "            \n",
    "            if json_data['Poster']!='':\n",
    "                save_poster(json_data)\n",
    "            \n",
    "        else:\n",
    "            print(\"Error encountered: \",json_data['Error'])\n",
    "              \n",
    "    except urllib.error.URLError as e:\n",
    "            print(f\"ERROR: {e.reason}\")\n",
    "    "
   ]
  },
  {
   "cell_type": "code",
   "execution_count": 123,
   "id": "721447e0",
   "metadata": {},
   "outputs": [
    {
     "name": "stdout",
     "output_type": "stream",
     "text": [
      "Retrieving the data of \"Titanic\" now... \n",
      "http://www.omdbapi.com/?t=Titanic&apikey=c09ec066\n",
      "--------------------------------------------------\n",
      "Title: Titanic\n",
      "--------------------------------------------------\n",
      "Year: 1997\n",
      "--------------------------------------------------\n",
      "Released: 19 Dec 1997\n",
      "--------------------------------------------------\n",
      "Runtime: 194 min\n",
      "--------------------------------------------------\n",
      "Genre: Drama, Romance\n",
      "--------------------------------------------------\n",
      "Director: James Cameron\n",
      "--------------------------------------------------\n",
      "Writer: James Cameron\n",
      "--------------------------------------------------\n",
      "Actors: Leonardo DiCaprio, Kate Winslet, Billy Zane\n",
      "--------------------------------------------------\n",
      "Plot: A seventeen-year-old aristocrat falls in love with a kind but poor artist aboard the luxurious, ill-fated R.M.S. Titanic.\n",
      "--------------------------------------------------\n",
      "Language: English, Swedish, Italian, French\n",
      "--------------------------------------------------\n",
      "Country: United States, Mexico\n",
      "--------------------------------------------------\n",
      "Awards: Won 11 Oscars. 126 wins & 83 nominations total\n",
      "--------------------------------------------------\n",
      "Ratings: [{'Source': 'Internet Movie Database', 'Value': '7.9/10'}, {'Source': 'Rotten Tomatoes', 'Value': '88%'}, {'Source': 'Metacritic', 'Value': '75/100'}]\n",
      "--------------------------------------------------\n",
      "Metascore: 75\n",
      "--------------------------------------------------\n",
      "imdbRating: 7.9\n",
      "--------------------------------------------------\n",
      "imdbVotes: 1,185,567\n",
      "--------------------------------------------------\n",
      "imdbID: tt0120338\n",
      "--------------------------------------------------\n"
     ]
    }
   ],
   "source": [
    "# Now let's test the search_movie function\n",
    "\n",
    "search_movie(\"Titanic\")"
   ]
  },
  {
   "cell_type": "code",
   "execution_count": 139,
   "id": "cbb676b2",
   "metadata": {},
   "outputs": [
    {
     "name": "stdout",
     "output_type": "stream",
     "text": [
      "Retrieving the data of \"Random_error\" now... \n",
      "http://www.omdbapi.com/?t=Random_error&apikey=c09ec066\n",
      "Error encountered:  Movie not found!\n"
     ]
    }
   ],
   "source": [
    "# Testing error code, not working. The error must be something other than N/A\n",
    "# Confirmed titanic poster image is in my directory file!\n",
    "search_movie(\"Random_error\")"
   ]
  },
  {
   "cell_type": "markdown",
   "id": "1fd22f0d",
   "metadata": {},
   "source": [
    "### Return result from API call"
   ]
  },
  {
   "cell_type": "code",
   "execution_count": 129,
   "id": "afba4839",
   "metadata": {},
   "outputs": [
    {
     "name": "stdout",
     "output_type": "stream",
     "text": [
      "Current temperature in Omaha: 45.46 Degrees\n",
      "Current weather conditions: few clouds\n"
     ]
    }
   ],
   "source": [
    "# I have not heard back from twitter in 9 days, using another API call for this portion of the assignment. \n",
    "# hardcoding a city for this exercise\n",
    "\n",
    "import requests\n",
    "\n",
    "api_key = \"ce0efa199278d7b175aca39427dc7292\"\n",
    "city = \"Omaha\"  \n",
    "\n",
    "url = f\"http://api.openweathermap.org/data/2.5/weather?q={city}&units=imperial&appid={api_key}\"\n",
    "response = requests.get(url)\n",
    "\n",
    "if response.status_code == 200:\n",
    "    data = response.json()\n",
    "    print(f\"Current temperature in {city}: {data['main']['temp']} Degrees\")\n",
    "    print(f\"Current weather conditions: {data['weather'][0]['description']}\")\n",
    "else:\n",
    "    print(f\"Error: {response.status_code} - {response.reason}\")\n"
   ]
  },
  {
   "cell_type": "markdown",
   "id": "25631584",
   "metadata": {},
   "source": [
    "### Visualizations"
   ]
  },
  {
   "cell_type": "code",
   "execution_count": 131,
   "id": "4924e7f9",
   "metadata": {},
   "outputs": [
    {
     "data": {
      "image/png": "[encoded data removed]",
      "text/plain": [
       "<Figure size 640x480 with 1 Axes>"
      ]
     },
     "metadata": {},
     "output_type": "display_data"
    }
   ],
   "source": [
    "# Line plot\n",
    "\n",
    "import matplotlib.pyplot as plt\n",
    "\n",
    "x = range(10)\n",
    "y = [i**2 for i in x]\n",
    "\n",
    "plt.plot(x, y)\n",
    "\n",
    "plt.title(\"Line plot\")\n",
    "plt.xlabel(\"x\")\n",
    "plt.ylabel(\"y\")\n",
    "\n",
    "plt.show()\n"
   ]
  },
  {
   "cell_type": "code",
   "execution_count": 132,
   "id": "f6e75b87",
   "metadata": {},
   "outputs": [
    {
     "data": {
      "image/png": "[encoded data removed]",
      "text/plain": [
       "<Figure size 640x480 with 1 Axes>"
      ]
     },
     "metadata": {},
     "output_type": "display_data"
    }
   ],
   "source": [
    "# Scatter Plot\n",
    "\n",
    "import random\n",
    "\n",
    "x = [random.randint(1, 100) for i in range(50)]\n",
    "y = [random.randint(1, 100) for i in range(50)]\n",
    "\n",
    "plt.scatter(x, y)\n",
    "\n",
    "plt.title(\"Scatter plot\")\n",
    "plt.xlabel(\"x\")\n",
    "plt.ylabel(\"y\")\n",
    "\n",
    "plt.show()\n"
   ]
  },
  {
   "cell_type": "code",
   "execution_count": 133,
   "id": "30773d2e",
   "metadata": {},
   "outputs": [
    {
     "data": {
      "image/png": "[encoded data removed]",
      "text/plain": [
       "<Figure size 640x480 with 1 Axes>"
      ]
     },
     "metadata": {},
     "output_type": "display_data"
    }
   ],
   "source": [
    "# Histogram\n",
    "\n",
    "import random\n",
    "\n",
    "data = [random.normalvariate(0, 1) for i in range(1000)]\n",
    "\n",
    "plt.hist(data, bins=30)\n",
    "\n",
    "plt.title(\"Histogram\")\n",
    "plt.xlabel(\"Value\")\n",
    "plt.ylabel(\"Frequency\")\n",
    "\n",
    "plt.show()\n"
   ]
  }
 ],
 "metadata": {
  "kernelspec": {
   "display_name": "Python 3 (ipykernel)",
   "language": "python",
   "name": "python3"
  },
  "language_info": {
   "codemirror_mode": {
    "name": "ipython",
    "version": 3
   },
   "file_extension": ".py",
   "mimetype": "text/x-python",
   "name": "python",
   "nbconvert_exporter": "python",
   "pygments_lexer": "ipython3",
   "version": "3.9.13"
  }
 },
 "nbformat": 4,
 "nbformat_minor": 5
}
