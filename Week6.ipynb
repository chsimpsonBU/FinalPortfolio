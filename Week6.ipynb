{
 "cells": [
  {
   "cell_type": "markdown",
   "id": "c6f63e61",
   "metadata": {},
   "source": [
    " ## Data Wrangling with Python: Activity 7"
   ]
  },
  {
   "cell_type": "code",
   "execution_count": 1,
   "id": "e2fe4eb5",
   "metadata": {},
   "outputs": [
    {
     "name": "stdout",
     "output_type": "stream",
     "text": [
      "Collecting bs4\n",
      "  Downloading bs4-0.0.1.tar.gz (1.1 kB)\n",
      "  Preparing metadata (setup.py): started\n",
      "  Preparing metadata (setup.py): finished with status 'done'\n",
      "Requirement already satisfied: beautifulsoup4 in c:\\users\\chris\\anaconda3\\lib\\site-packages (from bs4) (4.11.1)\n",
      "Requirement already satisfied: soupsieve>1.2 in c:\\users\\chris\\anaconda3\\lib\\site-packages (from beautifulsoup4->bs4) (2.3.1)\n",
      "Building wheels for collected packages: bs4\n",
      "  Building wheel for bs4 (setup.py): started\n",
      "  Building wheel for bs4 (setup.py): finished with status 'done'\n",
      "  Created wheel for bs4: filename=bs4-0.0.1-py3-none-any.whl size=1257 sha256=44fcc2cc114ff8fd3aa8d4c2a0add0bbd5032cd54b03022956023de7e0f013c4\n",
      "  Stored in directory: c:\\users\\chris\\appdata\\local\\pip\\cache\\wheels\\73\\2b\\cb\\099980278a0c9a3e57ff1a89875ec07bfa0b6fcbebb9a8cad3\n",
      "Successfully built bs4\n",
      "Installing collected packages: bs4\n",
      "Successfully installed bs4-0.0.1\n",
      "Note: you may need to restart the kernel to use updated packages.\n"
     ]
    }
   ],
   "source": [
    "#disregard- installing beautifulsoup\n",
    "pip install bs4"
   ]
  },
  {
   "cell_type": "code",
   "execution_count": 4,
   "id": "78640893",
   "metadata": {},
   "outputs": [],
   "source": [
    "#importing libraries\n",
    "import pandas as pd\n",
    "import requests\n",
    "from bs4 import BeautifulSoup\n"
   ]
  },
  {
   "cell_type": "code",
   "execution_count": 43,
   "id": "6f8799af",
   "metadata": {},
   "outputs": [],
   "source": [
    "# opening wikapedia site and loading the GDP data into the fd variable- taking a shortcut here to see if it works. Calling live wepage didn't work for me here. Saving HTML. Using RB versus just R as having decoding errors.\n",
    "# Changed encoding to hopefully resolve error.\n",
    "\n",
    "fd = open(\"view-source_https___en.wikipedia.org_wiki_List_of_countries_by_GDP_(nominal).htm\", \"rb\")\n",
    "soup = BeautifulSoup(fd)\n",
    "fd.close()\n",
    "\n"
   ]
  },
  {
   "cell_type": "code",
   "execution_count": 38,
   "id": "bb09b94f",
   "metadata": {},
   "outputs": [
    {
     "name": "stdout",
     "output_type": "stream",
     "text": [
      "Total number of tables are 7 \n"
     ]
    }
   ],
   "source": [
    "all_tables = soup.find_all(\"table\")\n",
    "print(\"Total number of tables are {} \".format(len(all_tables)))\n"
   ]
  },
  {
   "cell_type": "code",
   "execution_count": 140,
   "id": "092a3a09",
   "metadata": {},
   "outputs": [
    {
     "name": "stdout",
     "output_type": "stream",
     "text": [
      "<class 'bs4.element.Tag'>\n"
     ]
    },
    {
     "data": {
      "text/html": [
       "<div>\n",
       "<style scoped>\n",
       "    .dataframe tbody tr th:only-of-type {\n",
       "        vertical-align: middle;\n",
       "    }\n",
       "\n",
       "    .dataframe tbody tr th {\n",
       "        vertical-align: top;\n",
       "    }\n",
       "\n",
       "    .dataframe thead th {\n",
       "        text-align: right;\n",
       "    }\n",
       "</style>\n",
       "<table border=\"1\" class=\"dataframe\">\n",
       "  <thead>\n",
       "    <tr style=\"text-align: right;\">\n",
       "      <th></th>\n",
       "      <th>0</th>\n",
       "    </tr>\n",
       "  </thead>\n",
       "  <tbody>\n",
       "    <tr>\n",
       "      <th>0</th>\n",
       "      <td>\\n</td>\n",
       "    </tr>\n",
       "    <tr>\n",
       "      <th>1</th>\n",
       "      <td>[GDP (USD million) by country\\n]</td>\n",
       "    </tr>\n",
       "    <tr>\n",
       "      <th>2</th>\n",
       "      <td>\\n</td>\n",
       "    </tr>\n",
       "    <tr>\n",
       "      <th>3</th>\n",
       "      <td>[[\\n, [Country/Territory\\n], \\n, [&lt;a href=\"/wi...</td>\n",
       "    </tr>\n",
       "  </tbody>\n",
       "</table>\n",
       "</div>"
      ],
      "text/plain": [
       "                                                   0\n",
       "0                                                 \\n\n",
       "1                   [GDP (USD million) by country\\n]\n",
       "2                                                 \\n\n",
       "3  [[\\n, [Country/Territory\\n], \\n, [<a href=\"/wi..."
      ]
     },
     "execution_count": 140,
     "metadata": {},
     "output_type": "execute_result"
    }
   ],
   "source": [
    "# Didn't get a class type here. May need to open source HTML instead of page HTML.\n",
    "# Edited class keywork to get string to work. \n",
    "\n",
    "data_table = soup.find(\"table\", {\"class\": \"wikitable\"})\n",
    "print(type(data_table))\n",
    "\n",
    "# trying to preview data_table\n",
    "df = pd.DataFrame(data_table)\n",
    "df.head()"
   ]
  },
  {
   "cell_type": "code",
   "execution_count": 113,
   "id": "21153103",
   "metadata": {},
   "outputs": [
    {
     "name": "stdout",
     "output_type": "stream",
     "text": [
      "5\n"
     ]
    },
    {
     "data": {
      "text/plain": [
       "<tr class=\"static-row-header\" style=\"text-align:center;vertical-align:bottom;\">\n",
       "<th rowspan=\"2\">Country/Territory\n",
       "</th>\n",
       "<th rowspan=\"2\"><a href=\"/wiki/United_Nations_geoscheme\" title=\"United Nations geoscheme\">UN Region</a>\n",
       "</th>\n",
       "<th colspan=\"2\"><a href=\"/wiki/International_Monetary_Fund\" title=\"International Monetary Fund\">IMF</a><sup class=\"reference\" id=\"cite_ref-GDP_IMF_2-2\"><a href=\"#cite_note-GDP_IMF-2\">[1]</a></sup><sup class=\"reference\" id=\"cite_ref-15\"><a href=\"#cite_note-15\">[13]</a></sup>\n",
       "</th>\n",
       "<th colspan=\"2\"><a href=\"/wiki/World_Bank\" title=\"World Bank\">World Bank</a><sup class=\"reference\" id=\"cite_ref-16\"><a href=\"#cite_note-16\">[14]</a></sup>\n",
       "</th>\n",
       "<th colspan=\"2\"><a href=\"/wiki/United_Nations\" title=\"United Nations\">United Nations</a><sup class=\"reference\" id=\"cite_ref-UN_17-0\"><a href=\"#cite_note-UN-17\">[15]</a></sup>\n",
       "</th></tr>"
      ]
     },
     "execution_count": 113,
     "metadata": {},
     "output_type": "execute_result"
    }
   ],
   "source": [
    "# Tried to troubleshoot sources_list variable. td is not found in the html in sources variable.\n",
    "\n",
    "sources = data_table.tbody.findAll('tr', recursive=False)[0]\n",
    "\n",
    "# using th for the end of a source instead of td. \n",
    "sources_list = [td for td in sources.findAll('th')]\n",
    "print(len(sources_list))\n",
    "#looking into sources_list to check data\n",
    "sources"
   ]
  },
  {
   "cell_type": "code",
   "execution_count": 128,
   "id": "0abb1bea",
   "metadata": {},
   "outputs": [
    {
     "data": {
      "text/plain": [
       "[]"
      ]
     },
     "execution_count": 128,
     "metadata": {},
     "output_type": "execute_result"
    }
   ],
   "source": [
    "# not sure what's going on here- data_table has 'td' in the frame. bs4 not recognizing the td tags\n",
    "# not getting an output\n",
    "\n",
    "data = data_table.tbody.findAll('tr', recursize=False)[1].findAll(\"td\", recursive=False)\n",
    "data"
   ]
  },
  {
   "cell_type": "code",
   "execution_count": 127,
   "id": "6092ba6d",
   "metadata": {},
   "outputs": [
    {
     "data": {
      "text/plain": [
       "[]"
      ]
     },
     "execution_count": 127,
     "metadata": {},
     "output_type": "execute_result"
    }
   ],
   "source": [
    "# bs4 not finding 'table'\n",
    "data_tables= []\n",
    "for td in data:\n",
    "    data_tables.append(td.finadAll('table'))\n",
    "data_tables"
   ]
  },
  {
   "cell_type": "code",
   "execution_count": 75,
   "id": "4dab294d",
   "metadata": {},
   "outputs": [
    {
     "data": {
      "text/plain": [
       "0"
      ]
     },
     "execution_count": 75,
     "metadata": {},
     "output_type": "execute_result"
    }
   ],
   "source": [
    "len(data_tables)"
   ]
  },
  {
   "cell_type": "code",
   "execution_count": 125,
   "id": "b8cb937d",
   "metadata": {},
   "outputs": [
    {
     "name": "stdout",
     "output_type": "stream",
     "text": [
      "['World Bank', 'World Bank', 'World Bank', 'World Bank', 'World Bank']\n"
     ]
    }
   ],
   "source": [
    "# got lost here. tried to change the position for get text, but it's only referencing the 4th source in the variable.\n",
    "source_names = [sources.findAll('a')[4].getText() for source in sources_list]\n",
    "print(source_names)"
   ]
  },
  {
   "cell_type": "code",
   "execution_count": 126,
   "id": "710cdc37",
   "metadata": {},
   "outputs": [
    {
     "ename": "IndexError",
     "evalue": "list index out of range",
     "output_type": "error",
     "traceback": [
      "\u001b[1;31m---------------------------------------------------------------------------\u001b[0m",
      "\u001b[1;31mIndexError\u001b[0m                                Traceback (most recent call last)",
      "\u001b[1;32m~\\AppData\\Local\\Temp\\ipykernel_25852\\4205411362.py\u001b[0m in \u001b[0;36m<module>\u001b[1;34m\u001b[0m\n\u001b[1;32m----> 1\u001b[1;33m \u001b[0mheader1\u001b[0m \u001b[1;33m=\u001b[0m \u001b[1;33m[\u001b[0m\u001b[0mth\u001b[0m\u001b[1;33m.\u001b[0m\u001b[0mgetText\u001b[0m\u001b[1;33m(\u001b[0m\u001b[1;33m)\u001b[0m\u001b[1;33m.\u001b[0m\u001b[0mstrip\u001b[0m\u001b[1;33m(\u001b[0m\u001b[1;33m)\u001b[0m \u001b[1;32mfor\u001b[0m \u001b[0mth\u001b[0m \u001b[1;32min\u001b[0m \u001b[0mdata_tables\u001b[0m\u001b[1;33m[\u001b[0m\u001b[1;36m0\u001b[0m\u001b[1;33m]\u001b[0m\u001b[1;33m[\u001b[0m\u001b[1;36m0\u001b[0m\u001b[1;33m]\u001b[0m\u001b[1;33m.\u001b[0m\u001b[0mfindAll\u001b[0m\u001b[1;33m(\u001b[0m\u001b[1;34m'thead'\u001b[0m\u001b[1;33m)\u001b[0m\u001b[1;33m[\u001b[0m\u001b[1;36m0\u001b[0m\u001b[1;33m]\u001b[0m\u001b[1;33m.\u001b[0m\u001b[0mfindAll\u001b[0m\u001b[1;33m(\u001b[0m\u001b[1;34m'th'\u001b[0m\u001b[1;33m)\u001b[0m\u001b[1;33m]\u001b[0m\u001b[1;33m\u001b[0m\u001b[1;33m\u001b[0m\u001b[0m\n\u001b[0m\u001b[0;32m      2\u001b[0m \u001b[0mheader1\u001b[0m\u001b[1;33m\u001b[0m\u001b[1;33m\u001b[0m\u001b[0m\n",
      "\u001b[1;31mIndexError\u001b[0m: list index out of range"
     ]
    }
   ],
   "source": [
    "header1 = [th.getText().strip() for th in data_tables[0][0].findAll('thead')[0].findAll('th')]\n",
    "header1"
   ]
  },
  {
   "cell_type": "markdown",
   "id": "1163d57d",
   "metadata": {},
   "source": [
    "## Data Wrangling with Python: Activity 8"
   ]
  },
  {
   "cell_type": "code",
   "execution_count": 141,
   "id": "1c9be3a6",
   "metadata": {},
   "outputs": [],
   "source": [
    "import pandas as pd\n",
    "import numpy as np\n",
    "import matplotlib.pyplot as plt\n",
    "%matplotlib inline"
   ]
  },
  {
   "cell_type": "code",
   "execution_count": 142,
   "id": "87e1a353",
   "metadata": {},
   "outputs": [],
   "source": [
    "# read the visit file\n",
    "\n",
    "visitData = pd.read_csv(\"visit_data.csv\")"
   ]
  },
  {
   "cell_type": "code",
   "execution_count": 143,
   "id": "75a8c674",
   "metadata": {},
   "outputs": [
    {
     "data": {
      "text/html": [
       "<div>\n",
       "<style scoped>\n",
       "    .dataframe tbody tr th:only-of-type {\n",
       "        vertical-align: middle;\n",
       "    }\n",
       "\n",
       "    .dataframe tbody tr th {\n",
       "        vertical-align: top;\n",
       "    }\n",
       "\n",
       "    .dataframe thead th {\n",
       "        text-align: right;\n",
       "    }\n",
       "</style>\n",
       "<table border=\"1\" class=\"dataframe\">\n",
       "  <thead>\n",
       "    <tr style=\"text-align: right;\">\n",
       "      <th></th>\n",
       "      <th>id</th>\n",
       "      <th>first_name</th>\n",
       "      <th>last_name</th>\n",
       "      <th>email</th>\n",
       "      <th>gender</th>\n",
       "      <th>ip_address</th>\n",
       "      <th>visit</th>\n",
       "    </tr>\n",
       "  </thead>\n",
       "  <tbody>\n",
       "    <tr>\n",
       "      <th>0</th>\n",
       "      <td>1</td>\n",
       "      <td>Sonny</td>\n",
       "      <td>Dahl</td>\n",
       "      <td>sdahl0@mysql.com</td>\n",
       "      <td>Male</td>\n",
       "      <td>135.36.96.183</td>\n",
       "      <td>1225.0</td>\n",
       "    </tr>\n",
       "    <tr>\n",
       "      <th>1</th>\n",
       "      <td>2</td>\n",
       "      <td>NaN</td>\n",
       "      <td>NaN</td>\n",
       "      <td>dhoovart1@hud.gov</td>\n",
       "      <td>NaN</td>\n",
       "      <td>237.165.194.143</td>\n",
       "      <td>919.0</td>\n",
       "    </tr>\n",
       "    <tr>\n",
       "      <th>2</th>\n",
       "      <td>3</td>\n",
       "      <td>Gar</td>\n",
       "      <td>Armal</td>\n",
       "      <td>garmal2@technorati.com</td>\n",
       "      <td>NaN</td>\n",
       "      <td>166.43.137.224</td>\n",
       "      <td>271.0</td>\n",
       "    </tr>\n",
       "    <tr>\n",
       "      <th>3</th>\n",
       "      <td>4</td>\n",
       "      <td>Chiarra</td>\n",
       "      <td>Nulty</td>\n",
       "      <td>cnulty3@newyorker.com</td>\n",
       "      <td>NaN</td>\n",
       "      <td>139.98.137.108</td>\n",
       "      <td>1002.0</td>\n",
       "    </tr>\n",
       "    <tr>\n",
       "      <th>4</th>\n",
       "      <td>5</td>\n",
       "      <td>NaN</td>\n",
       "      <td>NaN</td>\n",
       "      <td>sleaver4@elegantthemes.com</td>\n",
       "      <td>NaN</td>\n",
       "      <td>46.117.117.27</td>\n",
       "      <td>2434.0</td>\n",
       "    </tr>\n",
       "    <tr>\n",
       "      <th>...</th>\n",
       "      <td>...</td>\n",
       "      <td>...</td>\n",
       "      <td>...</td>\n",
       "      <td>...</td>\n",
       "      <td>...</td>\n",
       "      <td>...</td>\n",
       "      <td>...</td>\n",
       "    </tr>\n",
       "    <tr>\n",
       "      <th>995</th>\n",
       "      <td>996</td>\n",
       "      <td>Averil</td>\n",
       "      <td>Pickover</td>\n",
       "      <td>apickoverrn@vk.com</td>\n",
       "      <td>Male</td>\n",
       "      <td>10.45.16.167</td>\n",
       "      <td>1305.0</td>\n",
       "    </tr>\n",
       "    <tr>\n",
       "      <th>996</th>\n",
       "      <td>997</td>\n",
       "      <td>Walton</td>\n",
       "      <td>Hallewell</td>\n",
       "      <td>whallewellro@nasa.gov</td>\n",
       "      <td>NaN</td>\n",
       "      <td>231.224.238.232</td>\n",
       "      <td>2531.0</td>\n",
       "    </tr>\n",
       "    <tr>\n",
       "      <th>997</th>\n",
       "      <td>998</td>\n",
       "      <td>NaN</td>\n",
       "      <td>NaN</td>\n",
       "      <td>ggallamorerp@meetup.com</td>\n",
       "      <td>Female</td>\n",
       "      <td>118.65.94.40</td>\n",
       "      <td>NaN</td>\n",
       "    </tr>\n",
       "    <tr>\n",
       "      <th>998</th>\n",
       "      <td>999</td>\n",
       "      <td>Sapphira</td>\n",
       "      <td>Terron</td>\n",
       "      <td>sterronrq@wordpress.org</td>\n",
       "      <td>NaN</td>\n",
       "      <td>24.77.234.208</td>\n",
       "      <td>250.0</td>\n",
       "    </tr>\n",
       "    <tr>\n",
       "      <th>999</th>\n",
       "      <td>1000</td>\n",
       "      <td>NaN</td>\n",
       "      <td>NaN</td>\n",
       "      <td>jandreuzzirr@paginegialle.it</td>\n",
       "      <td>Male</td>\n",
       "      <td>211.136.66.144</td>\n",
       "      <td>2389.0</td>\n",
       "    </tr>\n",
       "  </tbody>\n",
       "</table>\n",
       "<p>1000 rows × 7 columns</p>\n",
       "</div>"
      ],
      "text/plain": [
       "       id first_name  last_name                         email  gender  \\\n",
       "0       1      Sonny       Dahl              sdahl0@mysql.com    Male   \n",
       "1       2        NaN        NaN             dhoovart1@hud.gov     NaN   \n",
       "2       3        Gar      Armal        garmal2@technorati.com     NaN   \n",
       "3       4    Chiarra      Nulty         cnulty3@newyorker.com     NaN   \n",
       "4       5        NaN        NaN    sleaver4@elegantthemes.com     NaN   \n",
       "..    ...        ...        ...                           ...     ...   \n",
       "995   996     Averil   Pickover            apickoverrn@vk.com    Male   \n",
       "996   997     Walton  Hallewell         whallewellro@nasa.gov     NaN   \n",
       "997   998        NaN        NaN       ggallamorerp@meetup.com  Female   \n",
       "998   999   Sapphira     Terron       sterronrq@wordpress.org     NaN   \n",
       "999  1000        NaN        NaN  jandreuzzirr@paginegialle.it    Male   \n",
       "\n",
       "          ip_address   visit  \n",
       "0      135.36.96.183  1225.0  \n",
       "1    237.165.194.143   919.0  \n",
       "2     166.43.137.224   271.0  \n",
       "3     139.98.137.108  1002.0  \n",
       "4      46.117.117.27  2434.0  \n",
       "..               ...     ...  \n",
       "995     10.45.16.167  1305.0  \n",
       "996  231.224.238.232  2531.0  \n",
       "997     118.65.94.40     NaN  \n",
       "998    24.77.234.208   250.0  \n",
       "999   211.136.66.144  2389.0  \n",
       "\n",
       "[1000 rows x 7 columns]"
      ]
     },
     "execution_count": 143,
     "metadata": {},
     "output_type": "execute_result"
    }
   ],
   "source": [
    "# Let's look inside visitData variable\n",
    "visitData"
   ]
  },
  {
   "cell_type": "code",
   "execution_count": 145,
   "id": "e34e816a",
   "metadata": {},
   "outputs": [
    {
     "name": "stdout",
     "output_type": "stream",
     "text": [
      "First name is duplicated - True\n",
      "Last name is duplicated - True\n",
      "Email is duplicated - False\n"
     ]
    }
   ],
   "source": [
    "# using duplicated function bolean\n",
    "\n",
    "print(\"First name is duplicated - {}\".format(any(visitData.first_name.duplicated())))\n",
    "print(\"Last name is duplicated - {}\".format(any(visitData.last_name.duplicated())))\n",
    "print(\"Email is duplicated - {}\".format(any(visitData.email.duplicated())))"
   ]
  },
  {
   "cell_type": "code",
   "execution_count": 148,
   "id": "b89ffd46",
   "metadata": {},
   "outputs": [
    {
     "name": "stdout",
     "output_type": "stream",
     "text": [
      "The column Email contains NaN - False \n",
      "The column IP address contains NaN - False \n",
      "The column VIsit contains NaN - True \n"
     ]
    }
   ],
   "source": [
    "# Now let's check for missing information or blanks\n",
    "\n",
    "print(\"The column Email contains NaN - %r \" % visitData.email.isnull().values.any())\n",
    "print(\"The column IP address contains NaN - %r \" % visitData.ip_address.isnull().values.any())\n",
    "print(\"The column VIsit contains NaN - %r \" % visitData.visit.isnull().values.any())"
   ]
  },
  {
   "cell_type": "code",
   "execution_count": 160,
   "id": "078fd9ef",
   "metadata": {},
   "outputs": [
    {
     "name": "stdout",
     "output_type": "stream",
     "text": [
      "The size of previous data set was - 974 rows and the new size is - 974 rows.\n"
     ]
    }
   ],
   "source": [
    "# removing null values for the 'Visit' column- treating as outliers. \n",
    "\n",
    "#capturing current count of rows\n",
    "size_prev = visitData.shape\n",
    "\n",
    "#changing variables to keep original data\n",
    "\n",
    "visitData= visitData[np.isfinite(visitData['visit'])]\n",
    "size_after = df.shape\n",
    "size_prev\n",
    "size_after\n",
    "\n",
    "print(\"The size of previous data set was - {prev[0]} rows and the new size is - {after[0]} rows.\" .format(prev=size_prev, after=size_after))"
   ]
  },
  {
   "cell_type": "code",
   "execution_count": 163,
   "id": "f254b3d6",
   "metadata": {},
   "outputs": [
    {
     "data": {
      "text/plain": [
       "{'whiskers': [<matplotlib.lines.Line2D at 0x1f8a25ae1f0>,\n",
       "  <matplotlib.lines.Line2D at 0x1f8a25ae4c0>],\n",
       " 'caps': [<matplotlib.lines.Line2D at 0x1f8a25ae790>,\n",
       "  <matplotlib.lines.Line2D at 0x1f8a25aea60>],\n",
       " 'boxes': [<matplotlib.lines.Line2D at 0x1f8a259beb0>],\n",
       " 'medians': [<matplotlib.lines.Line2D at 0x1f8a25aed30>],\n",
       " 'fliers': [<matplotlib.lines.Line2D at 0x1f8a25be040>],\n",
       " 'means': []}"
      ]
     },
     "execution_count": 163,
     "metadata": {},
     "output_type": "execute_result"
    },
    {
     "data": {
      "image/png": "[encoded data removed]",
      "text/plain": [
       "<Figure size 640x480 with 1 Axes>"
      ]
     },
     "metadata": {},
     "output_type": "display_data"
    }
   ],
   "source": [
    "# ploting the data\n",
    "plt.boxplot(visitData.visit, notch=True)"
   ]
  },
  {
   "cell_type": "code",
   "execution_count": 168,
   "id": "a1668cff",
   "metadata": {
    "scrolled": true
   },
   "outputs": [
    {
     "name": "stdout",
     "output_type": "stream",
     "text": [
      "After getting rid of outliers the new size of the data is - 923\n"
     ]
    }
   ],
   "source": [
    "# shaving off some values\n",
    "\n",
    "df1 = visitData[(visitData[\"visit\"] <= 2900) & (visitData['visit'] >=100)]\n",
    "print(\"After getting rid of outliers the new size of the data is - {}\" .format(*df1.shape))"
   ]
  },
  {
   "cell_type": "markdown",
   "id": "d58b7f8f",
   "metadata": {},
   "source": [
    "## Practice SQL Lite"
   ]
  },
  {
   "cell_type": "code",
   "execution_count": 174,
   "id": "f4fea6fe",
   "metadata": {},
   "outputs": [],
   "source": [
    "# going to try code from our previous course for building SQL database\n",
    "# save a notepad with the .db extension for call"
   ]
  },
  {
   "cell_type": "code",
   "execution_count": 204,
   "id": "3abf8091",
   "metadata": {},
   "outputs": [
    {
     "data": {
      "text/plain": [
       "10"
      ]
     },
     "execution_count": 204,
     "metadata": {},
     "output_type": "execute_result"
    }
   ],
   "source": [
    "import sqlite3\n",
    "import pandas as pd\n",
    "\n",
    "conn = sqlite3.connect('mydatabase.db')\n",
    "\n",
    "conn.execute('''CREATE TABLE IF NOT EXISTS contacts \n",
    "                (ID INT PRIMARY KEY NOT NULL,\n",
    "                NAME TEXT NOT NULL,\n",
    "                ADDRESS TEXT NOT NULL,\n",
    "                CITY TEXT NOT NULL,\n",
    "                STATE TEXT NOT NULL,\n",
    "                ZIP_CODE INT NOT NULL,\n",
    "                PHONE_NUMBER INT NOT NULL);''')\n",
    "\n",
    "data = [(1,'John Doe','123 Main St','New York','NY',10001,1234567890),\n",
    "        (2,'Jane Brown','456 Market St','San Francisco','CA',94104,2345678901),\n",
    "        (3,'Bob Smyth','789 Park Ave','Los Angeles','LA',90001,3456789012),\n",
    "        (4,'Alice Johnson','246 Elm St','Chicago','IL',60601,4567890123),\n",
    "        (5,'Tom Brown','369 Oak St','Houston','TX',77001,5678901234),\n",
    "        (6,'Sara Davis','159 Maple St','Phoenix','AZ',85001,6789012345),\n",
    "        (7,'Michael Wilson','753 Pine St','Philadelphia','PA',19019,7890123456),\n",
    "        (8,'Emily Clark','964 Cedar St','San Antonio','TX',78201,8901234567),\n",
    "        (9,'William Lee','753 Fir St','San Diego','CA',92101,9012345678),\n",
    "        (10,'Ashley Gonzalez','369 Birch St','Dallas','TX',75201,123456789)]\n",
    "\n",
    "df = pd.DataFrame(data, columns=['ID','NAME','ADDRESS','CITY','STATE','ZIP_CODE','PHONE_NUMBER'])\n",
    "\n",
    "df.to_sql(\"contacts\", conn, if_exists=\"replace\")"
   ]
  },
  {
   "cell_type": "code",
   "execution_count": 207,
   "id": "f7e53b0d",
   "metadata": {},
   "outputs": [
    {
     "data": {
      "text/html": [
       "<div>\n",
       "<style scoped>\n",
       "    .dataframe tbody tr th:only-of-type {\n",
       "        vertical-align: middle;\n",
       "    }\n",
       "\n",
       "    .dataframe tbody tr th {\n",
       "        vertical-align: top;\n",
       "    }\n",
       "\n",
       "    .dataframe thead th {\n",
       "        text-align: right;\n",
       "    }\n",
       "</style>\n",
       "<table border=\"1\" class=\"dataframe\">\n",
       "  <thead>\n",
       "    <tr style=\"text-align: right;\">\n",
       "      <th></th>\n",
       "      <th>index</th>\n",
       "      <th>ID</th>\n",
       "      <th>NAME</th>\n",
       "      <th>ADDRESS</th>\n",
       "      <th>CITY</th>\n",
       "      <th>STATE</th>\n",
       "      <th>ZIP_CODE</th>\n",
       "      <th>PHONE_NUMBER</th>\n",
       "    </tr>\n",
       "  </thead>\n",
       "  <tbody>\n",
       "    <tr>\n",
       "      <th>0</th>\n",
       "      <td>0</td>\n",
       "      <td>1</td>\n",
       "      <td>John Doe</td>\n",
       "      <td>123 Main St</td>\n",
       "      <td>New York</td>\n",
       "      <td>NY</td>\n",
       "      <td>10001</td>\n",
       "      <td>1234567890</td>\n",
       "    </tr>\n",
       "    <tr>\n",
       "      <th>1</th>\n",
       "      <td>1</td>\n",
       "      <td>2</td>\n",
       "      <td>Jane Brown</td>\n",
       "      <td>456 Market St</td>\n",
       "      <td>San Francisco</td>\n",
       "      <td>CA</td>\n",
       "      <td>94104</td>\n",
       "      <td>2345678901</td>\n",
       "    </tr>\n",
       "    <tr>\n",
       "      <th>2</th>\n",
       "      <td>2</td>\n",
       "      <td>3</td>\n",
       "      <td>Bob Smyth</td>\n",
       "      <td>789 Park Ave</td>\n",
       "      <td>Los Angeles</td>\n",
       "      <td>LA</td>\n",
       "      <td>90001</td>\n",
       "      <td>3456789012</td>\n",
       "    </tr>\n",
       "    <tr>\n",
       "      <th>3</th>\n",
       "      <td>3</td>\n",
       "      <td>4</td>\n",
       "      <td>Alice Johnson</td>\n",
       "      <td>246 Elm St</td>\n",
       "      <td>Chicago</td>\n",
       "      <td>IL</td>\n",
       "      <td>60601</td>\n",
       "      <td>4567890123</td>\n",
       "    </tr>\n",
       "    <tr>\n",
       "      <th>4</th>\n",
       "      <td>4</td>\n",
       "      <td>5</td>\n",
       "      <td>Tom Brown</td>\n",
       "      <td>369 Oak St</td>\n",
       "      <td>Houston</td>\n",
       "      <td>TX</td>\n",
       "      <td>77001</td>\n",
       "      <td>5678901234</td>\n",
       "    </tr>\n",
       "    <tr>\n",
       "      <th>5</th>\n",
       "      <td>5</td>\n",
       "      <td>6</td>\n",
       "      <td>Sara Davis</td>\n",
       "      <td>159 Maple St</td>\n",
       "      <td>Phoenix</td>\n",
       "      <td>AZ</td>\n",
       "      <td>85001</td>\n",
       "      <td>6789012345</td>\n",
       "    </tr>\n",
       "    <tr>\n",
       "      <th>6</th>\n",
       "      <td>6</td>\n",
       "      <td>7</td>\n",
       "      <td>Michael Wilson</td>\n",
       "      <td>753 Pine St</td>\n",
       "      <td>Philadelphia</td>\n",
       "      <td>PA</td>\n",
       "      <td>19019</td>\n",
       "      <td>7890123456</td>\n",
       "    </tr>\n",
       "    <tr>\n",
       "      <th>7</th>\n",
       "      <td>7</td>\n",
       "      <td>8</td>\n",
       "      <td>Emily Clark</td>\n",
       "      <td>964 Cedar St</td>\n",
       "      <td>San Antonio</td>\n",
       "      <td>TX</td>\n",
       "      <td>78201</td>\n",
       "      <td>8901234567</td>\n",
       "    </tr>\n",
       "    <tr>\n",
       "      <th>8</th>\n",
       "      <td>8</td>\n",
       "      <td>9</td>\n",
       "      <td>William Lee</td>\n",
       "      <td>753 Fir St</td>\n",
       "      <td>San Diego</td>\n",
       "      <td>CA</td>\n",
       "      <td>92101</td>\n",
       "      <td>9012345678</td>\n",
       "    </tr>\n",
       "    <tr>\n",
       "      <th>9</th>\n",
       "      <td>9</td>\n",
       "      <td>10</td>\n",
       "      <td>Ashley Gonzalez</td>\n",
       "      <td>369 Birch St</td>\n",
       "      <td>Dallas</td>\n",
       "      <td>TX</td>\n",
       "      <td>75201</td>\n",
       "      <td>123456789</td>\n",
       "    </tr>\n",
       "  </tbody>\n",
       "</table>\n",
       "</div>"
      ],
      "text/plain": [
       "   index  ID             NAME        ADDRESS           CITY STATE  ZIP_CODE  \\\n",
       "0      0   1         John Doe    123 Main St       New York    NY     10001   \n",
       "1      1   2       Jane Brown  456 Market St  San Francisco    CA     94104   \n",
       "2      2   3        Bob Smyth   789 Park Ave    Los Angeles    LA     90001   \n",
       "3      3   4    Alice Johnson     246 Elm St        Chicago    IL     60601   \n",
       "4      4   5        Tom Brown     369 Oak St        Houston    TX     77001   \n",
       "5      5   6       Sara Davis   159 Maple St        Phoenix    AZ     85001   \n",
       "6      6   7   Michael Wilson    753 Pine St   Philadelphia    PA     19019   \n",
       "7      7   8      Emily Clark   964 Cedar St    San Antonio    TX     78201   \n",
       "8      8   9      William Lee     753 Fir St      San Diego    CA     92101   \n",
       "9      9  10  Ashley Gonzalez   369 Birch St         Dallas    TX     75201   \n",
       "\n",
       "   PHONE_NUMBER  \n",
       "0    1234567890  \n",
       "1    2345678901  \n",
       "2    3456789012  \n",
       "3    4567890123  \n",
       "4    5678901234  \n",
       "5    6789012345  \n",
       "6    7890123456  \n",
       "7    8901234567  \n",
       "8    9012345678  \n",
       "9     123456789  "
      ]
     },
     "execution_count": 207,
     "metadata": {},
     "output_type": "execute_result"
    }
   ],
   "source": [
    "df6 = pd.read_sql_query(\"select * from contacts\", con=conn)\n",
    "df6"
   ]
  }
 ],
 "metadata": {
  "kernelspec": {
   "display_name": "Python 3 (ipykernel)",
   "language": "python",
   "name": "python3"
  },
  "language_info": {
   "codemirror_mode": {
    "name": "ipython",
    "version": 3
   },
   "file_extension": ".py",
   "mimetype": "text/x-python",
   "name": "python",
   "nbconvert_exporter": "python",
   "pygments_lexer": "ipython3",
   "version": "3.9.13"
  }
 },
 "nbformat": 4,
 "nbformat_minor": 5
}
