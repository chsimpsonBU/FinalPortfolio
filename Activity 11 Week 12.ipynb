{
 "cells": [
  {
   "cell_type": "markdown",
   "id": "c4dcfd1e",
   "metadata": {},
   "source": [
    "### Activity 11"
   ]
  },
  {
   "cell_type": "code",
   "execution_count": 1,
   "id": "b04d0399",
   "metadata": {},
   "outputs": [],
   "source": [
    "\n",
    "import sqlite3"
   ]
  },
  {
   "cell_type": "code",
   "execution_count": 2,
   "id": "db979379",
   "metadata": {},
   "outputs": [],
   "source": [
    "conn = sqlite3.connect(\"petsdb\")"
   ]
  },
  {
   "cell_type": "code",
   "execution_count": 3,
   "id": "f53c0f17",
   "metadata": {},
   "outputs": [],
   "source": [
    "# a tiny function to make sure the connection is successful\n",
    "def is_opened(conn):\n",
    "    try:\n",
    "        conn.execute(\"SELECT * FROM persons LIMIT 1\")\n",
    "        return True\n",
    "    except sqlite3.ProgrammingError as e:\n",
    "        print(\"Connection closed {}\".format(e))\n",
    "        return False"
   ]
  },
  {
   "cell_type": "code",
   "execution_count": 4,
   "id": "691f3623",
   "metadata": {},
   "outputs": [
    {
     "name": "stdout",
     "output_type": "stream",
     "text": [
      "True\n"
     ]
    }
   ],
   "source": [
    "print(is_opened(conn))"
   ]
  },
  {
   "cell_type": "code",
   "execution_count": 5,
   "id": "fcbdae6c",
   "metadata": {},
   "outputs": [],
   "source": [
    "conn.close()"
   ]
  },
  {
   "cell_type": "code",
   "execution_count": 6,
   "id": "27fa68e8",
   "metadata": {},
   "outputs": [
    {
     "name": "stdout",
     "output_type": "stream",
     "text": [
      "Connection closed Cannot operate on a closed database.\n",
      "False\n"
     ]
    }
   ],
   "source": [
    "print(is_opened(conn))"
   ]
  },
  {
   "cell_type": "markdown",
   "id": "cd34c5a2",
   "metadata": {},
   "source": [
    "### What are the different age groups in the persons database"
   ]
  },
  {
   "cell_type": "code",
   "execution_count": 8,
   "id": "cf7e6211",
   "metadata": {},
   "outputs": [],
   "source": [
    "conn = sqlite3.connect(\"petsdb\")"
   ]
  },
  {
   "cell_type": "code",
   "execution_count": 9,
   "id": "2aa007f9",
   "metadata": {},
   "outputs": [],
   "source": [
    "c = conn.cursor()"
   ]
  },
  {
   "cell_type": "code",
   "execution_count": 11,
   "id": "8fb94baf",
   "metadata": {},
   "outputs": [
    {
     "name": "stdout",
     "output_type": "stream",
     "text": [
      "We have 2 person aged 5\n",
      "We have 1 person aged 6\n",
      "We have 1 person aged 7\n",
      "We have 3 person aged 8\n",
      "We have 1 person aged 9\n",
      "We have 2 person aged 11\n",
      "We have 3 person aged 12\n",
      "We have 1 person aged 13\n",
      "We have 4 person aged 14\n",
      "We have 2 person aged 16\n",
      "We have 2 person aged 17\n",
      "We have 3 person aged 18\n",
      "We have 1 person aged 19\n",
      "We have 3 person aged 22\n",
      "We have 2 person aged 23\n",
      "We have 3 person aged 24\n",
      "We have 2 person aged 25\n",
      "We have 1 person aged 27\n",
      "We have 1 person aged 30\n",
      "We have 3 person aged 31\n",
      "We have 1 person aged 32\n",
      "We have 1 person aged 33\n",
      "We have 2 person aged 34\n",
      "We have 3 person aged 35\n",
      "We have 3 person aged 36\n",
      "We have 1 person aged 37\n",
      "We have 2 person aged 39\n",
      "We have 1 person aged 40\n",
      "We have 1 person aged 42\n",
      "We have 2 person aged 44\n",
      "We have 2 person aged 48\n",
      "We have 1 person aged 49\n",
      "We have 1 person aged 50\n",
      "We have 2 person aged 51\n",
      "We have 2 person aged 52\n",
      "We have 2 person aged 53\n",
      "We have 2 person aged 54\n",
      "We have 1 person aged 58\n",
      "We have 1 person aged 59\n",
      "We have 1 person aged 60\n",
      "We have 1 person aged 61\n",
      "We have 2 person aged 62\n",
      "We have 1 person aged 63\n",
      "We have 2 person aged 65\n",
      "We have 2 person aged 66\n",
      "We have 1 person aged 67\n",
      "We have 3 person aged 68\n",
      "We have 1 person aged 69\n",
      "We have 1 person aged 70\n",
      "We have 4 person aged 71\n",
      "We have 1 person aged 72\n",
      "We have 5 person aged 73\n",
      "We have 3 person aged 74\n"
     ]
    }
   ],
   "source": [
    "for ppl, age in c.execute(\"SELECT count(*), age FROM persons GROUP BY age\"):\n",
    "    print(\"We have {} person aged {}\".format(ppl, age))"
   ]
  },
  {
   "cell_type": "markdown",
   "id": "181e5146",
   "metadata": {},
   "source": [
    "### Which age group has maximum number of people?"
   ]
  },
  {
   "cell_type": "code",
   "execution_count": 12,
   "id": "13253641",
   "metadata": {},
   "outputs": [
    {
     "name": "stdout",
     "output_type": "stream",
     "text": [
      "Highest number of people 5 came from 73 age group\n"
     ]
    }
   ],
   "source": [
    "for ppl, age in c.execute(\"SELECT count(*), age FROM persons GROUP BY age ORDER BY count(*) DESC\"):\n",
    "    print(\"Highest number of people {} came from {} age group\".format(ppl, age))\n",
    "    break"
   ]
  },
  {
   "cell_type": "markdown",
   "id": "af6f7e55",
   "metadata": {},
   "source": [
    "### How many people do not have a full name (Last name is blank/null)"
   ]
  },
  {
   "cell_type": "code",
   "execution_count": 14,
   "id": "e0ca4fc7",
   "metadata": {},
   "outputs": [
    {
     "name": "stdout",
     "output_type": "stream",
     "text": [
      "(60,)\n"
     ]
    }
   ],
   "source": [
    "res = c.execute(\"SELECT count(*) FROM persons WHERE last_name IS null\")\n",
    "for row in res:\n",
    "    print(row)"
   ]
  },
  {
   "cell_type": "markdown",
   "id": "b7fd6493",
   "metadata": {},
   "source": [
    "### How many people has more than one pet? (*)"
   ]
  },
  {
   "cell_type": "code",
   "execution_count": 15,
   "id": "8b20b304",
   "metadata": {},
   "outputs": [
    {
     "name": "stdout",
     "output_type": "stream",
     "text": [
      "43 People has more than one pets\n"
     ]
    }
   ],
   "source": [
    "res = c.execute(\"SELECT count(*) FROM (SELECT count(owner_id) FROM pets GROUP BY owner_id HAVING count(owner_id) >1)\")\n",
    "for row in res:\n",
    "    print(\"{} People has more than one pets\".format(row[0]))"
   ]
  },
  {
   "cell_type": "markdown",
   "id": "1b1a6782",
   "metadata": {},
   "source": [
    "### How many pets have received treatments?"
   ]
  },
  {
   "cell_type": "code",
   "execution_count": 16,
   "id": "93979bcd",
   "metadata": {},
   "outputs": [
    {
     "name": "stdout",
     "output_type": "stream",
     "text": [
      "(36,)\n"
     ]
    }
   ],
   "source": [
    "res = c.execute(\"SELECT count(*) FROM pets WHERE treatment_done=1\")\n",
    "for row in res:\n",
    "    print(row)"
   ]
  },
  {
   "cell_type": "markdown",
   "id": "0dd0540e",
   "metadata": {},
   "source": [
    "### How many pets have received treatment that we know the type of? (*)"
   ]
  },
  {
   "cell_type": "code",
   "execution_count": 17,
   "id": "93d69bc6",
   "metadata": {},
   "outputs": [
    {
     "name": "stdout",
     "output_type": "stream",
     "text": [
      "(16,)\n"
     ]
    }
   ],
   "source": [
    "res = c.execute(\"SELECT count(*) FROM pets WHERE treatment_done=1 AND pet_type IS NOT null\")\n",
    "for row in res:\n",
    "    print(row)"
   ]
  },
  {
   "cell_type": "markdown",
   "id": "a958646e",
   "metadata": {},
   "source": [
    "### How many pets are there from the city called \"east port\""
   ]
  },
  {
   "cell_type": "code",
   "execution_count": 19,
   "id": "34c79690",
   "metadata": {},
   "outputs": [
    {
     "name": "stdout",
     "output_type": "stream",
     "text": [
      "(49,)\n"
     ]
    }
   ],
   "source": [
    "res = c.execute(\"SELECT count(*) FROM pets JOIN persons ON pets.owner_id = persons.id WHERE persons.city='east port'\")\n",
    "for row in res:\n",
    "    print(row)"
   ]
  },
  {
   "cell_type": "markdown",
   "id": "f0e3a72b",
   "metadata": {},
   "source": [
    "### How many pets are there from the city called \"east port\" and who received a treatment?"
   ]
  },
  {
   "cell_type": "code",
   "execution_count": 20,
   "id": "9dfc6112",
   "metadata": {},
   "outputs": [
    {
     "name": "stdout",
     "output_type": "stream",
     "text": [
      "(11,)\n"
     ]
    }
   ],
   "source": [
    "res = c.execute(\"SELECT count(*) FROM pets JOIN persons ON pets.owner_id = persons.id WHERE persons.city='east port' AND pets.treatment_done=1\")\n",
    "for row in res:\n",
    "    print(row)"
   ]
  }
 ],
 "metadata": {
  "kernelspec": {
   "display_name": "Python 3 (ipykernel)",
   "language": "python",
   "name": "python3"
  },
  "language_info": {
   "codemirror_mode": {
    "name": "ipython",
    "version": 3
   },
   "file_extension": ".py",
   "mimetype": "text/x-python",
   "name": "python",
   "nbconvert_exporter": "python",
   "pygments_lexer": "ipython3",
   "version": "3.9.13"
  }
 },
 "nbformat": 4,
 "nbformat_minor": 5
}
