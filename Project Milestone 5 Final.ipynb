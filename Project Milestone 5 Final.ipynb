{
 "cells": [
  {
   "cell_type": "markdown",
   "id": "ef988046",
   "metadata": {},
   "source": [
    "### Project Milestone 5"
   ]
  },
  {
   "cell_type": "markdown",
   "id": "ab95d349",
   "metadata": {},
   "source": [
    "## Has the number of people with email accounts increased or decreased as computer sales increased over time?"
   ]
  },
  {
   "cell_type": "markdown",
   "id": "3f428735",
   "metadata": {},
   "source": [
    "Cleaned data has been loaded into three different databases. First I will combine the three into one database with three tables."
   ]
  },
  {
   "cell_type": "code",
   "execution_count": null,
   "id": "5146fb7c",
   "metadata": {},
   "outputs": [],
   "source": [
    "#During each project milestone I added the cleansed data to the database. Here's the code\n",
    "\n",
    "# Connect to the database\n",
    "conn = sqlite3.connect('Projectdata.db')\n",
    "\n",
    "# Write the DataFrame to a SQLite3 table\n",
    "FREDcellData.to_sql(name='purchases', con=conn, if_exists='replace', index=False)\n",
    "\n",
    "# Close the connection\n",
    "conn.close()"
   ]
  },
  {
   "cell_type": "code",
   "execution_count": null,
   "id": "e01b5d27",
   "metadata": {},
   "outputs": [],
   "source": [
    "import sqlite3\n",
    "# Connect to the database\n",
    "conn = sqlite3.connect('Projectdata.db')\n",
    "\n",
    "# Write the DataFrame to a SQLite3 table\n",
    "df2.to_sql(name='emailcount', con=conn, if_exists='replace', index=False)\n",
    "\n",
    "# Close the connection\n",
    "conn.close()"
   ]
  },
  {
   "cell_type": "code",
   "execution_count": null,
   "id": "745599bc",
   "metadata": {},
   "outputs": [],
   "source": [
    "import sqlite3\n",
    "# Connect to the database\n",
    "conn = sqlite3.connect('Projectdata.db')\n",
    "\n",
    "# Write the DataFrame to a SQLite3 table\n",
    "strippedData.to_sql(name='worlddata', con=conn, if_exists='replace', index=False)\n",
    "\n",
    "# Close the connection\n",
    "conn.close()"
   ]
  },
  {
   "cell_type": "markdown",
   "id": "8271ecd4",
   "metadata": {},
   "source": [
    "### For this presentation we will review the number of computer sales, cell phones, and email accounts in use over time. First we'll call the information from the database and take a look at some visualizations."
   ]
  },
  {
   "cell_type": "markdown",
   "id": "69e0e6a1",
   "metadata": {},
   "source": [
    "### World Data of Cell Phone Users"
   ]
  },
  {
   "cell_type": "code",
   "execution_count": 8,
   "id": "84153d05",
   "metadata": {
    "scrolled": false
   },
   "outputs": [
    {
     "name": "stdout",
     "output_type": "stream",
     "text": [
      "[('World', '7,950,000,000+', 7621018958), ('China', '1610360000', 1420050000), ('India', '1515971713', 1375245994), ('Indonesia', '385573398', 237556363), ('United States', '380577528', 327874628), ('Brazil', '284200000', 201032714), ('Russia', '256116000', 142905200), ('Pakistan', '194580369', 219922083), ('Nigeria', '190475494', 190551754), ('Bangladesh', '180780000', 162951560), ('Japan', '146649600', 127300000), ('Germany', '107000000', 81882342), ('Philippines', '106987098', 94013200), ('Mexico', '101339000', 112322757), ('Iran', '96165000', 86330703), ('Egypt', '95340000', 99958000), ('Italy', '88580000', 60790400), ('United Kingdom', '83100000', 64100000), ('Vietnam', '72300000', 90549390), ('Turkey', '72200000', 79463663), ('France', '72180000', 63573842), ('Thailand', '69000000', 67480000), ('South Africa', '59474500', 50586757), ('Colombia', '57900472', 49375617), ('Ukraine', '57505555', 45579904), ('Argentina', '56725200', 40134425), ('Tanzania', '56313438', 48715877), ('South Korea', '56004887', 50219669), ('Spain', '55740000', 47265321), ('Poland', '47153200', 38186860), ('Saudi Arabia', '46000000', 27137000), ('Morocco', '44450000', 33818662), ('Sri Lanka', '38849812', 21671000), ('Peru', '34235000', 31179417), ('Nepal', '34172058', 26620020), ('Algeria', '33000000', 35000000), ('Venezuela', '32019086', 30163157), ('Canada', '31210628', 36885049), ('Taiwan', '28610000', 23197947), ('Malaysia', '30379000', 28250000), ('Kenya', '28080000', 42000000), ('Romania', '26000000', 21438000), ('Chile', '21000000', 17094270), ('Australia', '20570000', 23490700), ('Netherlands', '20000000', 16515057), ('Hong Kong', '19207578', 7482500), ('Ethiopia', '18000000', 85000020), ('Guatemala', '17571895', 14713763), ('United Arab Emirates', '17132724', 8410763), ('Ecuador', '15900000', 14300000), ('Sweden', '14500000', 9906331), ('Zimbabwe', '13518887', 13060000), ('Portugal', '13400000', 10562178), ('Belgium', '11822000', 10414000), ('Hungary', '11561890', 9908798), ('Bulgaria', '10454400', 7200000), ('Israel', '9701200', 7900000), ('Finland', '9470000', 5487308), ('Costa Rica', '8,300,000[65]', 4872000), ('Singapore', '8106700', 5399000), ('Azerbaijan', '7000000', 5543819), ('Denmark', '7000000', 5700000), ('Panama', '6900000', 3405813), ('Jordan', '6010000', 5950000), ('Ireland', '5770638', 4581269), ('Lithuania', '4940000', 2955986), ('New Zealand', '4761000', 4500000), ('Mongolia', '3500000', 2980000), ('Lebanon', '2720000', 4224000), ('Latvia', '2579000', 1986705), ('North Korea', '3000000', 24451285), ('Trinidad and Tobago', '2060000', 1363985), ('Estonia', '1904000', 1269420), ('Cuba', '1300000', 11200000), ('Montenegro', '1117500', 620029), ('Malta', '554651', 452515), ('Maldives', '776716', 417492)]\n"
     ]
    }
   ],
   "source": [
    "# Checking merged database contents, by calling the three tables. \n",
    "\n",
    "import sqlite3\n",
    "\n",
    "conn = sqlite3.connect('Projectdata.db')\n",
    "cursor = conn.cursor()\n",
    "\n",
    "cursor.execute('SELECT * FROM worlddata')\n",
    "WorldCellData = cursor.fetchall()\n",
    "print(WorldCellData)\n",
    "\n",
    "cursor.close()\n",
    "conn.close()"
   ]
  },
  {
   "cell_type": "code",
   "execution_count": 24,
   "id": "e4447905",
   "metadata": {},
   "outputs": [],
   "source": [
    "# Updating column headings and converting to data frame for visualizations\n",
    "\n",
    "\n",
    "conn = sqlite3.connect('Projectdata.db')\n",
    "\n",
    "# Execute a SQL query to retrieve the data as a list\n",
    "cursor = conn.cursor()\n",
    "cursor.execute('SELECT * FROM worlddata')\n",
    "data = cursor.fetchall()\n",
    "\n",
    "# Convert the list to a pandas DataFrame\n",
    "worlddataframe = pd.DataFrame(data, columns=['Location', 'CellPhones', 'Population'])\n",
    "\n",
    "# Close the cursor and the connection to the database\n",
    "cursor.close()\n",
    "conn.close()"
   ]
  },
  {
   "cell_type": "code",
   "execution_count": 36,
   "id": "d28b1295",
   "metadata": {
    "scrolled": false
   },
   "outputs": [
    {
     "data": {
      "text/html": [
       "<div>\n",
       "<style scoped>\n",
       "    .dataframe tbody tr th:only-of-type {\n",
       "        vertical-align: middle;\n",
       "    }\n",
       "\n",
       "    .dataframe tbody tr th {\n",
       "        vertical-align: top;\n",
       "    }\n",
       "\n",
       "    .dataframe thead th {\n",
       "        text-align: right;\n",
       "    }\n",
       "</style>\n",
       "<table border=\"1\" class=\"dataframe\">\n",
       "  <thead>\n",
       "    <tr style=\"text-align: right;\">\n",
       "      <th></th>\n",
       "      <th>Location</th>\n",
       "      <th>CellPhones</th>\n",
       "      <th>Population</th>\n",
       "    </tr>\n",
       "  </thead>\n",
       "  <tbody>\n",
       "    <tr>\n",
       "      <th>0</th>\n",
       "      <td>World</td>\n",
       "      <td>NaN</td>\n",
       "      <td>7621018958</td>\n",
       "    </tr>\n",
       "    <tr>\n",
       "      <th>1</th>\n",
       "      <td>China</td>\n",
       "      <td>1.610360e+09</td>\n",
       "      <td>1420050000</td>\n",
       "    </tr>\n",
       "    <tr>\n",
       "      <th>2</th>\n",
       "      <td>India</td>\n",
       "      <td>1.515972e+09</td>\n",
       "      <td>1375245994</td>\n",
       "    </tr>\n",
       "    <tr>\n",
       "      <th>3</th>\n",
       "      <td>Indonesia</td>\n",
       "      <td>3.855734e+08</td>\n",
       "      <td>237556363</td>\n",
       "    </tr>\n",
       "    <tr>\n",
       "      <th>4</th>\n",
       "      <td>United States</td>\n",
       "      <td>3.805775e+08</td>\n",
       "      <td>327874628</td>\n",
       "    </tr>\n",
       "    <tr>\n",
       "      <th>...</th>\n",
       "      <td>...</td>\n",
       "      <td>...</td>\n",
       "      <td>...</td>\n",
       "    </tr>\n",
       "    <tr>\n",
       "      <th>72</th>\n",
       "      <td>Estonia</td>\n",
       "      <td>1.904000e+06</td>\n",
       "      <td>1269420</td>\n",
       "    </tr>\n",
       "    <tr>\n",
       "      <th>73</th>\n",
       "      <td>Cuba</td>\n",
       "      <td>1.300000e+06</td>\n",
       "      <td>11200000</td>\n",
       "    </tr>\n",
       "    <tr>\n",
       "      <th>74</th>\n",
       "      <td>Montenegro</td>\n",
       "      <td>1.117500e+06</td>\n",
       "      <td>620029</td>\n",
       "    </tr>\n",
       "    <tr>\n",
       "      <th>75</th>\n",
       "      <td>Malta</td>\n",
       "      <td>5.546510e+05</td>\n",
       "      <td>452515</td>\n",
       "    </tr>\n",
       "    <tr>\n",
       "      <th>76</th>\n",
       "      <td>Maldives</td>\n",
       "      <td>7.767160e+05</td>\n",
       "      <td>417492</td>\n",
       "    </tr>\n",
       "  </tbody>\n",
       "</table>\n",
       "<p>77 rows × 3 columns</p>\n",
       "</div>"
      ],
      "text/plain": [
       "         Location    CellPhones  Population\n",
       "0           World           NaN  7621018958\n",
       "1           China  1.610360e+09  1420050000\n",
       "2           India  1.515972e+09  1375245994\n",
       "3       Indonesia  3.855734e+08   237556363\n",
       "4   United States  3.805775e+08   327874628\n",
       "..            ...           ...         ...\n",
       "72        Estonia  1.904000e+06     1269420\n",
       "73           Cuba  1.300000e+06    11200000\n",
       "74     Montenegro  1.117500e+06      620029\n",
       "75          Malta  5.546510e+05      452515\n",
       "76       Maldives  7.767160e+05      417492\n",
       "\n",
       "[77 rows x 3 columns]"
      ]
     },
     "execution_count": 36,
     "metadata": {},
     "output_type": "execute_result"
    }
   ],
   "source": [
    "worlddataframe"
   ]
  },
  {
   "cell_type": "code",
   "execution_count": 35,
   "id": "64dad47b",
   "metadata": {},
   "outputs": [],
   "source": [
    "## Converting dataframe from database to numeric values for visualizations\n",
    "\n",
    "worlddataframe['CellPhones'] = pd.to_numeric(worlddataframe['CellPhones'], errors='coerce')\n",
    "worlddataframe['Population'] = pd.to_numeric(worlddataframe['Population'], errors='coerce')"
   ]
  },
  {
   "cell_type": "markdown",
   "id": "72c6fa26",
   "metadata": {},
   "source": [
    "### The 'Cell Phones by Population' gives us some perspective on the sheer volumn of the number of cell phones bought from 2017 to 2021. For the rest of the visualizations we will focus on the united states alone, but I wanted to provide some additional world view context. "
   ]
  },
  {
   "cell_type": "code",
   "execution_count": 45,
   "id": "71886cb4",
   "metadata": {
    "scrolled": true
   },
   "outputs": [
    {
     "data": {
      "image/png": "[encoded data removed]",
      "text/plain": [
       "<Figure size 640x480 with 1 Axes>"
      ]
     },
     "metadata": {},
     "output_type": "display_data"
    }
   ],
   "source": [
    "import matplotlib.pyplot as plt\n",
    "import pandas as pd\n",
    "\n",
    "# assuming your data is in a pandas DataFrame called 'df'\n",
    "worlddataframe.plot(kind='bar', x='Location', y='CellPhones')\n",
    "\n",
    "plt.title('Cell Phones by Population')\n",
    "plt.xlabel('Location')\n",
    "plt.ylabel('Number of Cell Phones')\n",
    "plt.tick_params(axis='both', labelsize=5)\n",
    "plt.show()"
   ]
  },
  {
   "cell_type": "markdown",
   "id": "8d13bd81",
   "metadata": {},
   "source": [
    "### Number Email Users"
   ]
  },
  {
   "cell_type": "code",
   "execution_count": 48,
   "id": "cc6990dd",
   "metadata": {},
   "outputs": [
    {
     "name": "stdout",
     "output_type": "stream",
     "text": [
      "[('\\ufeff2017', '3718%'), ('2018', '3823%'), ('2019', '3930%'), ('2020', '4037%'), ('2021', '4147%'), ('2022', '4258%'), ('2023', '4371%'), ('2024', '4481%'), (None, None), (None, None)]\n"
     ]
    }
   ],
   "source": [
    "conn = sqlite3.connect('Projectdata.db')\n",
    "cursor = conn.cursor()\n",
    "\n",
    "cursor.execute('SELECT * FROM emailcount')\n",
    "CountEmailAccounts = cursor.fetchall()\n",
    "print(CountEmailAccounts)\n",
    "\n",
    "cursor.close()\n",
    "conn.close()"
   ]
  },
  {
   "cell_type": "code",
   "execution_count": 54,
   "id": "a9bcf74c",
   "metadata": {},
   "outputs": [],
   "source": [
    "# Updating column headings and converting to data frame for visualizations\n",
    "\n",
    "\n",
    "conn = sqlite3.connect('Projectdata.db')\n",
    "\n",
    "# Execute a SQL query to retrieve the data as a list\n",
    "cursor = conn.cursor()\n",
    "cursor.execute('SELECT * FROM emailcount')\n",
    "data = cursor.fetchall()\n",
    "\n",
    "# Convert the list to a pandas DataFrame\n",
    "EmailAccounts = pd.DataFrame(data, columns=['Year', 'EmailAccounts'])\n",
    "\n",
    "# Close the cursor and the connection to the database\n",
    "cursor.close()\n",
    "conn.close()"
   ]
  },
  {
   "cell_type": "code",
   "execution_count": 85,
   "id": "c0a3c980",
   "metadata": {
    "scrolled": true
   },
   "outputs": [
    {
     "data": {
      "text/html": [
       "<div>\n",
       "<style scoped>\n",
       "    .dataframe tbody tr th:only-of-type {\n",
       "        vertical-align: middle;\n",
       "    }\n",
       "\n",
       "    .dataframe tbody tr th {\n",
       "        vertical-align: top;\n",
       "    }\n",
       "\n",
       "    .dataframe thead th {\n",
       "        text-align: right;\n",
       "    }\n",
       "</style>\n",
       "<table border=\"1\" class=\"dataframe\">\n",
       "  <thead>\n",
       "    <tr style=\"text-align: right;\">\n",
       "      <th></th>\n",
       "      <th>Year</th>\n",
       "      <th>EmailAccounts</th>\n",
       "    </tr>\n",
       "  </thead>\n",
       "  <tbody>\n",
       "    <tr>\n",
       "      <th>1</th>\n",
       "      <td>2018.0</td>\n",
       "      <td>3823.0</td>\n",
       "    </tr>\n",
       "    <tr>\n",
       "      <th>2</th>\n",
       "      <td>2019.0</td>\n",
       "      <td>3930.0</td>\n",
       "    </tr>\n",
       "    <tr>\n",
       "      <th>3</th>\n",
       "      <td>2020.0</td>\n",
       "      <td>4037.0</td>\n",
       "    </tr>\n",
       "    <tr>\n",
       "      <th>4</th>\n",
       "      <td>2021.0</td>\n",
       "      <td>4147.0</td>\n",
       "    </tr>\n",
       "    <tr>\n",
       "      <th>5</th>\n",
       "      <td>2022.0</td>\n",
       "      <td>4258.0</td>\n",
       "    </tr>\n",
       "    <tr>\n",
       "      <th>6</th>\n",
       "      <td>2023.0</td>\n",
       "      <td>4371.0</td>\n",
       "    </tr>\n",
       "    <tr>\n",
       "      <th>7</th>\n",
       "      <td>2024.0</td>\n",
       "      <td>4481.0</td>\n",
       "    </tr>\n",
       "  </tbody>\n",
       "</table>\n",
       "</div>"
      ],
      "text/plain": [
       "     Year  EmailAccounts\n",
       "1  2018.0         3823.0\n",
       "2  2019.0         3930.0\n",
       "3  2020.0         4037.0\n",
       "4  2021.0         4147.0\n",
       "5  2022.0         4258.0\n",
       "6  2023.0         4371.0\n",
       "7  2024.0         4481.0"
      ]
     },
     "execution_count": 85,
     "metadata": {},
     "output_type": "execute_result"
    }
   ],
   "source": [
    "EmailAccounts"
   ]
  },
  {
   "cell_type": "markdown",
   "id": "87ca2ea2",
   "metadata": {},
   "source": [
    "#### In the visual below we see that the number of email accounts created 'in millions' is in steady contrast to the year."
   ]
  },
  {
   "cell_type": "code",
   "execution_count": 108,
   "id": "c5c2ac7f",
   "metadata": {},
   "outputs": [
    {
     "data": {
      "application/vnd.plotly.v1+json": {
       "config": {
        "plotlyServerURL": "https://plot.ly"
       },
       "data": [
        {
         "coloraxis": "coloraxis",
         "hovertemplate": "x: %{x}<br>y: %{y}<br>color: %{z}<extra></extra>",
         "name": "0",
         "type": "heatmap",
         "x": [
          "Year",
          "EmailAccounts"
         ],
         "xaxis": "x",
         "y": [
          "Year",
          "EmailAccounts"
         ],
         "yaxis": "y",
         "z": [
          [
           1,
           0.9999535833654785
          ],
          [
           0.9999535833654785,
           1
          ]
         ]
        }
       ],
       "layout": {
        "coloraxis": {
         "colorscale": [
          [
           0,
           "#0d0887"
          ],
          [
           0.1111111111111111,
           "#46039f"
          ],
          [
           0.2222222222222222,
           "#7201a8"
          ],
          [
           0.3333333333333333,
           "#9c179e"
          ],
          [
           0.4444444444444444,
           "#bd3786"
          ],
          [
           0.5555555555555556,
           "#d8576b"
          ],
          [
           0.6666666666666666,
           "#ed7953"
          ],
          [
           0.7777777777777778,
           "#fb9f3a"
          ],
          [
           0.8888888888888888,
           "#fdca26"
          ],
          [
           1,
           "#f0f921"
          ]
         ]
        },
        "margin": {
         "t": 60
        },
        "template": {
         "data": {
          "bar": [
           {
            "error_x": {
             "color": "#2a3f5f"
            },
            "error_y": {
             "color": "#2a3f5f"
            },
            "marker": {
             "line": {
              "color": "#E5ECF6",
              "width": 0.5
             },
             "pattern": {
              "fillmode": "overlay",
              "size": 10,
              "solidity": 0.2
             }
            },
            "type": "bar"
           }
          ],
          "barpolar": [
           {
            "marker": {
             "line": {
              "color": "#E5ECF6",
              "width": 0.5
             },
             "pattern": {
              "fillmode": "overlay",
              "size": 10,
              "solidity": 0.2
             }
            },
            "type": "barpolar"
           }
          ],
          "carpet": [
           {
            "aaxis": {
             "endlinecolor": "#2a3f5f",
             "gridcolor": "white",
             "linecolor": "white",
             "minorgridcolor": "white",
             "startlinecolor": "#2a3f5f"
            },
            "baxis": {
             "endlinecolor": "#2a3f5f",
             "gridcolor": "white",
             "linecolor": "white",
             "minorgridcolor": "white",
             "startlinecolor": "#2a3f5f"
            },
            "type": "carpet"
           }
          ],
          "choropleth": [
           {
            "colorbar": {
             "outlinewidth": 0,
             "ticks": ""
            },
            "type": "choropleth"
           }
          ],
          "contour": [
           {
            "colorbar": {
             "outlinewidth": 0,
             "ticks": ""
            },
            "colorscale": [
             [
              0,
              "#0d0887"
             ],
             [
              0.1111111111111111,
              "#46039f"
             ],
             [
              0.2222222222222222,
              "#7201a8"
             ],
             [
              0.3333333333333333,
              "#9c179e"
             ],
             [
              0.4444444444444444,
              "#bd3786"
             ],
             [
              0.5555555555555556,
              "#d8576b"
             ],
             [
              0.6666666666666666,
              "#ed7953"
             ],
             [
              0.7777777777777778,
              "#fb9f3a"
             ],
             [
              0.8888888888888888,
              "#fdca26"
             ],
             [
              1,
              "#f0f921"
             ]
            ],
            "type": "contour"
           }
          ],
          "contourcarpet": [
           {
            "colorbar": {
             "outlinewidth": 0,
             "ticks": ""
            },
            "type": "contourcarpet"
           }
          ],
          "heatmap": [
           {
            "colorbar": {
             "outlinewidth": 0,
             "ticks": ""
            },
            "colorscale": [
             [
              0,
              "#0d0887"
             ],
             [
              0.1111111111111111,
              "#46039f"
             ],
             [
              0.2222222222222222,
              "#7201a8"
             ],
             [
              0.3333333333333333,
              "#9c179e"
             ],
             [
              0.4444444444444444,
              "#bd3786"
             ],
             [
              0.5555555555555556,
              "#d8576b"
             ],
             [
              0.6666666666666666,
              "#ed7953"
             ],
             [
              0.7777777777777778,
              "#fb9f3a"
             ],
             [
              0.8888888888888888,
              "#fdca26"
             ],
             [
              1,
              "#f0f921"
             ]
            ],
            "type": "heatmap"
           }
          ],
          "heatmapgl": [
           {
            "colorbar": {
             "outlinewidth": 0,
             "ticks": ""
            },
            "colorscale": [
             [
              0,
              "#0d0887"
             ],
             [
              0.1111111111111111,
              "#46039f"
             ],
             [
              0.2222222222222222,
              "#7201a8"
             ],
             [
              0.3333333333333333,
              "#9c179e"
             ],
             [
              0.4444444444444444,
              "#bd3786"
             ],
             [
              0.5555555555555556,
              "#d8576b"
             ],
             [
              0.6666666666666666,
              "#ed7953"
             ],
             [
              0.7777777777777778,
              "#fb9f3a"
             ],
             [
              0.8888888888888888,
              "#fdca26"
             ],
             [
              1,
              "#f0f921"
             ]
            ],
            "type": "heatmapgl"
           }
          ],
          "histogram": [
           {
            "marker": {
             "pattern": {
              "fillmode": "overlay",
              "size": 10,
              "solidity": 0.2
             }
            },
            "type": "histogram"
           }
          ],
          "histogram2d": [
           {
            "colorbar": {
             "outlinewidth": 0,
             "ticks": ""
            },
            "colorscale": [
             [
              0,
              "#0d0887"
             ],
             [
              0.1111111111111111,
              "#46039f"
             ],
             [
              0.2222222222222222,
              "#7201a8"
             ],
             [
              0.3333333333333333,
              "#9c179e"
             ],
             [
              0.4444444444444444,
              "#bd3786"
             ],
             [
              0.5555555555555556,
              "#d8576b"
             ],
             [
              0.6666666666666666,
              "#ed7953"
             ],
             [
              0.7777777777777778,
              "#fb9f3a"
             ],
             [
              0.8888888888888888,
              "#fdca26"
             ],
             [
              1,
              "#f0f921"
             ]
            ],
            "type": "histogram2d"
           }
          ],
          "histogram2dcontour": [
           {
            "colorbar": {
             "outlinewidth": 0,
             "ticks": ""
            },
            "colorscale": [
             [
              0,
              "#0d0887"
             ],
             [
              0.1111111111111111,
              "#46039f"
             ],
             [
              0.2222222222222222,
              "#7201a8"
             ],
             [
              0.3333333333333333,
              "#9c179e"
             ],
             [
              0.4444444444444444,
              "#bd3786"
             ],
             [
              0.5555555555555556,
              "#d8576b"
             ],
             [
              0.6666666666666666,
              "#ed7953"
             ],
             [
              0.7777777777777778,
              "#fb9f3a"
             ],
             [
              0.8888888888888888,
              "#fdca26"
             ],
             [
              1,
              "#f0f921"
             ]
            ],
            "type": "histogram2dcontour"
           }
          ],
          "mesh3d": [
           {
            "colorbar": {
             "outlinewidth": 0,
             "ticks": ""
            },
            "type": "mesh3d"
           }
          ],
          "parcoords": [
           {
            "line": {
             "colorbar": {
              "outlinewidth": 0,
              "ticks": ""
             }
            },
            "type": "parcoords"
           }
          ],
          "pie": [
           {
            "automargin": true,
            "type": "pie"
           }
          ],
          "scatter": [
           {
            "fillpattern": {
             "fillmode": "overlay",
             "size": 10,
             "solidity": 0.2
            },
            "type": "scatter"
           }
          ],
          "scatter3d": [
           {
            "line": {
             "colorbar": {
              "outlinewidth": 0,
              "ticks": ""
             }
            },
            "marker": {
             "colorbar": {
              "outlinewidth": 0,
              "ticks": ""
             }
            },
            "type": "scatter3d"
           }
          ],
          "scattercarpet": [
           {
            "marker": {
             "colorbar": {
              "outlinewidth": 0,
              "ticks": ""
             }
            },
            "type": "scattercarpet"
           }
          ],
          "scattergeo": [
           {
            "marker": {
             "colorbar": {
              "outlinewidth": 0,
              "ticks": ""
             }
            },
            "type": "scattergeo"
           }
          ],
          "scattergl": [
           {
            "marker": {
             "colorbar": {
              "outlinewidth": 0,
              "ticks": ""
             }
            },
            "type": "scattergl"
           }
          ],
          "scattermapbox": [
           {
            "marker": {
             "colorbar": {
              "outlinewidth": 0,
              "ticks": ""
             }
            },
            "type": "scattermapbox"
           }
          ],
          "scatterpolar": [
           {
            "marker": {
             "colorbar": {
              "outlinewidth": 0,
              "ticks": ""
             }
            },
            "type": "scatterpolar"
           }
          ],
          "scatterpolargl": [
           {
            "marker": {
             "colorbar": {
              "outlinewidth": 0,
              "ticks": ""
             }
            },
            "type": "scatterpolargl"
           }
          ],
          "scatterternary": [
           {
            "marker": {
             "colorbar": {
              "outlinewidth": 0,
              "ticks": ""
             }
            },
            "type": "scatterternary"
           }
          ],
          "surface": [
           {
            "colorbar": {
             "outlinewidth": 0,
             "ticks": ""
            },
            "colorscale": [
             [
              0,
              "#0d0887"
             ],
             [
              0.1111111111111111,
              "#46039f"
             ],
             [
              0.2222222222222222,
              "#7201a8"
             ],
             [
              0.3333333333333333,
              "#9c179e"
             ],
             [
              0.4444444444444444,
              "#bd3786"
             ],
             [
              0.5555555555555556,
              "#d8576b"
             ],
             [
              0.6666666666666666,
              "#ed7953"
             ],
             [
              0.7777777777777778,
              "#fb9f3a"
             ],
             [
              0.8888888888888888,
              "#fdca26"
             ],
             [
              1,
              "#f0f921"
             ]
            ],
            "type": "surface"
           }
          ],
          "table": [
           {
            "cells": {
             "fill": {
              "color": "#EBF0F8"
             },
             "line": {
              "color": "white"
             }
            },
            "header": {
             "fill": {
              "color": "#C8D4E3"
             },
             "line": {
              "color": "white"
             }
            },
            "type": "table"
           }
          ]
         },
         "layout": {
          "annotationdefaults": {
           "arrowcolor": "#2a3f5f",
           "arrowhead": 0,
           "arrowwidth": 1
          },
          "autotypenumbers": "strict",
          "coloraxis": {
           "colorbar": {
            "outlinewidth": 0,
            "ticks": ""
           }
          },
          "colorscale": {
           "diverging": [
            [
             0,
             "#8e0152"
            ],
            [
             0.1,
             "#c51b7d"
            ],
            [
             0.2,
             "#de77ae"
            ],
            [
             0.3,
             "#f1b6da"
            ],
            [
             0.4,
             "#fde0ef"
            ],
            [
             0.5,
             "#f7f7f7"
            ],
            [
             0.6,
             "#e6f5d0"
            ],
            [
             0.7,
             "#b8e186"
            ],
            [
             0.8,
             "#7fbc41"
            ],
            [
             0.9,
             "#4d9221"
            ],
            [
             1,
             "#276419"
            ]
           ],
           "sequential": [
            [
             0,
             "#0d0887"
            ],
            [
             0.1111111111111111,
             "#46039f"
            ],
            [
             0.2222222222222222,
             "#7201a8"
            ],
            [
             0.3333333333333333,
             "#9c179e"
            ],
            [
             0.4444444444444444,
             "#bd3786"
            ],
            [
             0.5555555555555556,
             "#d8576b"
            ],
            [
             0.6666666666666666,
             "#ed7953"
            ],
            [
             0.7777777777777778,
             "#fb9f3a"
            ],
            [
             0.8888888888888888,
             "#fdca26"
            ],
            [
             1,
             "#f0f921"
            ]
           ],
           "sequentialminus": [
            [
             0,
             "#0d0887"
            ],
            [
             0.1111111111111111,
             "#46039f"
            ],
            [
             0.2222222222222222,
             "#7201a8"
            ],
            [
             0.3333333333333333,
             "#9c179e"
            ],
            [
             0.4444444444444444,
             "#bd3786"
            ],
            [
             0.5555555555555556,
             "#d8576b"
            ],
            [
             0.6666666666666666,
             "#ed7953"
            ],
            [
             0.7777777777777778,
             "#fb9f3a"
            ],
            [
             0.8888888888888888,
             "#fdca26"
            ],
            [
             1,
             "#f0f921"
            ]
           ]
          },
          "colorway": [
           "#636efa",
           "#EF553B",
           "#00cc96",
           "#ab63fa",
           "#FFA15A",
           "#19d3f3",
           "#FF6692",
           "#B6E880",
           "#FF97FF",
           "#FECB52"
          ],
          "font": {
           "color": "#2a3f5f"
          },
          "geo": {
           "bgcolor": "white",
           "lakecolor": "white",
           "landcolor": "#E5ECF6",
           "showlakes": true,
           "showland": true,
           "subunitcolor": "white"
          },
          "hoverlabel": {
           "align": "left"
          },
          "hovermode": "closest",
          "mapbox": {
           "style": "light"
          },
          "paper_bgcolor": "white",
          "plot_bgcolor": "#E5ECF6",
          "polar": {
           "angularaxis": {
            "gridcolor": "white",
            "linecolor": "white",
            "ticks": ""
           },
           "bgcolor": "#E5ECF6",
           "radialaxis": {
            "gridcolor": "white",
            "linecolor": "white",
            "ticks": ""
           }
          },
          "scene": {
           "xaxis": {
            "backgroundcolor": "#E5ECF6",
            "gridcolor": "white",
            "gridwidth": 2,
            "linecolor": "white",
            "showbackground": true,
            "ticks": "",
            "zerolinecolor": "white"
           },
           "yaxis": {
            "backgroundcolor": "#E5ECF6",
            "gridcolor": "white",
            "gridwidth": 2,
            "linecolor": "white",
            "showbackground": true,
            "ticks": "",
            "zerolinecolor": "white"
           },
           "zaxis": {
            "backgroundcolor": "#E5ECF6",
            "gridcolor": "white",
            "gridwidth": 2,
            "linecolor": "white",
            "showbackground": true,
            "ticks": "",
            "zerolinecolor": "white"
           }
          },
          "shapedefaults": {
           "line": {
            "color": "#2a3f5f"
           }
          },
          "ternary": {
           "aaxis": {
            "gridcolor": "white",
            "linecolor": "white",
            "ticks": ""
           },
           "baxis": {
            "gridcolor": "white",
            "linecolor": "white",
            "ticks": ""
           },
           "bgcolor": "#E5ECF6",
           "caxis": {
            "gridcolor": "white",
            "linecolor": "white",
            "ticks": ""
           }
          },
          "title": {
           "x": 0.05
          },
          "xaxis": {
           "automargin": true,
           "gridcolor": "white",
           "linecolor": "white",
           "ticks": "",
           "title": {
            "standoff": 15
           },
           "zerolinecolor": "white",
           "zerolinewidth": 2
          },
          "yaxis": {
           "automargin": true,
           "gridcolor": "white",
           "linecolor": "white",
           "ticks": "",
           "title": {
            "standoff": 15
           },
           "zerolinecolor": "white",
           "zerolinewidth": 2
          }
         }
        },
        "title": {
         "text": "Number of Email Acocunts Created in Millions"
        },
        "xaxis": {
         "anchor": "y",
         "constrain": "domain",
         "domain": [
          0,
          1
         ],
         "scaleanchor": "y"
        },
        "yaxis": {
         "anchor": "x",
         "autorange": "reversed",
         "constrain": "domain",
         "domain": [
          0,
          1
         ]
        }
       }
      },
      "text/html": [
       "<div>                            <div id=\"6288c607-2e73-4c0d-98ff-3b590223d4e9\" class=\"plotly-graph-div\" style=\"height:525px; width:100%;\"></div>            <script type=\"text/javascript\">                require([\"plotly\"], function(Plotly) {                    window.PLOTLYENV=window.PLOTLYENV || {};                                    if (document.getElementById(\"6288c607-2e73-4c0d-98ff-3b590223d4e9\")) {                    Plotly.newPlot(                        \"6288c607-2e73-4c0d-98ff-3b590223d4e9\",                        [{\"coloraxis\":\"coloraxis\",\"name\":\"0\",\"x\":[\"Year\",\"EmailAccounts\"],\"y\":[\"Year\",\"EmailAccounts\"],\"z\":[[1.0,0.9999535833654785],[0.9999535833654785,1.0]],\"type\":\"heatmap\",\"xaxis\":\"x\",\"yaxis\":\"y\",\"hovertemplate\":\"x: %{x}<br>y: %{y}<br>color: %{z}<extra></extra>\"}],                        {\"template\":{\"data\":{\"histogram2dcontour\":[{\"type\":\"histogram2dcontour\",\"colorbar\":{\"outlinewidth\":0,\"ticks\":\"\"},\"colorscale\":[[0.0,\"#0d0887\"],[0.1111111111111111,\"#46039f\"],[0.2222222222222222,\"#7201a8\"],[0.3333333333333333,\"#9c179e\"],[0.4444444444444444,\"#bd3786\"],[0.5555555555555556,\"#d8576b\"],[0.6666666666666666,\"#ed7953\"],[0.7777777777777778,\"#fb9f3a\"],[0.8888888888888888,\"#fdca26\"],[1.0,\"#f0f921\"]]}],\"choropleth\":[{\"type\":\"choropleth\",\"colorbar\":{\"outlinewidth\":0,\"ticks\":\"\"}}],\"histogram2d\":[{\"type\":\"histogram2d\",\"colorbar\":{\"outlinewidth\":0,\"ticks\":\"\"},\"colorscale\":[[0.0,\"#0d0887\"],[0.1111111111111111,\"#46039f\"],[0.2222222222222222,\"#7201a8\"],[0.3333333333333333,\"#9c179e\"],[0.4444444444444444,\"#bd3786\"],[0.5555555555555556,\"#d8576b\"],[0.6666666666666666,\"#ed7953\"],[0.7777777777777778,\"#fb9f3a\"],[0.8888888888888888,\"#fdca26\"],[1.0,\"#f0f921\"]]}],\"heatmap\":[{\"type\":\"heatmap\",\"colorbar\":{\"outlinewidth\":0,\"ticks\":\"\"},\"colorscale\":[[0.0,\"#0d0887\"],[0.1111111111111111,\"#46039f\"],[0.2222222222222222,\"#7201a8\"],[0.3333333333333333,\"#9c179e\"],[0.4444444444444444,\"#bd3786\"],[0.5555555555555556,\"#d8576b\"],[0.6666666666666666,\"#ed7953\"],[0.7777777777777778,\"#fb9f3a\"],[0.8888888888888888,\"#fdca26\"],[1.0,\"#f0f921\"]]}],\"heatmapgl\":[{\"type\":\"heatmapgl\",\"colorbar\":{\"outlinewidth\":0,\"ticks\":\"\"},\"colorscale\":[[0.0,\"#0d0887\"],[0.1111111111111111,\"#46039f\"],[0.2222222222222222,\"#7201a8\"],[0.3333333333333333,\"#9c179e\"],[0.4444444444444444,\"#bd3786\"],[0.5555555555555556,\"#d8576b\"],[0.6666666666666666,\"#ed7953\"],[0.7777777777777778,\"#fb9f3a\"],[0.8888888888888888,\"#fdca26\"],[1.0,\"#f0f921\"]]}],\"contourcarpet\":[{\"type\":\"contourcarpet\",\"colorbar\":{\"outlinewidth\":0,\"ticks\":\"\"}}],\"contour\":[{\"type\":\"contour\",\"colorbar\":{\"outlinewidth\":0,\"ticks\":\"\"},\"colorscale\":[[0.0,\"#0d0887\"],[0.1111111111111111,\"#46039f\"],[0.2222222222222222,\"#7201a8\"],[0.3333333333333333,\"#9c179e\"],[0.4444444444444444,\"#bd3786\"],[0.5555555555555556,\"#d8576b\"],[0.6666666666666666,\"#ed7953\"],[0.7777777777777778,\"#fb9f3a\"],[0.8888888888888888,\"#fdca26\"],[1.0,\"#f0f921\"]]}],\"surface\":[{\"type\":\"surface\",\"colorbar\":{\"outlinewidth\":0,\"ticks\":\"\"},\"colorscale\":[[0.0,\"#0d0887\"],[0.1111111111111111,\"#46039f\"],[0.2222222222222222,\"#7201a8\"],[0.3333333333333333,\"#9c179e\"],[0.4444444444444444,\"#bd3786\"],[0.5555555555555556,\"#d8576b\"],[0.6666666666666666,\"#ed7953\"],[0.7777777777777778,\"#fb9f3a\"],[0.8888888888888888,\"#fdca26\"],[1.0,\"#f0f921\"]]}],\"mesh3d\":[{\"type\":\"mesh3d\",\"colorbar\":{\"outlinewidth\":0,\"ticks\":\"\"}}],\"scatter\":[{\"fillpattern\":{\"fillmode\":\"overlay\",\"size\":10,\"solidity\":0.2},\"type\":\"scatter\"}],\"parcoords\":[{\"type\":\"parcoords\",\"line\":{\"colorbar\":{\"outlinewidth\":0,\"ticks\":\"\"}}}],\"scatterpolargl\":[{\"type\":\"scatterpolargl\",\"marker\":{\"colorbar\":{\"outlinewidth\":0,\"ticks\":\"\"}}}],\"bar\":[{\"error_x\":{\"color\":\"#2a3f5f\"},\"error_y\":{\"color\":\"#2a3f5f\"},\"marker\":{\"line\":{\"color\":\"#E5ECF6\",\"width\":0.5},\"pattern\":{\"fillmode\":\"overlay\",\"size\":10,\"solidity\":0.2}},\"type\":\"bar\"}],\"scattergeo\":[{\"type\":\"scattergeo\",\"marker\":{\"colorbar\":{\"outlinewidth\":0,\"ticks\":\"\"}}}],\"scatterpolar\":[{\"type\":\"scatterpolar\",\"marker\":{\"colorbar\":{\"outlinewidth\":0,\"ticks\":\"\"}}}],\"histogram\":[{\"marker\":{\"pattern\":{\"fillmode\":\"overlay\",\"size\":10,\"solidity\":0.2}},\"type\":\"histogram\"}],\"scattergl\":[{\"type\":\"scattergl\",\"marker\":{\"colorbar\":{\"outlinewidth\":0,\"ticks\":\"\"}}}],\"scatter3d\":[{\"type\":\"scatter3d\",\"line\":{\"colorbar\":{\"outlinewidth\":0,\"ticks\":\"\"}},\"marker\":{\"colorbar\":{\"outlinewidth\":0,\"ticks\":\"\"}}}],\"scattermapbox\":[{\"type\":\"scattermapbox\",\"marker\":{\"colorbar\":{\"outlinewidth\":0,\"ticks\":\"\"}}}],\"scatterternary\":[{\"type\":\"scatterternary\",\"marker\":{\"colorbar\":{\"outlinewidth\":0,\"ticks\":\"\"}}}],\"scattercarpet\":[{\"type\":\"scattercarpet\",\"marker\":{\"colorbar\":{\"outlinewidth\":0,\"ticks\":\"\"}}}],\"carpet\":[{\"aaxis\":{\"endlinecolor\":\"#2a3f5f\",\"gridcolor\":\"white\",\"linecolor\":\"white\",\"minorgridcolor\":\"white\",\"startlinecolor\":\"#2a3f5f\"},\"baxis\":{\"endlinecolor\":\"#2a3f5f\",\"gridcolor\":\"white\",\"linecolor\":\"white\",\"minorgridcolor\":\"white\",\"startlinecolor\":\"#2a3f5f\"},\"type\":\"carpet\"}],\"table\":[{\"cells\":{\"fill\":{\"color\":\"#EBF0F8\"},\"line\":{\"color\":\"white\"}},\"header\":{\"fill\":{\"color\":\"#C8D4E3\"},\"line\":{\"color\":\"white\"}},\"type\":\"table\"}],\"barpolar\":[{\"marker\":{\"line\":{\"color\":\"#E5ECF6\",\"width\":0.5},\"pattern\":{\"fillmode\":\"overlay\",\"size\":10,\"solidity\":0.2}},\"type\":\"barpolar\"}],\"pie\":[{\"automargin\":true,\"type\":\"pie\"}]},\"layout\":{\"autotypenumbers\":\"strict\",\"colorway\":[\"#636efa\",\"#EF553B\",\"#00cc96\",\"#ab63fa\",\"#FFA15A\",\"#19d3f3\",\"#FF6692\",\"#B6E880\",\"#FF97FF\",\"#FECB52\"],\"font\":{\"color\":\"#2a3f5f\"},\"hovermode\":\"closest\",\"hoverlabel\":{\"align\":\"left\"},\"paper_bgcolor\":\"white\",\"plot_bgcolor\":\"#E5ECF6\",\"polar\":{\"bgcolor\":\"#E5ECF6\",\"angularaxis\":{\"gridcolor\":\"white\",\"linecolor\":\"white\",\"ticks\":\"\"},\"radialaxis\":{\"gridcolor\":\"white\",\"linecolor\":\"white\",\"ticks\":\"\"}},\"ternary\":{\"bgcolor\":\"#E5ECF6\",\"aaxis\":{\"gridcolor\":\"white\",\"linecolor\":\"white\",\"ticks\":\"\"},\"baxis\":{\"gridcolor\":\"white\",\"linecolor\":\"white\",\"ticks\":\"\"},\"caxis\":{\"gridcolor\":\"white\",\"linecolor\":\"white\",\"ticks\":\"\"}},\"coloraxis\":{\"colorbar\":{\"outlinewidth\":0,\"ticks\":\"\"}},\"colorscale\":{\"sequential\":[[0.0,\"#0d0887\"],[0.1111111111111111,\"#46039f\"],[0.2222222222222222,\"#7201a8\"],[0.3333333333333333,\"#9c179e\"],[0.4444444444444444,\"#bd3786\"],[0.5555555555555556,\"#d8576b\"],[0.6666666666666666,\"#ed7953\"],[0.7777777777777778,\"#fb9f3a\"],[0.8888888888888888,\"#fdca26\"],[1.0,\"#f0f921\"]],\"sequentialminus\":[[0.0,\"#0d0887\"],[0.1111111111111111,\"#46039f\"],[0.2222222222222222,\"#7201a8\"],[0.3333333333333333,\"#9c179e\"],[0.4444444444444444,\"#bd3786\"],[0.5555555555555556,\"#d8576b\"],[0.6666666666666666,\"#ed7953\"],[0.7777777777777778,\"#fb9f3a\"],[0.8888888888888888,\"#fdca26\"],[1.0,\"#f0f921\"]],\"diverging\":[[0,\"#8e0152\"],[0.1,\"#c51b7d\"],[0.2,\"#de77ae\"],[0.3,\"#f1b6da\"],[0.4,\"#fde0ef\"],[0.5,\"#f7f7f7\"],[0.6,\"#e6f5d0\"],[0.7,\"#b8e186\"],[0.8,\"#7fbc41\"],[0.9,\"#4d9221\"],[1,\"#276419\"]]},\"xaxis\":{\"gridcolor\":\"white\",\"linecolor\":\"white\",\"ticks\":\"\",\"title\":{\"standoff\":15},\"zerolinecolor\":\"white\",\"automargin\":true,\"zerolinewidth\":2},\"yaxis\":{\"gridcolor\":\"white\",\"linecolor\":\"white\",\"ticks\":\"\",\"title\":{\"standoff\":15},\"zerolinecolor\":\"white\",\"automargin\":true,\"zerolinewidth\":2},\"scene\":{\"xaxis\":{\"backgroundcolor\":\"#E5ECF6\",\"gridcolor\":\"white\",\"linecolor\":\"white\",\"showbackground\":true,\"ticks\":\"\",\"zerolinecolor\":\"white\",\"gridwidth\":2},\"yaxis\":{\"backgroundcolor\":\"#E5ECF6\",\"gridcolor\":\"white\",\"linecolor\":\"white\",\"showbackground\":true,\"ticks\":\"\",\"zerolinecolor\":\"white\",\"gridwidth\":2},\"zaxis\":{\"backgroundcolor\":\"#E5ECF6\",\"gridcolor\":\"white\",\"linecolor\":\"white\",\"showbackground\":true,\"ticks\":\"\",\"zerolinecolor\":\"white\",\"gridwidth\":2}},\"shapedefaults\":{\"line\":{\"color\":\"#2a3f5f\"}},\"annotationdefaults\":{\"arrowcolor\":\"#2a3f5f\",\"arrowhead\":0,\"arrowwidth\":1},\"geo\":{\"bgcolor\":\"white\",\"landcolor\":\"#E5ECF6\",\"subunitcolor\":\"white\",\"showland\":true,\"showlakes\":true,\"lakecolor\":\"white\"},\"title\":{\"x\":0.05},\"mapbox\":{\"style\":\"light\"}}},\"xaxis\":{\"anchor\":\"y\",\"domain\":[0.0,1.0],\"scaleanchor\":\"y\",\"constrain\":\"domain\"},\"yaxis\":{\"anchor\":\"x\",\"domain\":[0.0,1.0],\"autorange\":\"reversed\",\"constrain\":\"domain\"},\"coloraxis\":{\"colorscale\":[[0.0,\"#0d0887\"],[0.1111111111111111,\"#46039f\"],[0.2222222222222222,\"#7201a8\"],[0.3333333333333333,\"#9c179e\"],[0.4444444444444444,\"#bd3786\"],[0.5555555555555556,\"#d8576b\"],[0.6666666666666666,\"#ed7953\"],[0.7777777777777778,\"#fb9f3a\"],[0.8888888888888888,\"#fdca26\"],[1.0,\"#f0f921\"]]},\"margin\":{\"t\":60},\"title\":{\"text\":\"Number of Email Acocunts Created in Millions\"}},                        {\"responsive\": true}                    ).then(function(){\n",
       "                            \n",
       "var gd = document.getElementById('6288c607-2e73-4c0d-98ff-3b590223d4e9');\n",
       "var x = new MutationObserver(function (mutations, observer) {{\n",
       "        var display = window.getComputedStyle(gd).display;\n",
       "        if (!display || display === 'none') {{\n",
       "            console.log([gd, 'removed!']);\n",
       "            Plotly.purge(gd);\n",
       "            observer.disconnect();\n",
       "        }}\n",
       "}});\n",
       "\n",
       "// Listen for the removal of the full notebook cells\n",
       "var notebookContainer = gd.closest('#notebook-container');\n",
       "if (notebookContainer) {{\n",
       "    x.observe(notebookContainer, {childList: true});\n",
       "}}\n",
       "\n",
       "// Listen for the clearing of the current output cell\n",
       "var outputEl = gd.closest('.output');\n",
       "if (outputEl) {{\n",
       "    x.observe(outputEl, {childList: true});\n",
       "}}\n",
       "\n",
       "                        })                };                });            </script>        </div>"
      ]
     },
     "metadata": {},
     "output_type": "display_data"
    }
   ],
   "source": [
    "import plotly.express as px\n",
    "import pandas as pd\n",
    "\n",
    "# assuming your data is in a pandas DataFrame called 'df'\n",
    "fig = px.imshow(EmailAccounts.corr(), x=EmailAccounts.columns, y=EmailAccounts.columns)\n",
    "\n",
    "fig.update_layout(title='Number of Email Acocunts Created in Millions')\n",
    "\n",
    "fig.show()"
   ]
  },
  {
   "cell_type": "markdown",
   "id": "0847bde2",
   "metadata": {},
   "source": [
    "### Computer Purchases"
   ]
  },
  {
   "cell_type": "code",
   "execution_count": 10,
   "id": "16b7025a",
   "metadata": {
    "scrolled": true
   },
   "outputs": [
    {
     "name": "stdout",
     "output_type": "stream",
     "text": [
      "[('1960-01-01', '0'), ('1961-01-01', '.'), ('1962-01-01', '.'), ('1963-01-01', '.'), ('1964-01-01', '.'), ('1965-01-01', '0'), ('1966-01-01', '.'), ('1967-01-01', '.'), ('1968-01-01', '.'), ('1969-01-01', '.'), ('1970-01-01', '0'), ('1971-01-01', '.'), ('1972-01-01', '.'), ('1973-01-01', '.'), ('1974-01-01', '.'), ('1975-01-01', '0'), ('1976-01-01', '0'), ('1977-01-01', '0'), ('1978-01-01', '0'), ('1979-01-01', '0'), ('1980-01-01', '0'), ('1981-01-01', '.'), ('1982-01-01', '.'), ('1983-01-01', '.'), ('1984-01-01', '0.039352779'), ('1985-01-01', '0.14468149'), ('1986-01-01', '0.28706876'), ('1987-01-01', '0.513170208'), ('1988-01-01', '0.854125086'), ('1989-01-01', '1.432490449'), ('1990-01-01', '2.129545117'), ('1991-01-01', '3.004111275'), ('1992-01-01', '4.323596882'), ('1993-01-01', '6.186519908'), ('1994-01-01', '9.202002036'), ('1995-01-01', '12.71760532'), ('1996-01-01', '16.37381226'), ('1997-01-01', '20.30588082'), ('1998-01-01', '25.09083926'), ('1999-01-01', '30.82116044'), ('2000-01-01', '38.76720665'), ('2001-01-01', '45.01340879'), ('2002-01-01', '49.17630521'), ('2003-01-01', '55.18089359'), ('2004-01-01', '62.87475074'), ('2005-01-01', '68.62220987'), ('2006-01-01', '76.59637266'), ('2007-01-01', '82.34696473'), ('2008-01-01', '85.47738005'), ('2009-01-01', '88.90512135'), ('2010-01-01', '91.6239454'), ('2011-01-01', '94.75188415'), ('2012-01-01', '96.26929679'), ('2013-01-01', '97.28308055'), ('2014-01-01', '100.1748375'), ('2015-01-01', '102.3083933'), ('2016-01-01', '103.3702501'), ('2017-01-01', '103.1297891'), ('2018-01-01', '104.847944'), ('2019-01-01', '106.4140195'), ('2020-01-01', '104.9353748'), ('2021-01-01', '107.3055043')]\n"
     ]
    }
   ],
   "source": [
    "conn = sqlite3.connect('Projectdata.db')\n",
    "cursor = conn.cursor()\n",
    "\n",
    "cursor.execute('SELECT * FROM purchases')\n",
    "ComputerSales = cursor.fetchall()\n",
    "print(ComputerSales)\n",
    "\n",
    "cursor.close()\n",
    "conn.close()"
   ]
  },
  {
   "cell_type": "code",
   "execution_count": 70,
   "id": "0bbbc751",
   "metadata": {},
   "outputs": [],
   "source": [
    "conn = sqlite3.connect('Projectdata.db')\n",
    "\n",
    "# Execute a SQL query to retrieve the data as a list\n",
    "cursor = conn.cursor()\n",
    "cursor.execute('SELECT * FROM purchases')\n",
    "data = cursor.fetchall()\n",
    "\n",
    "# Convert the list to a pandas DataFrame\n",
    "ComputerPurchases = pd.DataFrame(data, columns=['Year', 'ComputerPurchases'])\n",
    "\n",
    "# Close the cursor and the connection to the database\n",
    "cursor.close()\n",
    "conn.close()"
   ]
  },
  {
   "cell_type": "code",
   "execution_count": 96,
   "id": "8e5c0daa",
   "metadata": {
    "scrolled": false
   },
   "outputs": [
    {
     "data": {
      "text/html": [
       "<div>\n",
       "<style scoped>\n",
       "    .dataframe tbody tr th:only-of-type {\n",
       "        vertical-align: middle;\n",
       "    }\n",
       "\n",
       "    .dataframe tbody tr th {\n",
       "        vertical-align: top;\n",
       "    }\n",
       "\n",
       "    .dataframe thead th {\n",
       "        text-align: right;\n",
       "    }\n",
       "</style>\n",
       "<table border=\"1\" class=\"dataframe\">\n",
       "  <thead>\n",
       "    <tr style=\"text-align: right;\">\n",
       "      <th></th>\n",
       "      <th>Year</th>\n",
       "      <th>ComputerPurchases</th>\n",
       "    </tr>\n",
       "  </thead>\n",
       "  <tbody>\n",
       "    <tr>\n",
       "      <th>57</th>\n",
       "      <td>2017</td>\n",
       "      <td>103.129789</td>\n",
       "    </tr>\n",
       "    <tr>\n",
       "      <th>58</th>\n",
       "      <td>2018</td>\n",
       "      <td>104.847944</td>\n",
       "    </tr>\n",
       "    <tr>\n",
       "      <th>59</th>\n",
       "      <td>2019</td>\n",
       "      <td>106.414019</td>\n",
       "    </tr>\n",
       "    <tr>\n",
       "      <th>60</th>\n",
       "      <td>2020</td>\n",
       "      <td>104.935375</td>\n",
       "    </tr>\n",
       "    <tr>\n",
       "      <th>61</th>\n",
       "      <td>2021</td>\n",
       "      <td>107.305504</td>\n",
       "    </tr>\n",
       "  </tbody>\n",
       "</table>\n",
       "</div>"
      ],
      "text/plain": [
       "    Year  ComputerPurchases\n",
       "57  2017         103.129789\n",
       "58  2018         104.847944\n",
       "59  2019         106.414019\n",
       "60  2020         104.935375\n",
       "61  2021         107.305504"
      ]
     },
     "execution_count": 96,
     "metadata": {},
     "output_type": "execute_result"
    }
   ],
   "source": [
    "ComputerPurchases.head(50)"
   ]
  },
  {
   "cell_type": "markdown",
   "id": "840afc94",
   "metadata": {},
   "source": [
    "### What we see in the computer purchase visual below is a constant increase in computer purchases trending upwards that likens to the number of email accounts and cell phone purchases over time."
   ]
  },
  {
   "cell_type": "code",
   "execution_count": 98,
   "id": "bef53843",
   "metadata": {},
   "outputs": [
    {
     "data": {
      "image/png": "[encoded data removed]",
      "text/plain": [
       "<Figure size 640x480 with 1 Axes>"
      ]
     },
     "metadata": {},
     "output_type": "display_data"
    }
   ],
   "source": [
    "import seaborn as sns\n",
    "import pandas as pd\n",
    "\n",
    "sns.scatterplot(data=ComputerPurchases, x='ComputerPurchases', y='Year')\n",
    "\n",
    "plt.title('Number of Computer Purchases Over Time')\n",
    "plt.xlabel('Number of Computers Purchased in Tens of Thousands')\n",
    "plt.ylabel('US in Years')\n",
    "plt.show()"
   ]
  },
  {
   "cell_type": "markdown",
   "id": "9cb4bf1f",
   "metadata": {},
   "source": [
    "### I just want to take a moment to visualize the rate of computer purchases and email accounts created over time for some additional context. \n",
    "#### What we see below is the popularity of having an email account did not pick up until the 2010s. This is telling and correlates that the number of email acocunts increased as computer sales increased."
   ]
  },
  {
   "cell_type": "code",
   "execution_count": 103,
   "id": "f638b54f",
   "metadata": {},
   "outputs": [
    {
     "data": {
      "image/png": "[encoded data removed]",
      "text/plain": [
       "<Figure size 640x480 with 1 Axes>"
      ]
     },
     "metadata": {},
     "output_type": "display_data"
    }
   ],
   "source": [
    "plt.plot(merged_data['Year'], merged_data['EmailAccounts'], label='EmailAccounts')\n",
    "plt.plot(merged_data['Year'], merged_data['ComputerPurchases'], label='ComputerPurchases')\n",
    "\n",
    "# Add chart title and labels\n",
    "plt.title('Comparison of EmailAccounts and ComputerPurchases by Year')\n",
    "plt.xlabel('Year')\n",
    "plt.ylabel('Number of Accounts/Purchases')\n",
    "\n",
    "# Add legend\n",
    "plt.legend()\n",
    "\n",
    "# Show chart\n",
    "plt.show()"
   ]
  },
  {
   "cell_type": "code",
   "execution_count": 100,
   "id": "4c25417a",
   "metadata": {},
   "outputs": [],
   "source": [
    "merged_data = pd.merge(EmailAccounts, ComputerPurchases, on='Year')"
   ]
  },
  {
   "cell_type": "code",
   "execution_count": 101,
   "id": "36040a70",
   "metadata": {},
   "outputs": [
    {
     "data": {
      "text/html": [
       "<div>\n",
       "<style scoped>\n",
       "    .dataframe tbody tr th:only-of-type {\n",
       "        vertical-align: middle;\n",
       "    }\n",
       "\n",
       "    .dataframe tbody tr th {\n",
       "        vertical-align: top;\n",
       "    }\n",
       "\n",
       "    .dataframe thead th {\n",
       "        text-align: right;\n",
       "    }\n",
       "</style>\n",
       "<table border=\"1\" class=\"dataframe\">\n",
       "  <thead>\n",
       "    <tr style=\"text-align: right;\">\n",
       "      <th></th>\n",
       "      <th>Year</th>\n",
       "      <th>EmailAccounts</th>\n",
       "      <th>ComputerPurchases</th>\n",
       "    </tr>\n",
       "  </thead>\n",
       "  <tbody>\n",
       "    <tr>\n",
       "      <th>0</th>\n",
       "      <td>2018.0</td>\n",
       "      <td>3823.0</td>\n",
       "      <td>104.847944</td>\n",
       "    </tr>\n",
       "    <tr>\n",
       "      <th>1</th>\n",
       "      <td>2019.0</td>\n",
       "      <td>3930.0</td>\n",
       "      <td>106.414019</td>\n",
       "    </tr>\n",
       "    <tr>\n",
       "      <th>2</th>\n",
       "      <td>2020.0</td>\n",
       "      <td>4037.0</td>\n",
       "      <td>104.935375</td>\n",
       "    </tr>\n",
       "    <tr>\n",
       "      <th>3</th>\n",
       "      <td>2021.0</td>\n",
       "      <td>4147.0</td>\n",
       "      <td>107.305504</td>\n",
       "    </tr>\n",
       "  </tbody>\n",
       "</table>\n",
       "</div>"
      ],
      "text/plain": [
       "     Year  EmailAccounts  ComputerPurchases\n",
       "0  2018.0         3823.0         104.847944\n",
       "1  2019.0         3930.0         106.414019\n",
       "2  2020.0         4037.0         104.935375\n",
       "3  2021.0         4147.0         107.305504"
      ]
     },
     "execution_count": 101,
     "metadata": {},
     "output_type": "execute_result"
    }
   ],
   "source": [
    "merged_data"
   ]
  },
  {
   "cell_type": "markdown",
   "id": "3bc7ceaa",
   "metadata": {},
   "source": [
    "### For our final visualization let's take a look at the number of email accounts and computer purchases for the last 6 years. "
   ]
  },
  {
   "cell_type": "code",
   "execution_count": 107,
   "id": "7dc055a2",
   "metadata": {},
   "outputs": [
    {
     "data": {
      "image/png": "[encoded data removed]",
      "text/plain": [
       "<Figure size 640x480 with 1 Axes>"
      ]
     },
     "metadata": {},
     "output_type": "display_data"
    }
   ],
   "source": [
    "# Create scatter plot\n",
    "plt.scatter(merged_data['EmailAccounts'], merged_data['ComputerPurchases'])\n",
    "plt.plot(merged_data['EmailAccounts'], merged_data['ComputerPurchases'], color='red')\n",
    "\n",
    "# Add chart title and labels\n",
    "plt.title('Comparison of EmailAccounts and ComputerPurchases by Year')\n",
    "plt.xlabel('EmailAccounts')\n",
    "plt.ylabel('ComputerPurchases')\n",
    "\n",
    "# Show chart\n",
    "plt.show()"
   ]
  },
  {
   "cell_type": "markdown",
   "id": "ac66ebdb",
   "metadata": {},
   "source": [
    "### Conclusion\n",
    "When computer sales are high, the number of email accounts created trends up. \n",
    "\n",
    "I learned a ton during this project and had an equal amount of fun. I needed to master sqlite3 and database creation so that I can effectively manage and store massive datasets. SQLite3's database creation, modification, and querying features make it easy to store, retrieve, and organize information. Knowledge of database and table design is also important for ensuring that information is stored and organized sensibly in relation to the issue I'm addressing. The ability to manage and secure data is invaluable when building data-driven applications, which is where my expertise shines. \n",
    "\n",
    "To complete this project, I had to venture out into SQL. A language that I use at work in limited scope and with visual editors, but this project gave me more confidence in building a database and making more advance queries. Ethical data cleaning and EDA brought to light the responsibility we have as data sciencetist not to obscure or skew data. Completing the EDA process with an unbiased approach was tough, as we all have our 'lens' when manipulating data.    \n",
    "\n",
    "Second, the ability to make visual representations of data is critical in data science because it facilitates my communication of nuanced insights to a wide range of audiences in a straightforward manner. Data visualizations have helped me see trends and patterns in my data that I would not have noticed otherwise. Furthermore, I can generate numerous types of visualizations, including bar charts, histograms, scatter plots, and heatmaps, with the help of visualization tools like matplotlib and seaborn. The ability to explore data, spot trends, and predict outcomes is crucial for making decisions based on facts, and these tools make that possible. Having mastered these abilities, I will be an asset to any data-driven organization in which I am placed due to my ability to effectively convey insights and findings to stakeholders. "
   ]
  }
 ],
 "metadata": {
  "kernelspec": {
   "display_name": "Python 3 (ipykernel)",
   "language": "python",
   "name": "python3"
  },
  "language_info": {
   "codemirror_mode": {
    "name": "ipython",
    "version": 3
   },
   "file_extension": ".py",
   "mimetype": "text/x-python",
   "name": "python",
   "nbconvert_exporter": "python",
   "pygments_lexer": "ipython3",
   "version": "3.9.13"
  }
 },
 "nbformat": 4,
 "nbformat_minor": 5
}
